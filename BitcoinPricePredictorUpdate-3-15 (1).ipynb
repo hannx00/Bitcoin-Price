{
 "cells": [
  {
   "cell_type": "markdown",
   "metadata": {},
   "source": [
    "\n",
    "https://github.com/Ajaypal91/Predicting-Price-of-Cryptocurrency"
   ]
  },
  {
   "cell_type": "markdown",
   "metadata": {},
   "source": [
    "# Bitcoin Price Predictor"
   ]
  },
  {
   "cell_type": "markdown",
   "metadata": {},
   "source": [
    "# Background\n",
    "\n",
    "1.) bitcoin and gold are sort of like alternative forms of currency when people are afraid of the dollar being worth less...2.) TSLA and Cyptocurrencies both represent an investement in technology and the future of it, ie electric cars, and batteris ect. 2.) Ethereum is one of the top used other forms of crypto currency and that if bitcoin goes up then other people are adopting the idea decentralized money.\n",
    "\n",
    "<b> We want to see whether gold, Tesla stock price, ETH price, or a combination of the three best predict BTC price. </b>"
   ]
  },
  {
   "cell_type": "markdown",
   "metadata": {},
   "source": [
    "# Hypothesis\n",
    "\n",
    "We predict that TSLA and ETH best predict BTC price."
   ]
  },
  {
   "cell_type": "markdown",
   "metadata": {},
   "source": [
    "# Analysis"
   ]
  },
  {
   "cell_type": "code",
   "execution_count": 70,
   "metadata": {},
   "outputs": [],
   "source": [
    "import matplotlib.pyplot as plt\n",
    "import numpy as np\n",
    "import pandas as pd\n",
    "from sklearn.linear_model import LinearRegression\n",
    "%matplotlib inline\n",
    "import sklearn\n",
    "from sklearn.model_selection import train_test_split\n",
    "from sklearn.preprocessing import MinMaxScaler\n",
    "from sklearn.preprocessing import PolynomialFeatures\n",
    "from sklearn.preprocessing import scale\n",
    "from sklearn.feature_selection import RFE\n",
    "from sklearn.linear_model import LinearRegression\n",
    "from sklearn.model_selection import cross_val_score\n",
    "from sklearn.model_selection import KFold\n",
    "from sklearn.model_selection import GridSearchCV\n",
    "from sklearn.pipeline import make_pipeline\n",
    "from sklearn.metrics import mean_squared_error\n",
    "\n",
    "import numpy as np\n",
    "import pandas as pd\n",
    "import matplotlib.pyplot as plt \n",
    "import seaborn as sns\n",
    "import re\n",
    "\n",
    "\n",
    "import pandas as pd\n",
    "import numpy as np\n",
    "from sklearn import svm\n",
    "from sklearn import datasets, linear_model\n",
    "from sklearn.metrics import accuracy_score\n",
    "import matplotlib\n",
    "import matplotlib.pyplot as plt\n",
    "\n",
    "import datetime\n",
    "import sys\n",
    "import scipy\n",
    "\n",
    "import numpy as np\n",
    "import pandas as pd\n",
    "from pandas.api.types import CategoricalDtype\n",
    "from scipy import stats\n",
    "import statsmodels.api as sm\n",
    "import statsmodels.formula.api as smf\n",
    "from statsmodels.stats.outliers_influence import summary_table # confidence intervall\n",
    "import matplotlib.pyplot as plt\n",
    "%matplotlib inline \n",
    "plt.style.use('ggplot') \n",
    "import seaborn as sns  \n",
    "sns.set() \n",
    "from IPython.display import Image"
   ]
  },
  {
   "cell_type": "markdown",
   "metadata": {},
   "source": [
    "### Read in Datasets"
   ]
  },
  {
   "cell_type": "code",
   "execution_count": 71,
   "metadata": {},
   "outputs": [],
   "source": [
    "#Bitcoin and Altcoin Data all from the same Data Set\n",
    "coin_Aave = pd.read_csv('coin_Aave.csv')\n",
    "coin_BinanceCoin = pd.read_csv('coin_BinanceCoin.csv')\n",
    "coin_BinanceCoin = pd.read_csv('coin_BinanceCoin.csv')\n",
    "coin_Bitcoin = pd.read_csv('coin_Bitcoin.csv')\n",
    "coin_Cardano = pd.read_csv('coin_Cardano.csv')\n",
    "coin_ChainLink = pd.read_csv('coin_ChainLink.csv')\n",
    "coin_Cosmos = pd.read_csv('coin_Cosmos.csv')\n",
    "coin_CryptocomCoin = pd.read_csv('coin_CryptocomCoin.csv')\n",
    "coin_Dogecoin = pd.read_csv('coin_Dogecoin.csv')\n",
    "coin_EOS = pd.read_csv('coin_EOS.csv')\n",
    "coin_Ethereum = pd.read_csv('coin_Ethereum.csv')\n",
    "coin_Iota = pd.read_csv('coin_Iota.csv')\n",
    "coin_Litecoin = pd.read_csv('coin_Litecoin.csv')\n",
    "coin_Monero = pd.read_csv('coin_Monero.csv')\n",
    "coin_NEM = pd.read_csv('coin_NEM.csv')\n",
    "coin_Polkadot = pd.read_csv('coin_Polkadot.csv')\n",
    "coin_Solana = pd.read_csv('coin_Solana.csv')\n",
    "coin_Stellar = pd.read_csv('coin_Stellar.csv')\n",
    "coin_Tether = pd.read_csv('coin_Tether.csv')\n",
    "coin_Tron = pd.read_csv('coin_Tron.csv')\n",
    "coin_Uniswap = pd.read_csv('coin_Uniswap.csv')\n",
    "coin_WrappedBitcoin = pd.read_csv('coin_WrappedBitcoin.csv')\n",
    "coin_USDCoin = pd.read_csv('coin_USDCoin.csv')\n",
    "coin_XRP = pd.read_csv('coin_XRP.csv')\n",
    "\n",
    "#This is a seperate Alt coin,\n",
    "coin_drgn = pd.read_csv('price_drgn.csv')\n",
    "\n",
    "#This is Monthly Gold Prices\n",
    "gold = pd.read_csv('monthly_gold_prices.csv')\n",
    "\n",
    "# Tesla Stock \n",
    "tsla = pd.read_csv(\"TSLA.csv\")\n",
    "tsla_2020 = pd.read_csv('TSLA-2020.csv')"
   ]
  },
  {
   "cell_type": "markdown",
   "metadata": {},
   "source": [
    "### Explore the Data"
   ]
  },
  {
   "cell_type": "code",
   "execution_count": 72,
   "metadata": {},
   "outputs": [
    {
     "data": {
      "text/html": [
       "<div>\n",
       "<style scoped>\n",
       "    .dataframe tbody tr th:only-of-type {\n",
       "        vertical-align: middle;\n",
       "    }\n",
       "\n",
       "    .dataframe tbody tr th {\n",
       "        vertical-align: top;\n",
       "    }\n",
       "\n",
       "    .dataframe thead th {\n",
       "        text-align: right;\n",
       "    }\n",
       "</style>\n",
       "<table border=\"1\" class=\"dataframe\">\n",
       "  <thead>\n",
       "    <tr style=\"text-align: right;\">\n",
       "      <th></th>\n",
       "      <th>SNo</th>\n",
       "      <th>Name</th>\n",
       "      <th>Symbol</th>\n",
       "      <th>Date</th>\n",
       "      <th>High</th>\n",
       "      <th>Low</th>\n",
       "      <th>Open</th>\n",
       "      <th>Close</th>\n",
       "      <th>Volume</th>\n",
       "      <th>Marketcap</th>\n",
       "    </tr>\n",
       "  </thead>\n",
       "  <tbody>\n",
       "    <tr>\n",
       "      <td>0</td>\n",
       "      <td>1</td>\n",
       "      <td>Bitcoin</td>\n",
       "      <td>BTC</td>\n",
       "      <td>2013-04-29 23:59:59</td>\n",
       "      <td>147.488007</td>\n",
       "      <td>134.000000</td>\n",
       "      <td>134.444000</td>\n",
       "      <td>144.539993</td>\n",
       "      <td>0.0</td>\n",
       "      <td>1.603769e+09</td>\n",
       "    </tr>\n",
       "    <tr>\n",
       "      <td>1</td>\n",
       "      <td>2</td>\n",
       "      <td>Bitcoin</td>\n",
       "      <td>BTC</td>\n",
       "      <td>2013-04-30 23:59:59</td>\n",
       "      <td>146.929993</td>\n",
       "      <td>134.050003</td>\n",
       "      <td>144.000000</td>\n",
       "      <td>139.000000</td>\n",
       "      <td>0.0</td>\n",
       "      <td>1.542813e+09</td>\n",
       "    </tr>\n",
       "    <tr>\n",
       "      <td>2</td>\n",
       "      <td>3</td>\n",
       "      <td>Bitcoin</td>\n",
       "      <td>BTC</td>\n",
       "      <td>2013-05-01 23:59:59</td>\n",
       "      <td>139.889999</td>\n",
       "      <td>107.720001</td>\n",
       "      <td>139.000000</td>\n",
       "      <td>116.989998</td>\n",
       "      <td>0.0</td>\n",
       "      <td>1.298955e+09</td>\n",
       "    </tr>\n",
       "    <tr>\n",
       "      <td>3</td>\n",
       "      <td>4</td>\n",
       "      <td>Bitcoin</td>\n",
       "      <td>BTC</td>\n",
       "      <td>2013-05-02 23:59:59</td>\n",
       "      <td>125.599998</td>\n",
       "      <td>92.281898</td>\n",
       "      <td>116.379997</td>\n",
       "      <td>105.209999</td>\n",
       "      <td>0.0</td>\n",
       "      <td>1.168517e+09</td>\n",
       "    </tr>\n",
       "    <tr>\n",
       "      <td>4</td>\n",
       "      <td>5</td>\n",
       "      <td>Bitcoin</td>\n",
       "      <td>BTC</td>\n",
       "      <td>2013-05-03 23:59:59</td>\n",
       "      <td>108.127998</td>\n",
       "      <td>79.099998</td>\n",
       "      <td>106.250000</td>\n",
       "      <td>97.750000</td>\n",
       "      <td>0.0</td>\n",
       "      <td>1.085995e+09</td>\n",
       "    </tr>\n",
       "  </tbody>\n",
       "</table>\n",
       "</div>"
      ],
      "text/plain": [
       "   SNo     Name Symbol                 Date        High         Low  \\\n",
       "0    1  Bitcoin    BTC  2013-04-29 23:59:59  147.488007  134.000000   \n",
       "1    2  Bitcoin    BTC  2013-04-30 23:59:59  146.929993  134.050003   \n",
       "2    3  Bitcoin    BTC  2013-05-01 23:59:59  139.889999  107.720001   \n",
       "3    4  Bitcoin    BTC  2013-05-02 23:59:59  125.599998   92.281898   \n",
       "4    5  Bitcoin    BTC  2013-05-03 23:59:59  108.127998   79.099998   \n",
       "\n",
       "         Open       Close  Volume     Marketcap  \n",
       "0  134.444000  144.539993     0.0  1.603769e+09  \n",
       "1  144.000000  139.000000     0.0  1.542813e+09  \n",
       "2  139.000000  116.989998     0.0  1.298955e+09  \n",
       "3  116.379997  105.209999     0.0  1.168517e+09  \n",
       "4  106.250000   97.750000     0.0  1.085995e+09  "
      ]
     },
     "execution_count": 72,
     "metadata": {},
     "output_type": "execute_result"
    }
   ],
   "source": [
    "# From the big dataset of altcoins and bitcoin prices\n",
    "coin_Bitcoin.head()"
   ]
  },
  {
   "cell_type": "code",
   "execution_count": 73,
   "metadata": {},
   "outputs": [
    {
     "data": {
      "text/html": [
       "<div>\n",
       "<style scoped>\n",
       "    .dataframe tbody tr th:only-of-type {\n",
       "        vertical-align: middle;\n",
       "    }\n",
       "\n",
       "    .dataframe tbody tr th {\n",
       "        vertical-align: top;\n",
       "    }\n",
       "\n",
       "    .dataframe thead th {\n",
       "        text-align: right;\n",
       "    }\n",
       "</style>\n",
       "<table border=\"1\" class=\"dataframe\">\n",
       "  <thead>\n",
       "    <tr style=\"text-align: right;\">\n",
       "      <th></th>\n",
       "      <th>SNo</th>\n",
       "      <th>Name</th>\n",
       "      <th>Symbol</th>\n",
       "      <th>Date</th>\n",
       "      <th>High</th>\n",
       "      <th>Low</th>\n",
       "      <th>Open</th>\n",
       "      <th>Close</th>\n",
       "      <th>Volume</th>\n",
       "      <th>Marketcap</th>\n",
       "    </tr>\n",
       "  </thead>\n",
       "  <tbody>\n",
       "    <tr>\n",
       "      <td>0</td>\n",
       "      <td>1</td>\n",
       "      <td>Ethereum</td>\n",
       "      <td>ETH</td>\n",
       "      <td>2015-08-08 23:59:59</td>\n",
       "      <td>2.798810</td>\n",
       "      <td>0.714725</td>\n",
       "      <td>2.793760</td>\n",
       "      <td>0.753325</td>\n",
       "      <td>674188.0</td>\n",
       "      <td>4.548689e+07</td>\n",
       "    </tr>\n",
       "    <tr>\n",
       "      <td>1</td>\n",
       "      <td>2</td>\n",
       "      <td>Ethereum</td>\n",
       "      <td>ETH</td>\n",
       "      <td>2015-08-09 23:59:59</td>\n",
       "      <td>0.879810</td>\n",
       "      <td>0.629191</td>\n",
       "      <td>0.706136</td>\n",
       "      <td>0.701897</td>\n",
       "      <td>532170.0</td>\n",
       "      <td>4.239957e+07</td>\n",
       "    </tr>\n",
       "    <tr>\n",
       "      <td>2</td>\n",
       "      <td>3</td>\n",
       "      <td>Ethereum</td>\n",
       "      <td>ETH</td>\n",
       "      <td>2015-08-10 23:59:59</td>\n",
       "      <td>0.729854</td>\n",
       "      <td>0.636546</td>\n",
       "      <td>0.713989</td>\n",
       "      <td>0.708448</td>\n",
       "      <td>405283.0</td>\n",
       "      <td>4.281836e+07</td>\n",
       "    </tr>\n",
       "    <tr>\n",
       "      <td>3</td>\n",
       "      <td>4</td>\n",
       "      <td>Ethereum</td>\n",
       "      <td>ETH</td>\n",
       "      <td>2015-08-11 23:59:59</td>\n",
       "      <td>1.131410</td>\n",
       "      <td>0.663235</td>\n",
       "      <td>0.708087</td>\n",
       "      <td>1.067860</td>\n",
       "      <td>1463100.0</td>\n",
       "      <td>6.456929e+07</td>\n",
       "    </tr>\n",
       "    <tr>\n",
       "      <td>4</td>\n",
       "      <td>5</td>\n",
       "      <td>Ethereum</td>\n",
       "      <td>ETH</td>\n",
       "      <td>2015-08-12 23:59:59</td>\n",
       "      <td>1.289940</td>\n",
       "      <td>0.883608</td>\n",
       "      <td>1.058750</td>\n",
       "      <td>1.217440</td>\n",
       "      <td>2150620.0</td>\n",
       "      <td>7.364501e+07</td>\n",
       "    </tr>\n",
       "  </tbody>\n",
       "</table>\n",
       "</div>"
      ],
      "text/plain": [
       "   SNo      Name Symbol                 Date      High       Low      Open  \\\n",
       "0    1  Ethereum    ETH  2015-08-08 23:59:59  2.798810  0.714725  2.793760   \n",
       "1    2  Ethereum    ETH  2015-08-09 23:59:59  0.879810  0.629191  0.706136   \n",
       "2    3  Ethereum    ETH  2015-08-10 23:59:59  0.729854  0.636546  0.713989   \n",
       "3    4  Ethereum    ETH  2015-08-11 23:59:59  1.131410  0.663235  0.708087   \n",
       "4    5  Ethereum    ETH  2015-08-12 23:59:59  1.289940  0.883608  1.058750   \n",
       "\n",
       "      Close     Volume     Marketcap  \n",
       "0  0.753325   674188.0  4.548689e+07  \n",
       "1  0.701897   532170.0  4.239957e+07  \n",
       "2  0.708448   405283.0  4.281836e+07  \n",
       "3  1.067860  1463100.0  6.456929e+07  \n",
       "4  1.217440  2150620.0  7.364501e+07  "
      ]
     },
     "execution_count": 73,
     "metadata": {},
     "output_type": "execute_result"
    }
   ],
   "source": [
    "coin_Ethereum.head()"
   ]
  },
  {
   "cell_type": "code",
   "execution_count": 74,
   "metadata": {},
   "outputs": [
    {
     "data": {
      "text/html": [
       "<div>\n",
       "<style scoped>\n",
       "    .dataframe tbody tr th:only-of-type {\n",
       "        vertical-align: middle;\n",
       "    }\n",
       "\n",
       "    .dataframe tbody tr th {\n",
       "        vertical-align: top;\n",
       "    }\n",
       "\n",
       "    .dataframe thead th {\n",
       "        text-align: right;\n",
       "    }\n",
       "</style>\n",
       "<table border=\"1\" class=\"dataframe\">\n",
       "  <thead>\n",
       "    <tr style=\"text-align: right;\">\n",
       "      <th></th>\n",
       "      <th>Date</th>\n",
       "      <th>Price</th>\n",
       "    </tr>\n",
       "  </thead>\n",
       "  <tbody>\n",
       "    <tr>\n",
       "      <td>0</td>\n",
       "      <td>1950-01</td>\n",
       "      <td>34.73</td>\n",
       "    </tr>\n",
       "    <tr>\n",
       "      <td>1</td>\n",
       "      <td>1950-02</td>\n",
       "      <td>34.73</td>\n",
       "    </tr>\n",
       "    <tr>\n",
       "      <td>2</td>\n",
       "      <td>1950-03</td>\n",
       "      <td>34.73</td>\n",
       "    </tr>\n",
       "    <tr>\n",
       "      <td>3</td>\n",
       "      <td>1950-04</td>\n",
       "      <td>34.73</td>\n",
       "    </tr>\n",
       "    <tr>\n",
       "      <td>4</td>\n",
       "      <td>1950-05</td>\n",
       "      <td>34.73</td>\n",
       "    </tr>\n",
       "  </tbody>\n",
       "</table>\n",
       "</div>"
      ],
      "text/plain": [
       "      Date  Price\n",
       "0  1950-01  34.73\n",
       "1  1950-02  34.73\n",
       "2  1950-03  34.73\n",
       "3  1950-04  34.73\n",
       "4  1950-05  34.73"
      ]
     },
     "execution_count": 74,
     "metadata": {},
     "output_type": "execute_result"
    }
   ],
   "source": [
    "gold.head()"
   ]
  },
  {
   "cell_type": "code",
   "execution_count": 75,
   "metadata": {},
   "outputs": [
    {
     "data": {
      "text/plain": [
       "(2862, 10)"
      ]
     },
     "execution_count": 75,
     "metadata": {},
     "output_type": "execute_result"
    }
   ],
   "source": [
    "# Check to see if the shapes match\n",
    "np.shape(coin_Bitcoin)"
   ]
  },
  {
   "cell_type": "code",
   "execution_count": 76,
   "metadata": {},
   "outputs": [
    {
     "data": {
      "text/plain": [
       "(2031, 10)"
      ]
     },
     "execution_count": 76,
     "metadata": {},
     "output_type": "execute_result"
    }
   ],
   "source": [
    "np.shape(coin_Ethereum)"
   ]
  },
  {
   "cell_type": "code",
   "execution_count": 77,
   "metadata": {},
   "outputs": [
    {
     "data": {
      "text/plain": [
       "(847, 2)"
      ]
     },
     "execution_count": 77,
     "metadata": {},
     "output_type": "execute_result"
    }
   ],
   "source": [
    "np.shape(gold)"
   ]
  },
  {
   "cell_type": "markdown",
   "metadata": {},
   "source": [
    "#### They dont match so we have to what dates we can have start and end that both datasets cover"
   ]
  },
  {
   "cell_type": "code",
   "execution_count": 78,
   "metadata": {},
   "outputs": [
    {
     "name": "stdout",
     "output_type": "stream",
     "text": [
      "Start : 2013-04-29 23:59:59\n",
      "End : 2860    2021-02-26 23:59:59\n",
      "Name: Date, dtype: object\n"
     ]
    }
   ],
   "source": [
    "# What date did the bitcoin data begin? What date did the bitcoin data end?\n",
    "print(\"Start : \" + str(coin_Bitcoin['Date'][0]))\n",
    "print (\"End : \" + str(coin_Bitcoin['Date'][len(coin_Bitcoin)-2:-1]))"
   ]
  },
  {
   "cell_type": "code",
   "execution_count": 79,
   "metadata": {},
   "outputs": [
    {
     "name": "stdout",
     "output_type": "stream",
     "text": [
      "Start : 2015-08-08 23:59:59\n",
      "End : 2029    2021-02-26 23:59:59\n",
      "Name: Date, dtype: object\n"
     ]
    }
   ],
   "source": [
    "# What date did the ethereum data start? When does it End?\n",
    "print(\"Start : \" + str(coin_Ethereum['Date'][0]))\n",
    "print (\"End : \" + str(coin_Ethereum['Date'][len(coin_Ethereum)-2:-1]))"
   ]
  },
  {
   "cell_type": "markdown",
   "metadata": {},
   "source": [
    "#### Find the index of start and end that fits Ethereum Data"
   ]
  },
  {
   "cell_type": "code",
   "execution_count": 80,
   "metadata": {},
   "outputs": [],
   "source": [
    "# # This is the code WORKED, and helped to find the index of the start and end date that fall on the same data as Ethereum \n",
    "\n",
    "# # So, now we need to make Ethereum and Bitcoin Data sets start and end on the same day. \n",
    "# # Since ethereum start later we need to find the index of then the bitcoin start on that day and cut the dataset down. \n",
    "# coin_Bitcoin['Date'].loc[coin_Bitcoin['Date'] == '2015-08-08 23:59:59']\n",
    "# coin_Bitcoin['Date'].loc[coin_Bitcoin['Date'] == '2021-02-18 23:59:59']\n",
    "# # Okay, so the index is 831, ad the end is 2852 lets cut to down to fit."
   ]
  },
  {
   "cell_type": "markdown",
   "metadata": {},
   "source": [
    "# BITCOIN"
   ]
  },
  {
   "cell_type": "code",
   "execution_count": 81,
   "metadata": {},
   "outputs": [
    {
     "data": {
      "text/html": [
       "<div>\n",
       "<style scoped>\n",
       "    .dataframe tbody tr th:only-of-type {\n",
       "        vertical-align: middle;\n",
       "    }\n",
       "\n",
       "    .dataframe tbody tr th {\n",
       "        vertical-align: top;\n",
       "    }\n",
       "\n",
       "    .dataframe thead th {\n",
       "        text-align: right;\n",
       "    }\n",
       "</style>\n",
       "<table border=\"1\" class=\"dataframe\">\n",
       "  <thead>\n",
       "    <tr style=\"text-align: right;\">\n",
       "      <th></th>\n",
       "      <th>SNo</th>\n",
       "      <th>Name</th>\n",
       "      <th>Symbol</th>\n",
       "      <th>Date</th>\n",
       "      <th>High</th>\n",
       "      <th>Low</th>\n",
       "      <th>Open</th>\n",
       "      <th>Close</th>\n",
       "      <th>Volume</th>\n",
       "      <th>Marketcap</th>\n",
       "    </tr>\n",
       "  </thead>\n",
       "  <tbody>\n",
       "    <tr>\n",
       "      <td>0</td>\n",
       "      <td>1</td>\n",
       "      <td>Bitcoin</td>\n",
       "      <td>BTC</td>\n",
       "      <td>2013-04-29 23:59:59</td>\n",
       "      <td>147.488007</td>\n",
       "      <td>134.000000</td>\n",
       "      <td>134.444000</td>\n",
       "      <td>144.539993</td>\n",
       "      <td>0.0</td>\n",
       "      <td>1.603769e+09</td>\n",
       "    </tr>\n",
       "    <tr>\n",
       "      <td>1</td>\n",
       "      <td>2</td>\n",
       "      <td>Bitcoin</td>\n",
       "      <td>BTC</td>\n",
       "      <td>2013-04-30 23:59:59</td>\n",
       "      <td>146.929993</td>\n",
       "      <td>134.050003</td>\n",
       "      <td>144.000000</td>\n",
       "      <td>139.000000</td>\n",
       "      <td>0.0</td>\n",
       "      <td>1.542813e+09</td>\n",
       "    </tr>\n",
       "    <tr>\n",
       "      <td>2</td>\n",
       "      <td>3</td>\n",
       "      <td>Bitcoin</td>\n",
       "      <td>BTC</td>\n",
       "      <td>2013-05-01 23:59:59</td>\n",
       "      <td>139.889999</td>\n",
       "      <td>107.720001</td>\n",
       "      <td>139.000000</td>\n",
       "      <td>116.989998</td>\n",
       "      <td>0.0</td>\n",
       "      <td>1.298955e+09</td>\n",
       "    </tr>\n",
       "    <tr>\n",
       "      <td>3</td>\n",
       "      <td>4</td>\n",
       "      <td>Bitcoin</td>\n",
       "      <td>BTC</td>\n",
       "      <td>2013-05-02 23:59:59</td>\n",
       "      <td>125.599998</td>\n",
       "      <td>92.281898</td>\n",
       "      <td>116.379997</td>\n",
       "      <td>105.209999</td>\n",
       "      <td>0.0</td>\n",
       "      <td>1.168517e+09</td>\n",
       "    </tr>\n",
       "    <tr>\n",
       "      <td>4</td>\n",
       "      <td>5</td>\n",
       "      <td>Bitcoin</td>\n",
       "      <td>BTC</td>\n",
       "      <td>2013-05-03 23:59:59</td>\n",
       "      <td>108.127998</td>\n",
       "      <td>79.099998</td>\n",
       "      <td>106.250000</td>\n",
       "      <td>97.750000</td>\n",
       "      <td>0.0</td>\n",
       "      <td>1.085995e+09</td>\n",
       "    </tr>\n",
       "  </tbody>\n",
       "</table>\n",
       "</div>"
      ],
      "text/plain": [
       "   SNo     Name Symbol                 Date        High         Low  \\\n",
       "0    1  Bitcoin    BTC  2013-04-29 23:59:59  147.488007  134.000000   \n",
       "1    2  Bitcoin    BTC  2013-04-30 23:59:59  146.929993  134.050003   \n",
       "2    3  Bitcoin    BTC  2013-05-01 23:59:59  139.889999  107.720001   \n",
       "3    4  Bitcoin    BTC  2013-05-02 23:59:59  125.599998   92.281898   \n",
       "4    5  Bitcoin    BTC  2013-05-03 23:59:59  108.127998   79.099998   \n",
       "\n",
       "         Open       Close  Volume     Marketcap  \n",
       "0  134.444000  144.539993     0.0  1.603769e+09  \n",
       "1  144.000000  139.000000     0.0  1.542813e+09  \n",
       "2  139.000000  116.989998     0.0  1.298955e+09  \n",
       "3  116.379997  105.209999     0.0  1.168517e+09  \n",
       "4  106.250000   97.750000     0.0  1.085995e+09  "
      ]
     },
     "execution_count": 81,
     "metadata": {},
     "output_type": "execute_result"
    }
   ],
   "source": [
    "coin_Bitcoin.head()"
   ]
  },
  {
   "cell_type": "code",
   "execution_count": 82,
   "metadata": {},
   "outputs": [
    {
     "data": {
      "text/html": [
       "<div>\n",
       "<style scoped>\n",
       "    .dataframe tbody tr th:only-of-type {\n",
       "        vertical-align: middle;\n",
       "    }\n",
       "\n",
       "    .dataframe tbody tr th {\n",
       "        vertical-align: top;\n",
       "    }\n",
       "\n",
       "    .dataframe thead th {\n",
       "        text-align: right;\n",
       "    }\n",
       "</style>\n",
       "<table border=\"1\" class=\"dataframe\">\n",
       "  <thead>\n",
       "    <tr style=\"text-align: right;\">\n",
       "      <th></th>\n",
       "      <th>Date</th>\n",
       "      <th>Close</th>\n",
       "    </tr>\n",
       "  </thead>\n",
       "  <tbody>\n",
       "    <tr>\n",
       "      <td>831</td>\n",
       "      <td>2015-08-08 23:59:59</td>\n",
       "      <td>260.997009</td>\n",
       "    </tr>\n",
       "    <tr>\n",
       "      <td>832</td>\n",
       "      <td>2015-08-09 23:59:59</td>\n",
       "      <td>265.083008</td>\n",
       "    </tr>\n",
       "    <tr>\n",
       "      <td>833</td>\n",
       "      <td>2015-08-10 23:59:59</td>\n",
       "      <td>264.470001</td>\n",
       "    </tr>\n",
       "    <tr>\n",
       "      <td>834</td>\n",
       "      <td>2015-08-11 23:59:59</td>\n",
       "      <td>270.385986</td>\n",
       "    </tr>\n",
       "    <tr>\n",
       "      <td>835</td>\n",
       "      <td>2015-08-12 23:59:59</td>\n",
       "      <td>266.376007</td>\n",
       "    </tr>\n",
       "    <tr>\n",
       "      <td>...</td>\n",
       "      <td>...</td>\n",
       "      <td>...</td>\n",
       "    </tr>\n",
       "    <tr>\n",
       "      <td>2847</td>\n",
       "      <td>2021-02-13 23:59:59</td>\n",
       "      <td>47105.517473</td>\n",
       "    </tr>\n",
       "    <tr>\n",
       "      <td>2848</td>\n",
       "      <td>2021-02-14 23:59:59</td>\n",
       "      <td>48717.290211</td>\n",
       "    </tr>\n",
       "    <tr>\n",
       "      <td>2849</td>\n",
       "      <td>2021-02-15 23:59:59</td>\n",
       "      <td>47945.056832</td>\n",
       "    </tr>\n",
       "    <tr>\n",
       "      <td>2850</td>\n",
       "      <td>2021-02-16 23:59:59</td>\n",
       "      <td>49199.871344</td>\n",
       "    </tr>\n",
       "    <tr>\n",
       "      <td>2851</td>\n",
       "      <td>2021-02-17 23:59:59</td>\n",
       "      <td>52149.007536</td>\n",
       "    </tr>\n",
       "  </tbody>\n",
       "</table>\n",
       "<p>2021 rows × 2 columns</p>\n",
       "</div>"
      ],
      "text/plain": [
       "                     Date         Close\n",
       "831   2015-08-08 23:59:59    260.997009\n",
       "832   2015-08-09 23:59:59    265.083008\n",
       "833   2015-08-10 23:59:59    264.470001\n",
       "834   2015-08-11 23:59:59    270.385986\n",
       "835   2015-08-12 23:59:59    266.376007\n",
       "...                   ...           ...\n",
       "2847  2021-02-13 23:59:59  47105.517473\n",
       "2848  2021-02-14 23:59:59  48717.290211\n",
       "2849  2021-02-15 23:59:59  47945.056832\n",
       "2850  2021-02-16 23:59:59  49199.871344\n",
       "2851  2021-02-17 23:59:59  52149.007536\n",
       "\n",
       "[2021 rows x 2 columns]"
      ]
     },
     "execution_count": 82,
     "metadata": {},
     "output_type": "execute_result"
    }
   ],
   "source": [
    "start_index = 831\n",
    "end_index = 2852\n",
    "\n",
    "#This creates a new dataframs of just the date and closing price of bitcoin\n",
    "coin_Bitcoin_Update = coin_Bitcoin[['Date','Close']].copy()\n",
    "# This matches the start and end dates of the ethereum data set\n",
    "coin_Bitcoin_Update = coin_Bitcoin_Update[start_index:end_index]\n",
    "\n",
    "coin_Bitcoin_Update"
   ]
  },
  {
   "cell_type": "code",
   "execution_count": 83,
   "metadata": {},
   "outputs": [
    {
     "data": {
      "text/html": [
       "<div>\n",
       "<style scoped>\n",
       "    .dataframe tbody tr th:only-of-type {\n",
       "        vertical-align: middle;\n",
       "    }\n",
       "\n",
       "    .dataframe tbody tr th {\n",
       "        vertical-align: top;\n",
       "    }\n",
       "\n",
       "    .dataframe thead th {\n",
       "        text-align: right;\n",
       "    }\n",
       "</style>\n",
       "<table border=\"1\" class=\"dataframe\">\n",
       "  <thead>\n",
       "    <tr style=\"text-align: right;\">\n",
       "      <th></th>\n",
       "      <th>Date</th>\n",
       "      <th>Close</th>\n",
       "    </tr>\n",
       "  </thead>\n",
       "  <tbody>\n",
       "    <tr>\n",
       "      <td>0</td>\n",
       "      <td>2015-08-31</td>\n",
       "      <td>241.751832</td>\n",
       "    </tr>\n",
       "    <tr>\n",
       "      <td>1</td>\n",
       "      <td>2015-09-30</td>\n",
       "      <td>233.595533</td>\n",
       "    </tr>\n",
       "    <tr>\n",
       "      <td>2</td>\n",
       "      <td>2015-10-31</td>\n",
       "      <td>264.855356</td>\n",
       "    </tr>\n",
       "    <tr>\n",
       "      <td>3</td>\n",
       "      <td>2015-11-30</td>\n",
       "      <td>348.883332</td>\n",
       "    </tr>\n",
       "    <tr>\n",
       "      <td>4</td>\n",
       "      <td>2015-12-31</td>\n",
       "      <td>424.464547</td>\n",
       "    </tr>\n",
       "    <tr>\n",
       "      <td>5</td>\n",
       "      <td>2016-01-31</td>\n",
       "      <td>410.844485</td>\n",
       "    </tr>\n",
       "    <tr>\n",
       "      <td>6</td>\n",
       "      <td>2016-02-29</td>\n",
       "      <td>404.408274</td>\n",
       "    </tr>\n",
       "    <tr>\n",
       "      <td>7</td>\n",
       "      <td>2016-03-31</td>\n",
       "      <td>416.525774</td>\n",
       "    </tr>\n",
       "    <tr>\n",
       "      <td>8</td>\n",
       "      <td>2016-04-30</td>\n",
       "      <td>434.339398</td>\n",
       "    </tr>\n",
       "    <tr>\n",
       "      <td>9</td>\n",
       "      <td>2016-05-31</td>\n",
       "      <td>461.954415</td>\n",
       "    </tr>\n",
       "    <tr>\n",
       "      <td>10</td>\n",
       "      <td>2016-06-30</td>\n",
       "      <td>642.869061</td>\n",
       "    </tr>\n",
       "    <tr>\n",
       "      <td>11</td>\n",
       "      <td>2016-07-31</td>\n",
       "      <td>661.356103</td>\n",
       "    </tr>\n",
       "    <tr>\n",
       "      <td>12</td>\n",
       "      <td>2016-08-31</td>\n",
       "      <td>579.585197</td>\n",
       "    </tr>\n",
       "    <tr>\n",
       "      <td>13</td>\n",
       "      <td>2016-09-30</td>\n",
       "      <td>605.848633</td>\n",
       "    </tr>\n",
       "    <tr>\n",
       "      <td>14</td>\n",
       "      <td>2016-10-31</td>\n",
       "      <td>643.550935</td>\n",
       "    </tr>\n",
       "    <tr>\n",
       "      <td>15</td>\n",
       "      <td>2016-11-30</td>\n",
       "      <td>726.349101</td>\n",
       "    </tr>\n",
       "    <tr>\n",
       "      <td>16</td>\n",
       "      <td>2016-12-31</td>\n",
       "      <td>828.060356</td>\n",
       "    </tr>\n",
       "    <tr>\n",
       "      <td>17</td>\n",
       "      <td>2017-01-31</td>\n",
       "      <td>914.916159</td>\n",
       "    </tr>\n",
       "    <tr>\n",
       "      <td>18</td>\n",
       "      <td>2017-02-28</td>\n",
       "      <td>1062.533672</td>\n",
       "    </tr>\n",
       "    <tr>\n",
       "      <td>19</td>\n",
       "      <td>2017-03-31</td>\n",
       "      <td>1129.365228</td>\n",
       "    </tr>\n",
       "    <tr>\n",
       "      <td>20</td>\n",
       "      <td>2017-04-30</td>\n",
       "      <td>1206.641007</td>\n",
       "    </tr>\n",
       "    <tr>\n",
       "      <td>21</td>\n",
       "      <td>2017-05-31</td>\n",
       "      <td>1895.383529</td>\n",
       "    </tr>\n",
       "    <tr>\n",
       "      <td>22</td>\n",
       "      <td>2017-06-30</td>\n",
       "      <td>2636.204346</td>\n",
       "    </tr>\n",
       "    <tr>\n",
       "      <td>23</td>\n",
       "      <td>2017-07-31</td>\n",
       "      <td>2519.418386</td>\n",
       "    </tr>\n",
       "    <tr>\n",
       "      <td>24</td>\n",
       "      <td>2017-08-31</td>\n",
       "      <td>3880.989998</td>\n",
       "    </tr>\n",
       "    <tr>\n",
       "      <td>25</td>\n",
       "      <td>2017-09-30</td>\n",
       "      <td>4064.836312</td>\n",
       "    </tr>\n",
       "    <tr>\n",
       "      <td>26</td>\n",
       "      <td>2017-10-31</td>\n",
       "      <td>5360.071604</td>\n",
       "    </tr>\n",
       "    <tr>\n",
       "      <td>27</td>\n",
       "      <td>2017-11-30</td>\n",
       "      <td>7813.132975</td>\n",
       "    </tr>\n",
       "    <tr>\n",
       "      <td>28</td>\n",
       "      <td>2017-12-31</td>\n",
       "      <td>15294.270980</td>\n",
       "    </tr>\n",
       "    <tr>\n",
       "      <td>29</td>\n",
       "      <td>2018-01-31</td>\n",
       "      <td>13085.558090</td>\n",
       "    </tr>\n",
       "    <tr>\n",
       "      <td>30</td>\n",
       "      <td>2018-02-28</td>\n",
       "      <td>9472.001151</td>\n",
       "    </tr>\n",
       "    <tr>\n",
       "      <td>31</td>\n",
       "      <td>2018-03-31</td>\n",
       "      <td>9040.557097</td>\n",
       "    </tr>\n",
       "    <tr>\n",
       "      <td>32</td>\n",
       "      <td>2018-04-30</td>\n",
       "      <td>8033.596631</td>\n",
       "    </tr>\n",
       "    <tr>\n",
       "      <td>33</td>\n",
       "      <td>2018-05-31</td>\n",
       "      <td>8450.997732</td>\n",
       "    </tr>\n",
       "    <tr>\n",
       "      <td>34</td>\n",
       "      <td>2018-06-30</td>\n",
       "      <td>6793.507666</td>\n",
       "    </tr>\n",
       "    <tr>\n",
       "      <td>35</td>\n",
       "      <td>2018-07-31</td>\n",
       "      <td>7146.349990</td>\n",
       "    </tr>\n",
       "    <tr>\n",
       "      <td>36</td>\n",
       "      <td>2018-08-31</td>\n",
       "      <td>6700.130000</td>\n",
       "    </tr>\n",
       "    <tr>\n",
       "      <td>37</td>\n",
       "      <td>2018-09-30</td>\n",
       "      <td>6610.675000</td>\n",
       "    </tr>\n",
       "    <tr>\n",
       "      <td>38</td>\n",
       "      <td>2018-10-31</td>\n",
       "      <td>6485.118710</td>\n",
       "    </tr>\n",
       "    <tr>\n",
       "      <td>39</td>\n",
       "      <td>2018-11-30</td>\n",
       "      <td>5404.250164</td>\n",
       "    </tr>\n",
       "    <tr>\n",
       "      <td>40</td>\n",
       "      <td>2018-12-31</td>\n",
       "      <td>3717.488319</td>\n",
       "    </tr>\n",
       "    <tr>\n",
       "      <td>41</td>\n",
       "      <td>2019-01-31</td>\n",
       "      <td>3701.554973</td>\n",
       "    </tr>\n",
       "    <tr>\n",
       "      <td>42</td>\n",
       "      <td>2019-02-28</td>\n",
       "      <td>3711.907276</td>\n",
       "    </tr>\n",
       "    <tr>\n",
       "      <td>43</td>\n",
       "      <td>2019-03-31</td>\n",
       "      <td>3976.069093</td>\n",
       "    </tr>\n",
       "    <tr>\n",
       "      <td>44</td>\n",
       "      <td>2019-04-30</td>\n",
       "      <td>5178.469425</td>\n",
       "    </tr>\n",
       "    <tr>\n",
       "      <td>45</td>\n",
       "      <td>2019-05-31</td>\n",
       "      <td>7309.694113</td>\n",
       "    </tr>\n",
       "    <tr>\n",
       "      <td>46</td>\n",
       "      <td>2019-06-30</td>\n",
       "      <td>9415.900144</td>\n",
       "    </tr>\n",
       "    <tr>\n",
       "      <td>47</td>\n",
       "      <td>2019-07-31</td>\n",
       "      <td>10669.336223</td>\n",
       "    </tr>\n",
       "    <tr>\n",
       "      <td>48</td>\n",
       "      <td>2019-08-31</td>\n",
       "      <td>10643.248393</td>\n",
       "    </tr>\n",
       "    <tr>\n",
       "      <td>49</td>\n",
       "      <td>2019-09-30</td>\n",
       "      <td>9814.067782</td>\n",
       "    </tr>\n",
       "    <tr>\n",
       "      <td>50</td>\n",
       "      <td>2019-10-31</td>\n",
       "      <td>8411.929149</td>\n",
       "    </tr>\n",
       "    <tr>\n",
       "      <td>51</td>\n",
       "      <td>2019-11-30</td>\n",
       "      <td>8373.572452</td>\n",
       "    </tr>\n",
       "    <tr>\n",
       "      <td>52</td>\n",
       "      <td>2019-12-31</td>\n",
       "      <td>7284.013046</td>\n",
       "    </tr>\n",
       "    <tr>\n",
       "      <td>53</td>\n",
       "      <td>2020-01-31</td>\n",
       "      <td>8389.270450</td>\n",
       "    </tr>\n",
       "    <tr>\n",
       "      <td>54</td>\n",
       "      <td>2020-02-29</td>\n",
       "      <td>9630.722211</td>\n",
       "    </tr>\n",
       "    <tr>\n",
       "      <td>55</td>\n",
       "      <td>2020-03-31</td>\n",
       "      <td>6871.016111</td>\n",
       "    </tr>\n",
       "    <tr>\n",
       "      <td>56</td>\n",
       "      <td>2020-04-30</td>\n",
       "      <td>7224.477345</td>\n",
       "    </tr>\n",
       "    <tr>\n",
       "      <td>57</td>\n",
       "      <td>2020-05-31</td>\n",
       "      <td>9263.151881</td>\n",
       "    </tr>\n",
       "    <tr>\n",
       "      <td>58</td>\n",
       "      <td>2020-06-30</td>\n",
       "      <td>9489.227163</td>\n",
       "    </tr>\n",
       "    <tr>\n",
       "      <td>59</td>\n",
       "      <td>2020-07-31</td>\n",
       "      <td>9589.899755</td>\n",
       "    </tr>\n",
       "  </tbody>\n",
       "</table>\n",
       "</div>"
      ],
      "text/plain": [
       "         Date         Close\n",
       "0  2015-08-31    241.751832\n",
       "1  2015-09-30    233.595533\n",
       "2  2015-10-31    264.855356\n",
       "3  2015-11-30    348.883332\n",
       "4  2015-12-31    424.464547\n",
       "5  2016-01-31    410.844485\n",
       "6  2016-02-29    404.408274\n",
       "7  2016-03-31    416.525774\n",
       "8  2016-04-30    434.339398\n",
       "9  2016-05-31    461.954415\n",
       "10 2016-06-30    642.869061\n",
       "11 2016-07-31    661.356103\n",
       "12 2016-08-31    579.585197\n",
       "13 2016-09-30    605.848633\n",
       "14 2016-10-31    643.550935\n",
       "15 2016-11-30    726.349101\n",
       "16 2016-12-31    828.060356\n",
       "17 2017-01-31    914.916159\n",
       "18 2017-02-28   1062.533672\n",
       "19 2017-03-31   1129.365228\n",
       "20 2017-04-30   1206.641007\n",
       "21 2017-05-31   1895.383529\n",
       "22 2017-06-30   2636.204346\n",
       "23 2017-07-31   2519.418386\n",
       "24 2017-08-31   3880.989998\n",
       "25 2017-09-30   4064.836312\n",
       "26 2017-10-31   5360.071604\n",
       "27 2017-11-30   7813.132975\n",
       "28 2017-12-31  15294.270980\n",
       "29 2018-01-31  13085.558090\n",
       "30 2018-02-28   9472.001151\n",
       "31 2018-03-31   9040.557097\n",
       "32 2018-04-30   8033.596631\n",
       "33 2018-05-31   8450.997732\n",
       "34 2018-06-30   6793.507666\n",
       "35 2018-07-31   7146.349990\n",
       "36 2018-08-31   6700.130000\n",
       "37 2018-09-30   6610.675000\n",
       "38 2018-10-31   6485.118710\n",
       "39 2018-11-30   5404.250164\n",
       "40 2018-12-31   3717.488319\n",
       "41 2019-01-31   3701.554973\n",
       "42 2019-02-28   3711.907276\n",
       "43 2019-03-31   3976.069093\n",
       "44 2019-04-30   5178.469425\n",
       "45 2019-05-31   7309.694113\n",
       "46 2019-06-30   9415.900144\n",
       "47 2019-07-31  10669.336223\n",
       "48 2019-08-31  10643.248393\n",
       "49 2019-09-30   9814.067782\n",
       "50 2019-10-31   8411.929149\n",
       "51 2019-11-30   8373.572452\n",
       "52 2019-12-31   7284.013046\n",
       "53 2020-01-31   8389.270450\n",
       "54 2020-02-29   9630.722211\n",
       "55 2020-03-31   6871.016111\n",
       "56 2020-04-30   7224.477345\n",
       "57 2020-05-31   9263.151881\n",
       "58 2020-06-30   9489.227163\n",
       "59 2020-07-31   9589.899755"
      ]
     },
     "execution_count": 83,
     "metadata": {},
     "output_type": "execute_result"
    }
   ],
   "source": [
    "# Here we are updatting the \"Date\" column data to be datetime\n",
    "coin_Bitcoin_Update.set_index('Date', inplace=True)\n",
    "\n",
    "# Then set the index to the data\n",
    "coin_Bitcoin_Update.index = pd.to_datetime(coin_Bitcoin_Update.index)\n",
    "\n",
    "# Make sure its sorted\n",
    "coin_Bitcoin_Update.sort_index()\n",
    "\n",
    "# This will take the mean of the data within one month and set it\n",
    "coin_Bitcoin_Update = coin_Bitcoin_Update.resample('1M').mean()\n",
    "coin_Bitcoin_Update\n",
    "\n",
    "# Indexing Bitcoin dataset\n",
    "    # matbe move this one up to where the dataset for bitcoin is\n",
    "coin_Bitcoin_Update= coin_Bitcoin_Update[:60]\n",
    "\n",
    "# Resetting the index\n",
    "coin_Bitcoin_Update.reset_index(inplace= True)\n",
    "coin_Bitcoin_Update.shape\n",
    "coin_Bitcoin_Update"
   ]
  },
  {
   "cell_type": "markdown",
   "metadata": {},
   "source": [
    "# ETHEREUM"
   ]
  },
  {
   "cell_type": "code",
   "execution_count": 84,
   "metadata": {},
   "outputs": [
    {
     "data": {
      "text/html": [
       "<div>\n",
       "<style scoped>\n",
       "    .dataframe tbody tr th:only-of-type {\n",
       "        vertical-align: middle;\n",
       "    }\n",
       "\n",
       "    .dataframe tbody tr th {\n",
       "        vertical-align: top;\n",
       "    }\n",
       "\n",
       "    .dataframe thead th {\n",
       "        text-align: right;\n",
       "    }\n",
       "</style>\n",
       "<table border=\"1\" class=\"dataframe\">\n",
       "  <thead>\n",
       "    <tr style=\"text-align: right;\">\n",
       "      <th></th>\n",
       "      <th>SNo</th>\n",
       "      <th>Name</th>\n",
       "      <th>Symbol</th>\n",
       "      <th>Date</th>\n",
       "      <th>High</th>\n",
       "      <th>Low</th>\n",
       "      <th>Open</th>\n",
       "      <th>Close</th>\n",
       "      <th>Volume</th>\n",
       "      <th>Marketcap</th>\n",
       "    </tr>\n",
       "  </thead>\n",
       "  <tbody>\n",
       "    <tr>\n",
       "      <td>0</td>\n",
       "      <td>1</td>\n",
       "      <td>Ethereum</td>\n",
       "      <td>ETH</td>\n",
       "      <td>2015-08-08 23:59:59</td>\n",
       "      <td>2.798810</td>\n",
       "      <td>0.714725</td>\n",
       "      <td>2.793760</td>\n",
       "      <td>0.753325</td>\n",
       "      <td>674188.0</td>\n",
       "      <td>4.548689e+07</td>\n",
       "    </tr>\n",
       "    <tr>\n",
       "      <td>1</td>\n",
       "      <td>2</td>\n",
       "      <td>Ethereum</td>\n",
       "      <td>ETH</td>\n",
       "      <td>2015-08-09 23:59:59</td>\n",
       "      <td>0.879810</td>\n",
       "      <td>0.629191</td>\n",
       "      <td>0.706136</td>\n",
       "      <td>0.701897</td>\n",
       "      <td>532170.0</td>\n",
       "      <td>4.239957e+07</td>\n",
       "    </tr>\n",
       "    <tr>\n",
       "      <td>2</td>\n",
       "      <td>3</td>\n",
       "      <td>Ethereum</td>\n",
       "      <td>ETH</td>\n",
       "      <td>2015-08-10 23:59:59</td>\n",
       "      <td>0.729854</td>\n",
       "      <td>0.636546</td>\n",
       "      <td>0.713989</td>\n",
       "      <td>0.708448</td>\n",
       "      <td>405283.0</td>\n",
       "      <td>4.281836e+07</td>\n",
       "    </tr>\n",
       "    <tr>\n",
       "      <td>3</td>\n",
       "      <td>4</td>\n",
       "      <td>Ethereum</td>\n",
       "      <td>ETH</td>\n",
       "      <td>2015-08-11 23:59:59</td>\n",
       "      <td>1.131410</td>\n",
       "      <td>0.663235</td>\n",
       "      <td>0.708087</td>\n",
       "      <td>1.067860</td>\n",
       "      <td>1463100.0</td>\n",
       "      <td>6.456929e+07</td>\n",
       "    </tr>\n",
       "    <tr>\n",
       "      <td>4</td>\n",
       "      <td>5</td>\n",
       "      <td>Ethereum</td>\n",
       "      <td>ETH</td>\n",
       "      <td>2015-08-12 23:59:59</td>\n",
       "      <td>1.289940</td>\n",
       "      <td>0.883608</td>\n",
       "      <td>1.058750</td>\n",
       "      <td>1.217440</td>\n",
       "      <td>2150620.0</td>\n",
       "      <td>7.364501e+07</td>\n",
       "    </tr>\n",
       "  </tbody>\n",
       "</table>\n",
       "</div>"
      ],
      "text/plain": [
       "   SNo      Name Symbol                 Date      High       Low      Open  \\\n",
       "0    1  Ethereum    ETH  2015-08-08 23:59:59  2.798810  0.714725  2.793760   \n",
       "1    2  Ethereum    ETH  2015-08-09 23:59:59  0.879810  0.629191  0.706136   \n",
       "2    3  Ethereum    ETH  2015-08-10 23:59:59  0.729854  0.636546  0.713989   \n",
       "3    4  Ethereum    ETH  2015-08-11 23:59:59  1.131410  0.663235  0.708087   \n",
       "4    5  Ethereum    ETH  2015-08-12 23:59:59  1.289940  0.883608  1.058750   \n",
       "\n",
       "      Close     Volume     Marketcap  \n",
       "0  0.753325   674188.0  4.548689e+07  \n",
       "1  0.701897   532170.0  4.239957e+07  \n",
       "2  0.708448   405283.0  4.281836e+07  \n",
       "3  1.067860  1463100.0  6.456929e+07  \n",
       "4  1.217440  2150620.0  7.364501e+07  "
      ]
     },
     "execution_count": 84,
     "metadata": {},
     "output_type": "execute_result"
    }
   ],
   "source": [
    "coin_Ethereum.head()"
   ]
  },
  {
   "cell_type": "code",
   "execution_count": 85,
   "metadata": {},
   "outputs": [
    {
     "data": {
      "text/html": [
       "<div>\n",
       "<style scoped>\n",
       "    .dataframe tbody tr th:only-of-type {\n",
       "        vertical-align: middle;\n",
       "    }\n",
       "\n",
       "    .dataframe tbody tr th {\n",
       "        vertical-align: top;\n",
       "    }\n",
       "\n",
       "    .dataframe thead th {\n",
       "        text-align: right;\n",
       "    }\n",
       "</style>\n",
       "<table border=\"1\" class=\"dataframe\">\n",
       "  <thead>\n",
       "    <tr style=\"text-align: right;\">\n",
       "      <th></th>\n",
       "      <th>Date</th>\n",
       "      <th>Close</th>\n",
       "    </tr>\n",
       "  </thead>\n",
       "  <tbody>\n",
       "    <tr>\n",
       "      <td>0</td>\n",
       "      <td>2015-08-31</td>\n",
       "      <td>1.259649</td>\n",
       "    </tr>\n",
       "    <tr>\n",
       "      <td>1</td>\n",
       "      <td>2015-09-30</td>\n",
       "      <td>0.988966</td>\n",
       "    </tr>\n",
       "    <tr>\n",
       "      <td>2</td>\n",
       "      <td>2015-10-31</td>\n",
       "      <td>0.661104</td>\n",
       "    </tr>\n",
       "  </tbody>\n",
       "</table>\n",
       "</div>"
      ],
      "text/plain": [
       "        Date     Close\n",
       "0 2015-08-31  1.259649\n",
       "1 2015-09-30  0.988966\n",
       "2 2015-10-31  0.661104"
      ]
     },
     "execution_count": 85,
     "metadata": {},
     "output_type": "execute_result"
    }
   ],
   "source": [
    "## Reorganizing the datatset\n",
    "coin_Ethereum_Update = coin_Ethereum[['Date','Close']].copy()\n",
    "\n",
    "# Here we are updatting the \"Date\" column data to be datetime\n",
    "coin_Ethereum_Update.set_index('Date', inplace=True)\n",
    "\n",
    "# Then set the index to the dat\n",
    "coin_Ethereum_Update.index = pd.to_datetime(coin_Ethereum_Update.index)\n",
    "\n",
    "# Make sure its sorted\n",
    "coin_Ethereum_Update.sort_index()\n",
    "\n",
    "# This will take the mean of the data within one month and set it\n",
    "coin_Ethereum_Update = coin_Ethereum_Update.resample('1M').mean()\n",
    "coin_Ethereum_Update.reset_index(inplace= True)\n",
    "\n",
    "#Indexing the data set\n",
    "coin_Ethereum_Update= coin_Ethereum_Update[:60]\n",
    "\n",
    "coin_Ethereum_Update[:3]"
   ]
  },
  {
   "cell_type": "markdown",
   "metadata": {},
   "source": [
    "#### The datasets FIT!!!\n",
    "Awesome, so now the ethereum and bitcon data start and end at the same time, and have the same number of row data because we took the mean of the month data. That way even if there are missing day values that have been average out in the month value. "
   ]
  },
  {
   "cell_type": "code",
   "execution_count": 86,
   "metadata": {},
   "outputs": [
    {
     "data": {
      "text/plain": [
       "(60, 2)"
      ]
     },
     "execution_count": 86,
     "metadata": {},
     "output_type": "execute_result"
    }
   ],
   "source": [
    "np.shape(coin_Ethereum_Update)"
   ]
  },
  {
   "cell_type": "code",
   "execution_count": 87,
   "metadata": {},
   "outputs": [
    {
     "data": {
      "text/plain": [
       "(60, 2)"
      ]
     },
     "execution_count": 87,
     "metadata": {},
     "output_type": "execute_result"
    }
   ],
   "source": [
    "np.shape(coin_Bitcoin_Update)"
   ]
  },
  {
   "cell_type": "code",
   "execution_count": 88,
   "metadata": {},
   "outputs": [],
   "source": [
    "def train_linear(X, Y):\n",
    "    clf = linear_model.LinearRegression()\n",
    "    clf.fit(X, Y)\n",
    "    \n",
    "    return clf"
   ]
  },
  {
   "cell_type": "code",
   "execution_count": 89,
   "metadata": {},
   "outputs": [
    {
     "data": {
      "image/png": "[encoded data removed]",
      "text/plain": [
       "<Figure size 432x288 with 1 Axes>"
      ]
     },
     "metadata": {},
     "output_type": "display_data"
    }
   ],
   "source": [
    "#This code was taken directly from \n",
    "# https://github.com/Ajaypal91/Predicting-Price-of-Cryptocurrency/blob/master/Models/linear_regression.py\n",
    "\n",
    "msk = np.random.rand(len(coin_Bitcoin_Update)) < 0.8\n",
    "\n",
    "X = coin_Bitcoin_Update[\"Close\"]\n",
    "Y = coin_Ethereum_Update[\"Close\"]\n",
    "\n",
    "X_train = np.array(X[msk]).reshape(len(X[msk]),1)\n",
    "X_test = np.array(X[~msk]).reshape(len(X[~msk]),1)\n",
    "Y_train = np.array(Y[msk]).reshape(len(X[msk]),1)\n",
    "Y_test = np.array(Y[~msk]).reshape(len(X[~msk]),1)\n",
    "\n",
    "clf = train_linear(X_train,Y_train)\n",
    "predicted_vals = clf.predict(X_test)\n",
    "\n",
    "plt.scatter(X_test, Y_test, color='darkorange', label='data')\n",
    "plt.plot(Y_test, Y_test, color='blue', linewidth=3)\n",
    "plt.show()"
   ]
  },
  {
   "cell_type": "code",
   "execution_count": 90,
   "metadata": {},
   "outputs": [
    {
     "data": {
      "image/png": "[encoded data removed]",
      "text/plain": [
       "<Figure size 432x288 with 1 Axes>"
      ]
     },
     "metadata": {},
     "output_type": "display_data"
    }
   ],
   "source": [
    "\n",
    "msk = np.random.rand(len(coin_Bitcoin_Update)) < 0.7\n",
    "\n",
    "X = coin_Bitcoin_Update[\"Close\"]\n",
    "Y = coin_Ethereum_Update[\"Close\"]\n",
    "\n",
    "X_train = np.array(X[msk]).reshape(len(X[msk]),1)\n",
    "X_test = np.array(X[~msk]).reshape(len(X[~msk]),1)\n",
    "Y_train = np.array(Y[msk]).reshape(len(X[msk]),1)\n",
    "Y_test = np.array(Y[~msk]).reshape(len(X[~msk]),1)\n",
    "\n",
    "clf = train_linear(X_train,Y_train)\n",
    "predicted_vals = clf.predict(X_test)\n",
    "\n",
    "plt.scatter(X_test, Y_test, color='darkorange', label='data')\n",
    "plt.plot(Y_test, Y_test, color='blue', linewidth=3)\n",
    "plt.show()"
   ]
  },
  {
   "cell_type": "markdown",
   "metadata": {},
   "source": [
    "# GOLD"
   ]
  },
  {
   "cell_type": "markdown",
   "metadata": {},
   "source": [
    "### Gold Price Prediction\n",
    "https://github.com/pitagorinaunuka/Gold-Price-Prediction"
   ]
  },
  {
   "cell_type": "markdown",
   "metadata": {},
   "source": [
    "If we wanted to look at gold versus bitcoin, I need to first fit the data together. The date for gold started in the year 1950, and is monthly data. So we need to make the dates based on months for bitcoin, and then only look at the gold prices during the same years as bitcoin. "
   ]
  },
  {
   "cell_type": "code",
   "execution_count": 91,
   "metadata": {},
   "outputs": [
    {
     "data": {
      "text/html": [
       "<div>\n",
       "<style scoped>\n",
       "    .dataframe tbody tr th:only-of-type {\n",
       "        vertical-align: middle;\n",
       "    }\n",
       "\n",
       "    .dataframe tbody tr th {\n",
       "        vertical-align: top;\n",
       "    }\n",
       "\n",
       "    .dataframe thead th {\n",
       "        text-align: right;\n",
       "    }\n",
       "</style>\n",
       "<table border=\"1\" class=\"dataframe\">\n",
       "  <thead>\n",
       "    <tr style=\"text-align: right;\">\n",
       "      <th></th>\n",
       "      <th>Date</th>\n",
       "      <th>Price</th>\n",
       "    </tr>\n",
       "  </thead>\n",
       "  <tbody>\n",
       "    <tr>\n",
       "      <td>0</td>\n",
       "      <td>1950-01</td>\n",
       "      <td>34.73</td>\n",
       "    </tr>\n",
       "    <tr>\n",
       "      <td>1</td>\n",
       "      <td>1950-02</td>\n",
       "      <td>34.73</td>\n",
       "    </tr>\n",
       "    <tr>\n",
       "      <td>2</td>\n",
       "      <td>1950-03</td>\n",
       "      <td>34.73</td>\n",
       "    </tr>\n",
       "    <tr>\n",
       "      <td>3</td>\n",
       "      <td>1950-04</td>\n",
       "      <td>34.73</td>\n",
       "    </tr>\n",
       "    <tr>\n",
       "      <td>4</td>\n",
       "      <td>1950-05</td>\n",
       "      <td>34.73</td>\n",
       "    </tr>\n",
       "  </tbody>\n",
       "</table>\n",
       "</div>"
      ],
      "text/plain": [
       "      Date  Price\n",
       "0  1950-01  34.73\n",
       "1  1950-02  34.73\n",
       "2  1950-03  34.73\n",
       "3  1950-04  34.73\n",
       "4  1950-05  34.73"
      ]
     },
     "execution_count": 91,
     "metadata": {},
     "output_type": "execute_result"
    }
   ],
   "source": [
    "# Gold Price History \n",
    "gold.head()"
   ]
  },
  {
   "cell_type": "code",
   "execution_count": 92,
   "metadata": {},
   "outputs": [
    {
     "data": {
      "text/html": [
       "<div>\n",
       "<style scoped>\n",
       "    .dataframe tbody tr th:only-of-type {\n",
       "        vertical-align: middle;\n",
       "    }\n",
       "\n",
       "    .dataframe tbody tr th {\n",
       "        vertical-align: top;\n",
       "    }\n",
       "\n",
       "    .dataframe thead th {\n",
       "        text-align: right;\n",
       "    }\n",
       "</style>\n",
       "<table border=\"1\" class=\"dataframe\">\n",
       "  <thead>\n",
       "    <tr style=\"text-align: right;\">\n",
       "      <th></th>\n",
       "      <th>Date</th>\n",
       "      <th>Price</th>\n",
       "    </tr>\n",
       "  </thead>\n",
       "  <tbody>\n",
       "    <tr>\n",
       "      <td>0</td>\n",
       "      <td>2015-08-31</td>\n",
       "      <td>1117.525</td>\n",
       "    </tr>\n",
       "    <tr>\n",
       "      <td>1</td>\n",
       "      <td>2015-09-30</td>\n",
       "      <td>1124.905</td>\n",
       "    </tr>\n",
       "    <tr>\n",
       "      <td>2</td>\n",
       "      <td>2015-10-31</td>\n",
       "      <td>1157.123</td>\n",
       "    </tr>\n",
       "    <tr>\n",
       "      <td>3</td>\n",
       "      <td>2015-11-30</td>\n",
       "      <td>1088.388</td>\n",
       "    </tr>\n",
       "    <tr>\n",
       "      <td>4</td>\n",
       "      <td>2015-12-31</td>\n",
       "      <td>1068.317</td>\n",
       "    </tr>\n",
       "  </tbody>\n",
       "</table>\n",
       "</div>"
      ],
      "text/plain": [
       "        Date     Price\n",
       "0 2015-08-31  1117.525\n",
       "1 2015-09-30  1124.905\n",
       "2 2015-10-31  1157.123\n",
       "3 2015-11-30  1088.388\n",
       "4 2015-12-31  1068.317"
      ]
     },
     "execution_count": 92,
     "metadata": {},
     "output_type": "execute_result"
    }
   ],
   "source": [
    "## Reorganizing the dataset\n",
    "gold_update = gold[['Date','Price']].copy()\n",
    "\n",
    "# Here we are updatting the \"Date\" column data to be datetime\n",
    "gold_update.set_index('Date', inplace=True)\n",
    "\n",
    "# Then set the index to the dat\n",
    "gold_update.index = pd.to_datetime(gold_update.index)\n",
    "\n",
    "# Make sure its sorted\n",
    "gold_update.sort_index()\n",
    "\n",
    "# This will take the mean of the data within one month and set it\n",
    "gold_update = gold_update.resample('1M').mean()\n",
    "\n",
    "# Indexing the dataset\n",
    "gold_update= gold_update[787:847]\n",
    "\n",
    "# Resetting the index\n",
    "gold_update.reset_index(inplace= True)\n",
    "gold_update.head()"
   ]
  },
  {
   "cell_type": "markdown",
   "metadata": {},
   "source": [
    "## TESLA"
   ]
  },
  {
   "cell_type": "code",
   "execution_count": 93,
   "metadata": {},
   "outputs": [],
   "source": [
    "# Here we are updatting the \"Date\" column data to be datetime\n",
    "tsla.set_index('Date', inplace=True)\n",
    "\n",
    "# Then set the index to the data\n",
    "tsla.index = pd.to_datetime(tsla.index)\n",
    "\n",
    "# Make sure its sorted\n",
    "tsla = tsla.sort_index()\n",
    "\n",
    "# This will take the mean of the data within one month and set it\n",
    "tsla = tsla.resample('1M').mean()\n",
    "\n",
    "# Indexing TSLA dataset\n",
    "tsla = tsla[62:122]\n",
    "\n",
    "# Resetting the index\n",
    "tsla.reset_index(inplace=True)"
   ]
  },
  {
   "cell_type": "markdown",
   "metadata": {},
   "source": [
    "TSLA currently only contains observation from Aug. 2015 - Feb. 2020. We need to add in observations up to July 2020 to match with the rest of the datasets."
   ]
  },
  {
   "cell_type": "code",
   "execution_count": 94,
   "metadata": {},
   "outputs": [],
   "source": [
    "# Creating data set of second TSLA set\n",
    "# Here we are updatting the \"Date\" column data to be datetime\n",
    "tsla_2020.set_index('Date', inplace=True)\n",
    "\n",
    "# Then set the index to the data\n",
    "tsla_2020.index = pd.to_datetime(tsla_2020.index)\n",
    "\n",
    "# Make sure it's sorted\n",
    "tsla_2020 = tsla_2020.sort_index()\n",
    "\n",
    "# This will take the mean of the data within one month and set it\n",
    "tsla_2020 = tsla_2020.resample('1M').mean()\n",
    "\n",
    "# Indexing TSLA dataset\n",
    "tsla_2020 = tsla_2020[:5]\n",
    "\n",
    "# Resetting the index\n",
    "tsla_2020.reset_index(inplace=True)\n"
   ]
  },
  {
   "cell_type": "code",
   "execution_count": 95,
   "metadata": {},
   "outputs": [
    {
     "data": {
      "text/plain": [
       "(60, 7)"
      ]
     },
     "execution_count": 95,
     "metadata": {},
     "output_type": "execute_result"
    }
   ],
   "source": [
    "# Combining the two datsets together\n",
    "tsla = pd.concat([tsla, tsla_2020], ignore_index = True) \n",
    "tsla.shape"
   ]
  },
  {
   "cell_type": "markdown",
   "metadata": {},
   "source": [
    "# MODEL 1: GOLD and BITCOIN (BTC = m*GOLD + b)"
   ]
  },
  {
   "cell_type": "code",
   "execution_count": 96,
   "metadata": {},
   "outputs": [
    {
     "data": {
      "image/png": "[encoded data removed]",
      "text/plain": [
       "<Figure size 720x360 with 2 Axes>"
      ]
     },
     "metadata": {},
     "output_type": "display_data"
    }
   ],
   "source": [
    "#Split the data\n",
    "gold_train, gold_test, coin_Bitcoin_Update_train, coin_Bitcoin_Update_test = train_test_split(gold_update['Price'],\n",
    "                                                                                             coin_Bitcoin_Update['Close'],\n",
    "                                                                                             test_size= 0.20, random_state= 15)\n",
    "# default qay to split\n",
    "#gold_train = gold_update['Price'][:48]\n",
    "#gold_test= gold_update['Price'][48:]\n",
    "#Bitcoin_train= coin_Bitcoin_Update['Close'][:48]\n",
    "#Bitcoin_test = coin_Bitcoin_Update['Close'][48:]\n",
    "\n",
    "# Plot the data\n",
    "fig, (ax1, ax2)= plt.subplots(1, 2, figsize= (10, 5))\n",
    "\n",
    "\n",
    "# Plot the data\n",
    "ax1.plot(gold_train, coin_Bitcoin_Update_train, 'o')\n",
    "ax2.plot(gold_test, coin_Bitcoin_Update_test, 'o')\n",
    "\n",
    "# Plot the regression line\n",
    "m, b= np.polyfit(gold_train, coin_Bitcoin_Update_train, 1)\n",
    "m2, b2= np.polyfit(gold_test, coin_Bitcoin_Update_test, 1)\n",
    "\n",
    "ax1.plot(gold_train, m*(gold_train) + b, color= 'red')\n",
    "ax2.plot(gold_test, m2*(gold_test) + b2, color= 'red')\n",
    "\n",
    "#Calculate RMSEs.\n",
    "M1_rmse_train = np.sqrt(mean_squared_error(coin_Bitcoin_Update_train, m*(gold_train) + b))\n",
    "M1_rmse_test = np.sqrt(mean_squared_error(coin_Bitcoin_Update_test, m2*(gold_test) + b2))\n",
    "\n",
    "\n",
    "# Labeling the graph\n",
    "ax1.set_xlabel('Gold')\n",
    "ax1.set_ylabel('Bitcoin')\n",
    "ax1.set_title('Training Set')\n",
    "ax2.set_xlabel('Gold')\n",
    "ax2.set_ylabel('Bitcoin')\n",
    "ax2.set_title('Testing Set')\n",
    "\n",
    "plt.show() # This lets you plot multiple inputs on the same graph"
   ]
  },
  {
   "cell_type": "markdown",
   "metadata": {},
   "source": [
    "### Comparing Original and Training Set"
   ]
  },
  {
   "cell_type": "code",
   "execution_count": 97,
   "metadata": {},
   "outputs": [
    {
     "name": "stdout",
     "output_type": "stream",
     "text": [
      "Mean of Original Gold Data: 1321.6909833333334\n",
      "Mean of Gold Train Data: 1315.4634374999996\n",
      "Mean of Original Bitcoin Data: 4933.246067739443\n",
      "Mean of Bitcoin Train Data: 4903.192408915919\n"
     ]
    }
   ],
   "source": [
    "# Comparision, Training Set Matches\n",
    "mean_gold_data = gold_update['Price'].mean()\n",
    "mean_gold_train = gold_train.mean()\n",
    "\n",
    "mean_Bitcoin_data = coin_Bitcoin_Update['Close'].mean()\n",
    "mean_Bitcoin_train = coin_Bitcoin_Update_train.mean()\n",
    "\n",
    "print('Mean of Original Gold Data: ' + str(mean_gold_data))\n",
    "print('Mean of Gold Train Data: ' + str(mean_gold_train))\n",
    "print('Mean of Original Bitcoin Data: ' + str(mean_Bitcoin_data))\n",
    "print('Mean of Bitcoin Train Data: ' + str(mean_Bitcoin_train))"
   ]
  },
  {
   "cell_type": "markdown",
   "metadata": {},
   "source": [
    "# MODEL 2: ETHEREUM AND BITCOIN (BTC = m*ETH + b)"
   ]
  },
  {
   "cell_type": "code",
   "execution_count": 98,
   "metadata": {},
   "outputs": [
    {
     "data": {
      "image/png": "[encoded data removed]",
      "text/plain": [
       "<Figure size 720x360 with 2 Axes>"
      ]
     },
     "metadata": {},
     "output_type": "display_data"
    }
   ],
   "source": [
    "#split the data\n",
    "ethereum_train, ethereum_test, coin_Bitcoin_Update_train, coin_Bitcoin_Update_test = train_test_split(coin_Ethereum_Update['Close'],\n",
    "                                                                                             coin_Bitcoin_Update['Close'],\n",
    "                                                                                             test_size= 0.20, random_state=15)\n",
    "# Plot the data\n",
    "fig, (ax3, ax4)= plt.subplots(1, 2, figsize= (10, 5))\n",
    "\n",
    "\n",
    "# Plot the data\n",
    "ax3.plot(ethereum_train, coin_Bitcoin_Update_train, 'o')\n",
    "ax4.plot(ethereum_test, coin_Bitcoin_Update_test, 'o')\n",
    "\n",
    "# Plot the regression line\n",
    "m3, b3= np.polyfit(ethereum_train, coin_Bitcoin_Update_train, 1)\n",
    "m4, b4= np.polyfit(ethereum_test, coin_Bitcoin_Update_test, 1)\n",
    "\n",
    "#Calculate RMSEs.\n",
    "M2_rmse_train = np.sqrt(mean_squared_error(coin_Bitcoin_Update_train, m3*(ethereum_train) + b3))\n",
    "M2_rmse_test = np.sqrt(mean_squared_error(coin_Bitcoin_Update_test, m4*(ethereum_test) + b4))\n",
    "\n",
    "\n",
    "# Plot the regression line\n",
    "ax3.plot(ethereum_train, m3*(ethereum_train) + b3, color= 'red')\n",
    "ax4.plot(ethereum_test, m4*(ethereum_test) + b4, color= 'red')\n",
    "\n",
    "# Labeling the graph\n",
    "ax3.set_xlabel('Ethereum')\n",
    "ax3.set_ylabel('Bitcoin')\n",
    "ax3.set_title('Training Set')\n",
    "ax4.set_xlabel('Ethereum')\n",
    "ax4.set_ylabel('Bitcoin')\n",
    "ax4.set_title('Testing Set')\n",
    "\n",
    "plt.show() # This lets you plot multiple inputs on the same graph"
   ]
  },
  {
   "cell_type": "markdown",
   "metadata": {},
   "source": [
    "### Comparing Original and Training Set"
   ]
  },
  {
   "cell_type": "code",
   "execution_count": 99,
   "metadata": {},
   "outputs": [
    {
     "name": "stdout",
     "output_type": "stream",
     "text": [
      "Mean of Original Ethereum Data: 203.7693348235417\n",
      "Mean of Ethereum Train Data: 196.36458018405213\n",
      "Mean of Original Bitcoin Data: 4933.246067739443\n",
      "Mean of Bitcoin Train Data: 4903.192408915919\n"
     ]
    }
   ],
   "source": [
    "# Comparision, Training Set Matches\n",
    "mean_ethereum_data = coin_Ethereum_Update['Close'].mean()\n",
    "mean_ethereum_train = ethereum_train.mean()\n",
    "\n",
    "mean_Bitcoin_data = coin_Bitcoin_Update['Close'].mean()\n",
    "mean_Bitcoin_train = coin_Bitcoin_Update_train.mean()\n",
    "\n",
    "print('Mean of Original Ethereum Data: ' + str(mean_ethereum_data))\n",
    "print('Mean of Ethereum Train Data: ' + str(mean_ethereum_train))\n",
    "print('Mean of Original Bitcoin Data: ' + str(mean_Bitcoin_data))\n",
    "print('Mean of Bitcoin Train Data: ' + str(mean_Bitcoin_train))"
   ]
  },
  {
   "cell_type": "markdown",
   "metadata": {},
   "source": [
    "# MODEL 3: TSLA and BITCOIN (BTC = m*TSLA + b)"
   ]
  },
  {
   "cell_type": "code",
   "execution_count": 100,
   "metadata": {},
   "outputs": [
    {
     "data": {
      "image/png": "[encoded data removed]",
      "text/plain": [
       "<Figure size 720x360 with 2 Axes>"
      ]
     },
     "metadata": {},
     "output_type": "display_data"
    }
   ],
   "source": [
    "#split the data\n",
    "tsla_train, tsla_test, coin_Bitcoin_Update_train, coin_Bitcoin_Update_test = train_test_split(tsla['Close'],\n",
    "                                                                                             coin_Bitcoin_Update['Close'],\n",
    "                                                                                             test_size= 0.20, random_state= 20)\n",
    "\n",
    "# Plot the data\n",
    "fig, (ax5, ax6)= plt.subplots(1, 2, figsize= (10, 5))\n",
    "\n",
    "\n",
    "# Plot the data\n",
    "ax5.plot(tsla_train, coin_Bitcoin_Update_train, 'o')\n",
    "ax6.plot(tsla_test, coin_Bitcoin_Update_test, 'o')\n",
    "\n",
    "# Plot the regression line\n",
    "m5, b5= np.polyfit(tsla_train, coin_Bitcoin_Update_train, 1)\n",
    "m6, b6= np.polyfit(tsla_test, coin_Bitcoin_Update_test, 1)\n",
    "\n",
    "\n",
    "# Plot the regression line\n",
    "ax5.plot(tsla_train, m5*(tsla_train) + b5, color= 'red')\n",
    "ax6.plot(tsla_test, m6*(tsla_test) + b6, color= 'red')\n",
    "\n",
    "#Calculate RMSEs.\n",
    "M3_rmse_train = np.sqrt(mean_squared_error(coin_Bitcoin_Update_train, m5*(tsla_train) + b5))\n",
    "M3_rmse_test = np.sqrt(mean_squared_error(coin_Bitcoin_Update_test,  m6*(tsla_test) + b6))\n",
    "\n",
    "# Labeling the graph\n",
    "ax5.set_xlabel('Ethereum')\n",
    "ax5.set_ylabel('Bitcoin')\n",
    "ax5.set_title('Training Set')\n",
    "ax6.set_xlabel('Ethereum')\n",
    "ax6.set_ylabel('Bitcoin')\n",
    "ax6.set_title('Testing Set')\n",
    "\n",
    "plt.show() # This lets you plot multiple inputs on the same graph"
   ]
  },
  {
   "cell_type": "markdown",
   "metadata": {},
   "source": [
    "### Comparing Original and Training Set"
   ]
  },
  {
   "cell_type": "code",
   "execution_count": 101,
   "metadata": {},
   "outputs": [
    {
     "name": "stdout",
     "output_type": "stream",
     "text": [
      "Mean of Original TSLA Data: 278.8540786040484\n",
      "Mean of TSLA Train Data: 278.07966267272894\n",
      "Mean of Original Bitcoin Data: 4933.246067739443\n",
      "Mean of Bitcoin Train Data: 5206.9415276486325\n"
     ]
    }
   ],
   "source": [
    "# Comparision, Training Set Matches\n",
    "mean_tsla_data = tsla['Close'].mean()\n",
    "mean_tsla_train = tsla_train.mean()\n",
    "\n",
    "mean_Bitcoin_data = coin_Bitcoin_Update['Close'].mean()\n",
    "mean_Bitcoin_train = coin_Bitcoin_Update_train.mean()\n",
    "\n",
    "print('Mean of Original TSLA Data: ' + str(mean_tsla_data))\n",
    "print('Mean of TSLA Train Data: ' + str(mean_tsla_train))\n",
    "print('Mean of Original Bitcoin Data: ' + str(mean_Bitcoin_data))\n",
    "print('Mean of Bitcoin Train Data: ' + str(mean_Bitcoin_train))"
   ]
  },
  {
   "cell_type": "markdown",
   "metadata": {},
   "source": [
    "# MODEL 4: GOLD + TESLA and BITCOIN (BTC = w0 + w1 * GOLD + w2 * TSLA\n",
    "Starting from M4, we are testing multivariate variable models, so there are no graphs."
   ]
  },
  {
   "cell_type": "code",
   "execution_count": 102,
   "metadata": {},
   "outputs": [],
   "source": [
    "#split the data\n",
    "gold_train, gold_test, tsla_train, tsla_test, coin_Bitcoin_Update_train, coin_Bitcoin_Update_test = train_test_split(gold_update['Price'],\n",
    "                                                                                            tsla['Close'],\n",
    "                                                                                            coin_Bitcoin_Update['Close'], \n",
    "                                                                                            test_size= 0.20, random_state=20) \n",
    "## Create A, the augmented data array\n",
    "X1 = np.array(gold_train).reshape(-1, 1)\n",
    "X2 = np.array(tsla_train).reshape(-1, 1)\n",
    "Y = np.array(coin_Bitcoin_Update_train).reshape(-1, 1)    \n",
    "w0_coeff = [1]*48\n",
    "\n",
    "A4 = np.hstack((np.reshape(w0_coeff, (48,1)), X1, X2))\n",
    "\n",
    "## Solve for w, the weighted vector\n",
    "w4 = np.linalg.lstsq(A4, Y, rcond = None)[0]\n",
    "\n",
    "## We get M4 = -1.668 + 1.419*GOLD + 1.072*TSLA\n",
    "M4_predicted_Y_train = -1.668 + 1.419*gold_train + 1.072*tsla_train\n",
    "M4_predicted_Y_test = -1.668 + 1.419*gold_test + 1.072*tsla_test\n",
    "\n",
    "#Calculate RMSEs.\n",
    "M4_rmse_train = np.sqrt(mean_squared_error(coin_Bitcoin_Update_train, M4_predicted_Y_train))\n",
    "M4_rmse_test = np.sqrt(mean_squared_error(coin_Bitcoin_Update_test, M4_predicted_Y_test))"
   ]
  },
  {
   "cell_type": "markdown",
   "metadata": {},
   "source": [
    "### Comparing Original and Training Set"
   ]
  },
  {
   "cell_type": "code",
   "execution_count": 103,
   "metadata": {},
   "outputs": [
    {
     "name": "stdout",
     "output_type": "stream",
     "text": [
      "Mean of Original Gold Data: 1321.6909833333334\n",
      "Mean of Gold Train Data: 1332.251583333333\n",
      "Mean of Original TSLA Data: 278.8540786040484\n",
      "Mean of TSLA Train Data: 278.07966267272894\n",
      "Mean of Original Bitcoin Data: 4933.246067739443\n",
      "Mean of Bitcoin Train Data: 5206.9415276486325\n"
     ]
    }
   ],
   "source": [
    "# Comparision, Training Set Matches\n",
    "mean_gold_data = gold_update['Price'].mean()\n",
    "mean_gold_train = gold_train.mean()\n",
    "\n",
    "mean_tsla_data = tsla['Close'].mean()\n",
    "mean_tsla_train = tsla_train.mean()\n",
    "\n",
    "mean_Bitcoin_data = coin_Bitcoin_Update['Close'].mean()\n",
    "mean_Bitcoin_train = coin_Bitcoin_Update_train.mean()\n",
    "\n",
    "print('Mean of Original Gold Data: ' + str(mean_gold_data))\n",
    "print('Mean of Gold Train Data: ' + str(mean_gold_train))\n",
    "print('Mean of Original TSLA Data: ' + str(mean_tsla_data))\n",
    "print('Mean of TSLA Train Data: ' + str(mean_tsla_train))\n",
    "print('Mean of Original Bitcoin Data: ' + str(mean_Bitcoin_data))\n",
    "print('Mean of Bitcoin Train Data: ' + str(mean_Bitcoin_train))\n"
   ]
  },
  {
   "cell_type": "markdown",
   "metadata": {},
   "source": [
    "# MODEL 5: ETH + TSLA and BTC (BTC = w0 + w1 * ETH  + w2 * TSLA)"
   ]
  },
  {
   "cell_type": "code",
   "execution_count": 104,
   "metadata": {},
   "outputs": [],
   "source": [
    "#split the data\n",
    "eth_train, eth_test, tsla_train, tsla_test, coin_Bitcoin_Update_train, coin_Bitcoin_Update_test = train_test_split(coin_Ethereum_Update['Close'],\n",
    "                                                                                            tsla['Close'],\n",
    "                                                                                            coin_Bitcoin_Update['Close'], \n",
    "                                                                                            test_size= 0.20, random_state=19) \n",
    "## Create A, the augmented data array\n",
    "X1 = np.array(eth_train).reshape(-1, 1)\n",
    "X2 = np.array(tsla_train).reshape(-1, 1)\n",
    "Y = np.array(coin_Bitcoin_Update_train).reshape(-1, 1)    \n",
    "w0_coeff = [1]*48\n",
    "\n",
    "A5 = np.hstack((np.reshape(w0_coeff, (48,1)), X1, X2))\n",
    "\n",
    "## Solve for w, the weighted vector\n",
    "w5 = np.linalg.lstsq(A5, Y, rcond = None)[0]\n",
    "\n",
    "## We get M5 = 1728.082 + 12.035*ETH + 2.953*TSLA\n",
    "M5_predicted_Y_train = 1728.082 + 12.035*eth_train + 2.953*tsla_train\n",
    "M5_predicted_Y_test = 1728.082 + 12.035*eth_test + 2.953*tsla_test\n",
    "\n",
    "#Calculate RMSEs.\n",
    "M5_rmse_train = np.sqrt(mean_squared_error(coin_Bitcoin_Update_train, M5_predicted_Y_train))\n",
    "M5_rmse_test = np.sqrt(mean_squared_error(coin_Bitcoin_Update_test, M5_predicted_Y_test))"
   ]
  },
  {
   "cell_type": "markdown",
   "metadata": {},
   "source": [
    "### Comparing Original and Training Set"
   ]
  },
  {
   "cell_type": "code",
   "execution_count": 105,
   "metadata": {},
   "outputs": [
    {
     "name": "stdout",
     "output_type": "stream",
     "text": [
      "Mean of Original ETH Data: 203.7693348235417\n",
      "Mean of ETH Train Data: 200.24840632376268\n",
      "Mean of Original TSLA Data: 278.8540786040484\n",
      "Mean of TSLA Train Data: 283.62285860286823\n",
      "Mean of Original Bitcoin Data: 4933.246067739443\n",
      "Mean of Bitcoin Train Data: 4878.241012514055\n"
     ]
    }
   ],
   "source": [
    "# Comparision, Training Set Matches\n",
    "mean_eth_data = coin_Ethereum_Update['Close'].mean()\n",
    "mean_eth_train = eth_train.mean()\n",
    "\n",
    "mean_tsla_data = tsla['Close'].mean()\n",
    "mean_tsla_train = tsla_train.mean()\n",
    "\n",
    "mean_Bitcoin_data = coin_Bitcoin_Update['Close'].mean()\n",
    "mean_Bitcoin_train = coin_Bitcoin_Update_train.mean()\n",
    "\n",
    "print('Mean of Original ETH Data: ' + str(mean_eth_data))\n",
    "print('Mean of ETH Train Data: ' + str(mean_eth_train))\n",
    "print('Mean of Original TSLA Data: ' + str(mean_tsla_data))\n",
    "print('Mean of TSLA Train Data: ' + str(mean_tsla_train))\n",
    "print('Mean of Original Bitcoin Data: ' + str(mean_Bitcoin_data))\n",
    "print('Mean of Bitcoin Train Data: ' + str(mean_Bitcoin_train))\n"
   ]
  },
  {
   "cell_type": "markdown",
   "metadata": {},
   "source": [
    "# MODEL 6: GOLD + ETH and BTC (BTC = w0 + w1 * GOLD  + w2 * ETH)"
   ]
  },
  {
   "cell_type": "code",
   "execution_count": 106,
   "metadata": {},
   "outputs": [],
   "source": [
    "#split the data\n",
    "gold_train, gold_test, eth_train, eth_test, coin_Bitcoin_Update_train, coin_Bitcoin_Update_test = train_test_split(gold_update['Price'],\n",
    "                                                                                            coin_Ethereum_Update['Close'],\n",
    "                                                                                            coin_Bitcoin_Update['Close'], \n",
    "                                                                                            test_size= 0.20, random_state=19) \n",
    "## Create A, the augmented data array\n",
    "X1 = np.array(gold_train).reshape(-1, 1)\n",
    "X2 = np.array(eth_train).reshape(-1, 1)\n",
    "Y = np.array(coin_Bitcoin_Update_train).reshape(-1, 1)    \n",
    "w0_coeff = [1]*48\n",
    "\n",
    "A6 = np.hstack((np.reshape(w0_coeff, (48,1)), X1, X2))\n",
    "\n",
    "## Solve for w, the weighted vector\n",
    "w6 = np.linalg.lstsq(A6, Y, rcond = None)[0]\n",
    "w6\n",
    "\n",
    "## We get M6 = -1.493 + 1.334*GOLD + 1.104*ETH\n",
    "M6_predicted_Y_train = -1.493 + 1.334*gold_train + 1.104*eth_train\n",
    "M6_predicted_Y_test =  -1.493 + 1.334*gold_test + 1.104*eth_test\n",
    "\n",
    "#Calculate RMSEs.\n",
    "M6_rmse_train = np.sqrt(mean_squared_error(coin_Bitcoin_Update_train, M6_predicted_Y_train))\n",
    "M6_rmse_test = np.sqrt(mean_squared_error(coin_Bitcoin_Update_test, M6_predicted_Y_test))"
   ]
  },
  {
   "cell_type": "markdown",
   "metadata": {},
   "source": [
    "### Comparing Original and Training Set"
   ]
  },
  {
   "cell_type": "code",
   "execution_count": 107,
   "metadata": {},
   "outputs": [
    {
     "name": "stdout",
     "output_type": "stream",
     "text": [
      "Mean of Original ETH Data: 203.7693348235417\n",
      "Mean of ETH Train Data: 200.24840632376268\n",
      "Mean of Original Gold Data: 1321.6909833333334\n",
      "Mean of Gold Train Data: 1318.6616666666666\n",
      "Mean of Original Bitcoin Data: 4933.246067739443\n",
      "Mean of Bitcoin Train Data: 4878.241012514055\n"
     ]
    }
   ],
   "source": [
    "# Comparision, Training Set Matches\n",
    "mean_eth_data = coin_Ethereum_Update['Close'].mean()\n",
    "mean_eth_train = eth_train.mean()\n",
    "\n",
    "mean_gold_data = gold_update['Price'].mean()\n",
    "mean_gold_train = gold_train.mean()\n",
    "\n",
    "mean_Bitcoin_data = coin_Bitcoin_Update['Close'].mean()\n",
    "mean_Bitcoin_train = coin_Bitcoin_Update_train.mean()\n",
    "\n",
    "print('Mean of Original ETH Data: ' + str(mean_eth_data))\n",
    "print('Mean of ETH Train Data: ' + str(mean_eth_train))\n",
    "print('Mean of Original Gold Data: ' + str(mean_gold_data))\n",
    "print('Mean of Gold Train Data: ' + str(mean_gold_train))\n",
    "print('Mean of Original Bitcoin Data: ' + str(mean_Bitcoin_data))\n",
    "print('Mean of Bitcoin Train Data: ' + str(mean_Bitcoin_train))\n"
   ]
  },
  {
   "cell_type": "markdown",
   "metadata": {},
   "source": [
    "# Calculate the RMSEs of every model. "
   ]
  },
  {
   "cell_type": "code",
   "execution_count": 111,
   "metadata": {},
   "outputs": [
    {
     "data": {
      "image/png": "[encoded data removed]",
      "text/plain": [
       "<Figure size 936x1080 with 6 Axes>"
      ]
     },
     "metadata": {},
     "output_type": "display_data"
    }
   ],
   "source": [
    "RMSE_gold_train = [M1_rmse_train, M2_rmse_train, M6_rmse_train]\n",
    "RMSE_gold_test = [M1_rmse_test, M2_rmse_test, M6_rmse_test]\n",
    "\n",
    "RMSE_eth_train = [M2_rmse_train, M5_rmse_train, M6_rmse_train]\n",
    "RMSE_eth_test = [M2_rmse_test, M5_rmse_test, M6_rmse_test]\n",
    "\n",
    "RMSE_tsla_train = [M3_rmse_train, M4_rmse_train, M5_rmse_train,]\n",
    "RMSE_tsla_test = [M3_rmse_test, M4_rmse_test, M5_rmse_test]\n",
    "\n",
    "fig, axs = plt.subplots(3, 2, figsize= (13,15))\n",
    "\n",
    "#GOLD\n",
    "for i in range(0,3):\n",
    "    r = ['1','2','6']\n",
    "    s = 'M' + r[i]\n",
    "    axs[0,0].bar(s, RMSE_gold_train[i])\n",
    "    axs[0,0].set_xlabel('RMSE_train (Gold)')\n",
    "    axs[0,0].set_ylabel('Value (numeric)')\n",
    "\n",
    "for i in range(0,3):\n",
    "    r = ['1','2','6']\n",
    "    s = 'M' + r[i]\n",
    "    axs[0,1].bar(s, RMSE_gold_test[i])\n",
    "    axs[0,1].set_xlabel('RMSE_test (Gold)')\n",
    "    axs[0,1].set_ylabel('Value (numeric)')\n",
    "\n",
    "#ETH\n",
    "for i in range(0,3):\n",
    "    r = ['2','5','6']\n",
    "    s = 'M' + r[i]\n",
    "    axs[1,0].bar(s, RMSE_eth_train[i])\n",
    "    axs[1,0].set_xlabel('RMSE_train (ETH)')\n",
    "    axs[1,0].set_ylabel('Value (numeric)')\n",
    "\n",
    "for i in range(0,3):\n",
    "    r = ['2','5','6']\n",
    "    s = 'M' + r[i]\n",
    "    axs[1,1].bar(s, RMSE_eth_test[i])\n",
    "    axs[1,1].set_xlabel('RMSE_test (ETH)')\n",
    "    axs[1,1].set_ylabel('Value (numeric)')\n",
    "\n",
    "\n",
    "#TSLA\n",
    "for i in range(0,3):\n",
    "    r = ['3','4','5']\n",
    "    s = 'M' + r[i]\n",
    "    axs[2,0].bar(s, RMSE_tsla_train[i])\n",
    "    axs[2,0].set_xlabel('RMSE_train (TSLA)')\n",
    "    axs[2,0].set_ylabel('Value (numeric)')\n",
    "\n",
    "                        \n",
    "for i in range(0,3):\n",
    "    r = ['3','4','5']\n",
    "    s = 'M' + r[i]\n",
    "    axs[2,1].bar(s, RMSE_tsla_test[i])\n",
    "    axs[2,1].set_xlabel('RMSE_test (TSLA)')\n",
    "    axs[2,1].set_ylabel('Value (numeric)')\n"
   ]
  },
  {
   "cell_type": "markdown",
   "metadata": {},
   "source": [
    "## New Stuff"
   ]
  },
  {
   "cell_type": "markdown",
   "metadata": {},
   "source": [
    "### Descriptive Statistics of the Data \n",
    "\n",
    "From the tutorial this github account\n",
    "\n",
    "https://github.com/kirenz/linear-regression/blob/master/python-regression-tutorial.ipynb"
   ]
  },
  {
   "cell_type": "markdown",
   "metadata": {},
   "source": [
    "Measures of Dispersion"
   ]
  },
  {
   "cell_type": "code",
   "execution_count": 61,
   "metadata": {},
   "outputs": [],
   "source": [
    "# I am wondering if there might be more correlation found between Ethereum and Bitcoin if we instead look at the percent\n",
    "# change in the price from month to month. Here I just calculated the percent change and appended it to a list\n",
    "\n",
    "percent_Bitcoin = []\n",
    "for i in range(59):\n",
    "    percent_Bitcoin.append(((coin_Bitcoin_Update['Close'][i+1] - coin_Bitcoin_Update['Close'][i]) / coin_Bitcoin_Update['Close'][i])*100)\n",
    "percent_Bitcoin[len(percent_Bitcoin):] = [0]\n",
    "\n",
    "percent_Ethereum = []\n",
    "for i in range(59):\n",
    "    percent_Ethereum.append(((coin_Ethereum_Update['Close'][i+1] - coin_Ethereum_Update['Close'][i]) / coin_Ethereum_Update['Close'][i])*100)\n",
    "\n",
    "percent_Ethereum[len(percent_Ethereum):] = [0]\n",
    "\n",
    "\n",
    "coin_Bitcoin_Update['Percent_Change'] = percent_Bitcoin\n",
    "coin_Ethereum_Update['Percent_Change'] = percent_Ethereum\n"
   ]
  },
  {
   "cell_type": "code",
   "execution_count": 62,
   "metadata": {},
   "outputs": [
    {
     "data": {
      "text/html": [
       "<div>\n",
       "<style scoped>\n",
       "    .dataframe tbody tr th:only-of-type {\n",
       "        vertical-align: middle;\n",
       "    }\n",
       "\n",
       "    .dataframe tbody tr th {\n",
       "        vertical-align: top;\n",
       "    }\n",
       "\n",
       "    .dataframe thead th {\n",
       "        text-align: right;\n",
       "    }\n",
       "</style>\n",
       "<table border=\"1\" class=\"dataframe\">\n",
       "  <thead>\n",
       "    <tr style=\"text-align: right;\">\n",
       "      <th></th>\n",
       "      <th>Date</th>\n",
       "      <th>Close</th>\n",
       "      <th>Percent_Change</th>\n",
       "    </tr>\n",
       "  </thead>\n",
       "  <tbody>\n",
       "    <tr>\n",
       "      <th>0</th>\n",
       "      <td>2015-08-31</td>\n",
       "      <td>241.751832</td>\n",
       "      <td>-3.373831</td>\n",
       "    </tr>\n",
       "    <tr>\n",
       "      <th>1</th>\n",
       "      <td>2015-09-30</td>\n",
       "      <td>233.595533</td>\n",
       "      <td>13.382029</td>\n",
       "    </tr>\n",
       "    <tr>\n",
       "      <th>2</th>\n",
       "      <td>2015-10-31</td>\n",
       "      <td>264.855356</td>\n",
       "      <td>31.725987</td>\n",
       "    </tr>\n",
       "    <tr>\n",
       "      <th>3</th>\n",
       "      <td>2015-11-30</td>\n",
       "      <td>348.883332</td>\n",
       "      <td>21.663751</td>\n",
       "    </tr>\n",
       "    <tr>\n",
       "      <th>4</th>\n",
       "      <td>2015-12-31</td>\n",
       "      <td>424.464547</td>\n",
       "      <td>-3.208763</td>\n",
       "    </tr>\n",
       "  </tbody>\n",
       "</table>\n",
       "</div>"
      ],
      "text/plain": [
       "        Date       Close  Percent_Change\n",
       "0 2015-08-31  241.751832       -3.373831\n",
       "1 2015-09-30  233.595533       13.382029\n",
       "2 2015-10-31  264.855356       31.725987\n",
       "3 2015-11-30  348.883332       21.663751\n",
       "4 2015-12-31  424.464547       -3.208763"
      ]
     },
     "execution_count": 62,
     "metadata": {},
     "output_type": "execute_result"
    }
   ],
   "source": [
    "coin_Bitcoin_Update.head()"
   ]
  },
  {
   "cell_type": "code",
   "execution_count": 63,
   "metadata": {},
   "outputs": [
    {
     "data": {
      "text/html": [
       "<div>\n",
       "<style scoped>\n",
       "    .dataframe tbody tr th:only-of-type {\n",
       "        vertical-align: middle;\n",
       "    }\n",
       "\n",
       "    .dataframe tbody tr th {\n",
       "        vertical-align: top;\n",
       "    }\n",
       "\n",
       "    .dataframe thead th {\n",
       "        text-align: right;\n",
       "    }\n",
       "</style>\n",
       "<table border=\"1\" class=\"dataframe\">\n",
       "  <thead>\n",
       "    <tr style=\"text-align: right;\">\n",
       "      <th></th>\n",
       "      <th>Close</th>\n",
       "      <th>Percent_Change</th>\n",
       "    </tr>\n",
       "  </thead>\n",
       "  <tbody>\n",
       "    <tr>\n",
       "      <th>count</th>\n",
       "      <td>60.00</td>\n",
       "      <td>60.00</td>\n",
       "    </tr>\n",
       "    <tr>\n",
       "      <th>mean</th>\n",
       "      <td>4933.25</td>\n",
       "      <td>8.36</td>\n",
       "    </tr>\n",
       "    <tr>\n",
       "      <th>std</th>\n",
       "      <td>3971.66</td>\n",
       "      <td>22.25</td>\n",
       "    </tr>\n",
       "    <tr>\n",
       "      <th>min</th>\n",
       "      <td>233.60</td>\n",
       "      <td>-31.21</td>\n",
       "    </tr>\n",
       "    <tr>\n",
       "      <th>25%</th>\n",
       "      <td>710.10</td>\n",
       "      <td>-3.25</td>\n",
       "    </tr>\n",
       "    <tr>\n",
       "      <th>50%</th>\n",
       "      <td>4621.65</td>\n",
       "      <td>4.63</td>\n",
       "    </tr>\n",
       "    <tr>\n",
       "      <th>75%</th>\n",
       "      <td>8377.50</td>\n",
       "      <td>14.89</td>\n",
       "    </tr>\n",
       "    <tr>\n",
       "      <th>max</th>\n",
       "      <td>15294.27</td>\n",
       "      <td>95.75</td>\n",
       "    </tr>\n",
       "  </tbody>\n",
       "</table>\n",
       "</div>"
      ],
      "text/plain": [
       "          Close  Percent_Change\n",
       "count     60.00           60.00\n",
       "mean    4933.25            8.36\n",
       "std     3971.66           22.25\n",
       "min      233.60          -31.21\n",
       "25%      710.10           -3.25\n",
       "50%     4621.65            4.63\n",
       "75%     8377.50           14.89\n",
       "max    15294.27           95.75"
      ]
     },
     "execution_count": 63,
     "metadata": {},
     "output_type": "execute_result"
    }
   ],
   "source": [
    "# summary statistics for all numerical columns\n",
    "round(coin_Bitcoin_Update.describe(),2)"
   ]
  },
  {
   "cell_type": "code",
   "execution_count": 64,
   "metadata": {},
   "outputs": [
    {
     "data": {
      "text/html": [
       "<div>\n",
       "<style scoped>\n",
       "    .dataframe tbody tr th:only-of-type {\n",
       "        vertical-align: middle;\n",
       "    }\n",
       "\n",
       "    .dataframe tbody tr th {\n",
       "        vertical-align: top;\n",
       "    }\n",
       "\n",
       "    .dataframe thead th {\n",
       "        text-align: right;\n",
       "    }\n",
       "</style>\n",
       "<table border=\"1\" class=\"dataframe\">\n",
       "  <thead>\n",
       "    <tr style=\"text-align: right;\">\n",
       "      <th></th>\n",
       "      <th>Date</th>\n",
       "      <th>Close</th>\n",
       "      <th>Percent_Change</th>\n",
       "    </tr>\n",
       "  </thead>\n",
       "  <tbody>\n",
       "    <tr>\n",
       "      <th>0</th>\n",
       "      <td>2015-08-31</td>\n",
       "      <td>1.259649</td>\n",
       "      <td>-21.488746</td>\n",
       "    </tr>\n",
       "    <tr>\n",
       "      <th>1</th>\n",
       "      <td>2015-09-30</td>\n",
       "      <td>0.988966</td>\n",
       "      <td>-33.152008</td>\n",
       "    </tr>\n",
       "    <tr>\n",
       "      <th>2</th>\n",
       "      <td>2015-10-31</td>\n",
       "      <td>0.661104</td>\n",
       "      <td>40.878313</td>\n",
       "    </tr>\n",
       "    <tr>\n",
       "      <th>3</th>\n",
       "      <td>2015-11-30</td>\n",
       "      <td>0.931352</td>\n",
       "      <td>-4.841650</td>\n",
       "    </tr>\n",
       "    <tr>\n",
       "      <th>4</th>\n",
       "      <td>2015-12-31</td>\n",
       "      <td>0.886259</td>\n",
       "      <td>68.652269</td>\n",
       "    </tr>\n",
       "  </tbody>\n",
       "</table>\n",
       "</div>"
      ],
      "text/plain": [
       "        Date     Close  Percent_Change\n",
       "0 2015-08-31  1.259649      -21.488746\n",
       "1 2015-09-30  0.988966      -33.152008\n",
       "2 2015-10-31  0.661104       40.878313\n",
       "3 2015-11-30  0.931352       -4.841650\n",
       "4 2015-12-31  0.886259       68.652269"
      ]
     },
     "execution_count": 64,
     "metadata": {},
     "output_type": "execute_result"
    }
   ],
   "source": [
    "coin_Ethereum_Update.head()"
   ]
  },
  {
   "cell_type": "code",
   "execution_count": null,
   "metadata": {},
   "outputs": [],
   "source": [
    "# summary statistics for all numerical columns\n",
    "round(coin_Ethereum_Update.describe(),2)"
   ]
  },
  {
   "cell_type": "code",
   "execution_count": 6,
   "metadata": {},
   "outputs": [
    {
     "ename": "NameError",
     "evalue": "name 'coin_Bitcoin_Update' is not defined",
     "output_type": "error",
     "traceback": [
      "\u001b[1;31m---------------------------------------------------------------------------\u001b[0m",
      "\u001b[1;31mNameError\u001b[0m                                 Traceback (most recent call last)",
      "\u001b[1;32m<ipython-input-6-651a603fd422>\u001b[0m in \u001b[0;36m<module>\u001b[1;34m\u001b[0m\n\u001b[0;32m      1\u001b[0m \u001b[1;31m# quantiles\u001b[0m\u001b[1;33m\u001b[0m\u001b[1;33m\u001b[0m\u001b[1;33m\u001b[0m\u001b[0m\n\u001b[1;32m----> 2\u001b[1;33m \u001b[0mcoin_Bitcoin_Update\u001b[0m\u001b[1;33m[\u001b[0m\u001b[1;34m'Percent_Change'\u001b[0m\u001b[1;33m]\u001b[0m\u001b[1;33m.\u001b[0m\u001b[0mquantile\u001b[0m\u001b[1;33m(\u001b[0m\u001b[1;33m[\u001b[0m\u001b[1;36m.25\u001b[0m\u001b[1;33m,\u001b[0m \u001b[1;36m.5\u001b[0m\u001b[1;33m,\u001b[0m \u001b[1;36m.75\u001b[0m\u001b[1;33m]\u001b[0m\u001b[1;33m)\u001b[0m\u001b[1;33m\u001b[0m\u001b[1;33m\u001b[0m\u001b[0m\n\u001b[0m",
      "\u001b[1;31mNameError\u001b[0m: name 'coin_Bitcoin_Update' is not defined"
     ]
    }
   ],
   "source": [
    "# quantiles\n",
    "coin_Bitcoin_Update['Percent_Change'].quantile([.25, .5, .75])"
   ]
  },
  {
   "cell_type": "code",
   "execution_count": 7,
   "metadata": {},
   "outputs": [
    {
     "ename": "NameError",
     "evalue": "name 'coin_Ethereum_Update' is not defined",
     "output_type": "error",
     "traceback": [
      "\u001b[1;31m---------------------------------------------------------------------------\u001b[0m",
      "\u001b[1;31mNameError\u001b[0m                                 Traceback (most recent call last)",
      "\u001b[1;32m<ipython-input-7-dc3c3b254917>\u001b[0m in \u001b[0;36m<module>\u001b[1;34m\u001b[0m\n\u001b[0;32m      1\u001b[0m \u001b[1;31m# quantiles\u001b[0m\u001b[1;33m\u001b[0m\u001b[1;33m\u001b[0m\u001b[1;33m\u001b[0m\u001b[0m\n\u001b[1;32m----> 2\u001b[1;33m \u001b[0mcoin_Ethereum_Update\u001b[0m\u001b[1;33m[\u001b[0m\u001b[1;34m'Percent_Change'\u001b[0m\u001b[1;33m]\u001b[0m\u001b[1;33m.\u001b[0m\u001b[0mquantile\u001b[0m\u001b[1;33m(\u001b[0m\u001b[1;33m[\u001b[0m\u001b[1;36m.25\u001b[0m\u001b[1;33m,\u001b[0m \u001b[1;36m.5\u001b[0m\u001b[1;33m,\u001b[0m \u001b[1;36m.75\u001b[0m\u001b[1;33m]\u001b[0m\u001b[1;33m)\u001b[0m\u001b[1;33m\u001b[0m\u001b[1;33m\u001b[0m\u001b[0m\n\u001b[0m",
      "\u001b[1;31mNameError\u001b[0m: name 'coin_Ethereum_Update' is not defined"
     ]
    }
   ],
   "source": [
    "# quantiles\n",
    "coin_Ethereum_Update['Percent_Change'].quantile([.25, .5, .75])"
   ]
  },
  {
   "cell_type": "code",
   "execution_count": 8,
   "metadata": {},
   "outputs": [
    {
     "ename": "NameError",
     "evalue": "name 'coin_Bitcoin_Update' is not defined",
     "output_type": "error",
     "traceback": [
      "\u001b[1;31m---------------------------------------------------------------------------\u001b[0m",
      "\u001b[1;31mNameError\u001b[0m                                 Traceback (most recent call last)",
      "\u001b[1;32m<ipython-input-8-b16ab181f073>\u001b[0m in \u001b[0;36m<module>\u001b[1;34m\u001b[0m\n\u001b[0;32m      1\u001b[0m \u001b[1;31m# Range\u001b[0m\u001b[1;33m\u001b[0m\u001b[1;33m\u001b[0m\u001b[1;33m\u001b[0m\u001b[0m\n\u001b[1;32m----> 2\u001b[1;33m \u001b[0mcoin_Bitcoin_Update\u001b[0m\u001b[1;33m[\u001b[0m\u001b[1;34m'Percent_Change'\u001b[0m\u001b[1;33m]\u001b[0m\u001b[1;33m.\u001b[0m\u001b[0mmax\u001b[0m\u001b[1;33m(\u001b[0m\u001b[1;33m)\u001b[0m \u001b[1;33m-\u001b[0m \u001b[0mcoin_Bitcoin_Update\u001b[0m\u001b[1;33m[\u001b[0m\u001b[1;34m'Percent_Change'\u001b[0m\u001b[1;33m]\u001b[0m\u001b[1;33m.\u001b[0m\u001b[0mmin\u001b[0m\u001b[1;33m(\u001b[0m\u001b[1;33m)\u001b[0m\u001b[1;33m\u001b[0m\u001b[1;33m\u001b[0m\u001b[0m\n\u001b[0m",
      "\u001b[1;31mNameError\u001b[0m: name 'coin_Bitcoin_Update' is not defined"
     ]
    }
   ],
   "source": [
    "# Range\n",
    "coin_Bitcoin_Update['Percent_Change'].max() - coin_Bitcoin_Update['Percent_Change'].min()"
   ]
  },
  {
   "cell_type": "code",
   "execution_count": 9,
   "metadata": {},
   "outputs": [
    {
     "ename": "NameError",
     "evalue": "name 'coin_Bitcoin_Update' is not defined",
     "output_type": "error",
     "traceback": [
      "\u001b[1;31m---------------------------------------------------------------------------\u001b[0m",
      "\u001b[1;31mNameError\u001b[0m                                 Traceback (most recent call last)",
      "\u001b[1;32m<ipython-input-9-d077c1082e03>\u001b[0m in \u001b[0;36m<module>\u001b[1;34m\u001b[0m\n\u001b[1;32m----> 1\u001b[1;33m \u001b[0mcoin_Bitcoin_Update\u001b[0m\u001b[1;33m[\u001b[0m\u001b[1;34m'Percent_Change'\u001b[0m\u001b[1;33m]\u001b[0m\u001b[1;33m.\u001b[0m\u001b[0mmax\u001b[0m\u001b[1;33m(\u001b[0m\u001b[1;33m)\u001b[0m\u001b[1;33m\u001b[0m\u001b[1;33m\u001b[0m\u001b[0m\n\u001b[0m",
      "\u001b[1;31mNameError\u001b[0m: name 'coin_Bitcoin_Update' is not defined"
     ]
    }
   ],
   "source": [
    "coin_Bitcoin_Update['Percent_Change'].max()"
   ]
  },
  {
   "cell_type": "code",
   "execution_count": 47,
   "metadata": {},
   "outputs": [
    {
     "data": {
      "text/plain": [
       "-31.211764692085715"
      ]
     },
     "execution_count": 47,
     "metadata": {},
     "output_type": "execute_result"
    }
   ],
   "source": [
    "coin_Bitcoin_Update['Percent_Change'].min()"
   ]
  },
  {
   "cell_type": "code",
   "execution_count": 48,
   "metadata": {},
   "outputs": [
    {
     "ename": "NameError",
     "evalue": "name 'Bitcoin_Ethereum' is not defined",
     "output_type": "error",
     "traceback": [
      "\u001b[1;31m---------------------------------------------------------------------------\u001b[0m",
      "\u001b[1;31mNameError\u001b[0m                                 Traceback (most recent call last)",
      "\u001b[1;32m<ipython-input-48-004f33149a6f>\u001b[0m in \u001b[0;36m<module>\u001b[1;34m\u001b[0m\n\u001b[0;32m      1\u001b[0m \u001b[1;31m#Distibution of Variables\u001b[0m\u001b[1;33m\u001b[0m\u001b[1;33m\u001b[0m\u001b[1;33m\u001b[0m\u001b[0m\n\u001b[0;32m      2\u001b[0m \u001b[1;31m# histogram with seaborn\u001b[0m\u001b[1;33m\u001b[0m\u001b[1;33m\u001b[0m\u001b[1;33m\u001b[0m\u001b[0m\n\u001b[1;32m----> 3\u001b[1;33m \u001b[0msns\u001b[0m\u001b[1;33m.\u001b[0m\u001b[0mdistplot\u001b[0m\u001b[1;33m(\u001b[0m\u001b[0mBitcoin_Ethereum\u001b[0m\u001b[1;33m.\u001b[0m\u001b[0mBitcoin_Percent_Change\u001b[0m\u001b[1;33m)\u001b[0m\u001b[1;33m;\u001b[0m\u001b[1;33m\u001b[0m\u001b[1;33m\u001b[0m\u001b[0m\n\u001b[0m",
      "\u001b[1;31mNameError\u001b[0m: name 'Bitcoin_Ethereum' is not defined"
     ]
    }
   ],
   "source": [
    "#Distibution of Variables\n",
    "# histogram with seaborn\n",
    "sns.distplot(Bitcoin_Ethereum.Bitcoin_Percent_Change);"
   ]
  },
  {
   "cell_type": "code",
   "execution_count": 49,
   "metadata": {},
   "outputs": [
    {
     "ename": "NameError",
     "evalue": "name 'Bitcoin_Ethereum' is not defined",
     "output_type": "error",
     "traceback": [
      "\u001b[1;31m---------------------------------------------------------------------------\u001b[0m",
      "\u001b[1;31mNameError\u001b[0m                                 Traceback (most recent call last)",
      "\u001b[1;32m<ipython-input-49-99a21902731b>\u001b[0m in \u001b[0;36m<module>\u001b[1;34m\u001b[0m\n\u001b[1;32m----> 1\u001b[1;33m \u001b[0mBitcoin_Ethereum\u001b[0m\u001b[1;33m.\u001b[0m\u001b[0mhist\u001b[0m\u001b[1;33m(\u001b[0m\u001b[0mbins\u001b[0m\u001b[1;33m=\u001b[0m\u001b[1;36m5\u001b[0m\u001b[1;33m,\u001b[0m \u001b[0mfigsize\u001b[0m\u001b[1;33m=\u001b[0m\u001b[1;33m(\u001b[0m\u001b[1;36m10\u001b[0m\u001b[1;33m,\u001b[0m\u001b[1;36m5\u001b[0m\u001b[1;33m)\u001b[0m\u001b[1;33m)\u001b[0m\u001b[1;33m;\u001b[0m\u001b[1;33m\u001b[0m\u001b[1;33m\u001b[0m\u001b[0m\n\u001b[0m",
      "\u001b[1;31mNameError\u001b[0m: name 'Bitcoin_Ethereum' is not defined"
     ]
    }
   ],
   "source": [
    "Bitcoin_Ethereum.hist(bins=5, figsize=(10,5));"
   ]
  },
  {
   "cell_type": "code",
   "execution_count": 50,
   "metadata": {},
   "outputs": [
    {
     "data": {
      "image/png": "[encoded data removed]",
      "text/plain": [
       "<Figure size 432x288 with 1 Axes>"
      ]
     },
     "metadata": {},
     "output_type": "display_data"
    }
   ],
   "source": [
    "# boxplot \n",
    "sns.boxplot(y='Percent_Change', data=coin_Bitcoin_Update, palette='winter');"
   ]
  },
  {
   "cell_type": "code",
   "execution_count": null,
   "metadata": {},
   "outputs": [],
   "source": []
  },
  {
   "cell_type": "code",
   "execution_count": 51,
   "metadata": {},
   "outputs": [],
   "source": [
    "coin_Ethereum_Update= coin_Ethereum_Update.rename(columns={\"Date\": \"Date\",\"Close\": \"Ethereum_Close\", \"Percent_Change\": \"Ethereum_Percent_Change\"}, errors=\"raise\")\n",
    "coin_Bitcoin_Update= coin_Bitcoin_Update.rename(columns={\"Date\": \"Date\",\"Close\": \"Bitcoin_Close\", \"Percent_Change\": \"Bitcoin_Percent_Change\"}, errors=\"raise\")"
   ]
  },
  {
   "cell_type": "code",
   "execution_count": 52,
   "metadata": {},
   "outputs": [
    {
     "data": {
      "text/html": [
       "<div>\n",
       "<style scoped>\n",
       "    .dataframe tbody tr th:only-of-type {\n",
       "        vertical-align: middle;\n",
       "    }\n",
       "\n",
       "    .dataframe tbody tr th {\n",
       "        vertical-align: top;\n",
       "    }\n",
       "\n",
       "    .dataframe thead th {\n",
       "        text-align: right;\n",
       "    }\n",
       "</style>\n",
       "<table border=\"1\" class=\"dataframe\">\n",
       "  <thead>\n",
       "    <tr style=\"text-align: right;\">\n",
       "      <th></th>\n",
       "      <th>Date</th>\n",
       "      <th>Bitcoin_Close</th>\n",
       "      <th>Bitcoin_Percent_Change</th>\n",
       "    </tr>\n",
       "  </thead>\n",
       "  <tbody>\n",
       "    <tr>\n",
       "      <th>0</th>\n",
       "      <td>2015-08-31</td>\n",
       "      <td>241.751832</td>\n",
       "      <td>-3.373831</td>\n",
       "    </tr>\n",
       "    <tr>\n",
       "      <th>1</th>\n",
       "      <td>2015-09-30</td>\n",
       "      <td>233.595533</td>\n",
       "      <td>13.382029</td>\n",
       "    </tr>\n",
       "    <tr>\n",
       "      <th>2</th>\n",
       "      <td>2015-10-31</td>\n",
       "      <td>264.855356</td>\n",
       "      <td>31.725987</td>\n",
       "    </tr>\n",
       "    <tr>\n",
       "      <th>3</th>\n",
       "      <td>2015-11-30</td>\n",
       "      <td>348.883332</td>\n",
       "      <td>21.663751</td>\n",
       "    </tr>\n",
       "    <tr>\n",
       "      <th>4</th>\n",
       "      <td>2015-12-31</td>\n",
       "      <td>424.464547</td>\n",
       "      <td>-3.208763</td>\n",
       "    </tr>\n",
       "  </tbody>\n",
       "</table>\n",
       "</div>"
      ],
      "text/plain": [
       "        Date  Bitcoin_Close  Bitcoin_Percent_Change\n",
       "0 2015-08-31     241.751832               -3.373831\n",
       "1 2015-09-30     233.595533               13.382029\n",
       "2 2015-10-31     264.855356               31.725987\n",
       "3 2015-11-30     348.883332               21.663751\n",
       "4 2015-12-31     424.464547               -3.208763"
      ]
     },
     "execution_count": 52,
     "metadata": {},
     "output_type": "execute_result"
    }
   ],
   "source": [
    "coin_Bitcoin_Update.head()"
   ]
  },
  {
   "cell_type": "code",
   "execution_count": 53,
   "metadata": {},
   "outputs": [
    {
     "data": {
      "text/html": [
       "<div>\n",
       "<style scoped>\n",
       "    .dataframe tbody tr th:only-of-type {\n",
       "        vertical-align: middle;\n",
       "    }\n",
       "\n",
       "    .dataframe tbody tr th {\n",
       "        vertical-align: top;\n",
       "    }\n",
       "\n",
       "    .dataframe thead th {\n",
       "        text-align: right;\n",
       "    }\n",
       "</style>\n",
       "<table border=\"1\" class=\"dataframe\">\n",
       "  <thead>\n",
       "    <tr style=\"text-align: right;\">\n",
       "      <th></th>\n",
       "      <th>Date</th>\n",
       "      <th>Bitcoin_Close</th>\n",
       "      <th>Bitcoin_Percent_Change</th>\n",
       "      <th>Ethereum_Close</th>\n",
       "      <th>Ethereum_Percent_Change</th>\n",
       "    </tr>\n",
       "  </thead>\n",
       "  <tbody>\n",
       "    <tr>\n",
       "      <th>0</th>\n",
       "      <td>2015-08-31</td>\n",
       "      <td>241.751832</td>\n",
       "      <td>-3.373831</td>\n",
       "      <td>1.259649</td>\n",
       "      <td>-21.488746</td>\n",
       "    </tr>\n",
       "    <tr>\n",
       "      <th>1</th>\n",
       "      <td>2015-09-30</td>\n",
       "      <td>233.595533</td>\n",
       "      <td>13.382029</td>\n",
       "      <td>0.988966</td>\n",
       "      <td>-33.152008</td>\n",
       "    </tr>\n",
       "    <tr>\n",
       "      <th>2</th>\n",
       "      <td>2015-10-31</td>\n",
       "      <td>264.855356</td>\n",
       "      <td>31.725987</td>\n",
       "      <td>0.661104</td>\n",
       "      <td>40.878313</td>\n",
       "    </tr>\n",
       "    <tr>\n",
       "      <th>3</th>\n",
       "      <td>2015-11-30</td>\n",
       "      <td>348.883332</td>\n",
       "      <td>21.663751</td>\n",
       "      <td>0.931352</td>\n",
       "      <td>-4.841650</td>\n",
       "    </tr>\n",
       "    <tr>\n",
       "      <th>4</th>\n",
       "      <td>2015-12-31</td>\n",
       "      <td>424.464547</td>\n",
       "      <td>-3.208763</td>\n",
       "      <td>0.886259</td>\n",
       "      <td>68.652269</td>\n",
       "    </tr>\n",
       "  </tbody>\n",
       "</table>\n",
       "</div>"
      ],
      "text/plain": [
       "        Date  Bitcoin_Close  Bitcoin_Percent_Change  Ethereum_Close  \\\n",
       "0 2015-08-31     241.751832               -3.373831        1.259649   \n",
       "1 2015-09-30     233.595533               13.382029        0.988966   \n",
       "2 2015-10-31     264.855356               31.725987        0.661104   \n",
       "3 2015-11-30     348.883332               21.663751        0.931352   \n",
       "4 2015-12-31     424.464547               -3.208763        0.886259   \n",
       "\n",
       "   Ethereum_Percent_Change  \n",
       "0               -21.488746  \n",
       "1               -33.152008  \n",
       "2                40.878313  \n",
       "3                -4.841650  \n",
       "4                68.652269  "
      ]
     },
     "execution_count": 53,
     "metadata": {},
     "output_type": "execute_result"
    }
   ],
   "source": [
    "\n",
    "coin_Ethereum_Update = coin_Ethereum_Update.drop(['Date'], axis=1)\n",
    "Bitcoin_Ethereum = pd.concat([coin_Bitcoin_Update, coin_Ethereum_Update], axis=1)\n",
    "Bitcoin_Ethereum.head()"
   ]
  },
  {
   "cell_type": "code",
   "execution_count": 54,
   "metadata": {},
   "outputs": [
    {
     "data": {
      "image/png": "[encoded data removed]",
      "text/plain": [
       "<Figure size 432x288 with 1 Axes>"
      ]
     },
     "metadata": {},
     "output_type": "display_data"
    }
   ],
   "source": [
    "#Distibution of Variables\n",
    "# histogram with seaborn\n",
    "sns.distplot(Bitcoin_Ethereum.Bitcoin_Percent_Change);"
   ]
  },
  {
   "cell_type": "code",
   "execution_count": 55,
   "metadata": {},
   "outputs": [
    {
     "data": {
      "image/png": "[encoded data removed]",
      "text/plain": [
       "<Figure size 432x288 with 1 Axes>"
      ]
     },
     "metadata": {},
     "output_type": "display_data"
    }
   ],
   "source": [
    "#Distibution of Variables\n",
    "# histogram with seaborn\n",
    "sns.distplot(Bitcoin_Ethereum.Ethereum_Percent_Change);"
   ]
  },
  {
   "cell_type": "code",
   "execution_count": 56,
   "metadata": {},
   "outputs": [
    {
     "data": {
      "image/png": "[encoded data removed]",
      "text/plain": [
       "<Figure size 720x360 with 4 Axes>"
      ]
     },
     "metadata": {},
     "output_type": "display_data"
    }
   ],
   "source": [
    "Bitcoin_Ethereum.hist(bins=5, figsize=(10,5));"
   ]
  },
  {
   "cell_type": "code",
   "execution_count": 57,
   "metadata": {},
   "outputs": [
    {
     "data": {
      "image/png": "[encoded data removed]",
      "text/plain": [
       "<Figure size 720x720 with 1 Axes>"
      ]
     },
     "metadata": {},
     "output_type": "display_data"
    }
   ],
   "source": [
    "Bitcoin_Ethereum.boxplot(figsize=(10,10));"
   ]
  },
  {
   "cell_type": "code",
   "execution_count": 58,
   "metadata": {},
   "outputs": [
    {
     "data": {
      "image/png": "[encoded data removed]",
      "text/plain": [
       "<Figure size 432x288 with 1 Axes>"
      ]
     },
     "metadata": {},
     "output_type": "display_data"
    }
   ],
   "source": [
    "# boxplot \n",
    "sns.boxplot(y='Bitcoin_Percent_Change', data=Bitcoin_Ethereum, palette='winter');"
   ]
  },
  {
   "cell_type": "code",
   "execution_count": 59,
   "metadata": {},
   "outputs": [
    {
     "data": {
      "image/png": "[encoded data removed]",
      "text/plain": [
       "<Figure size 432x288 with 1 Axes>"
      ]
     },
     "metadata": {},
     "output_type": "display_data"
    }
   ],
   "source": [
    "# boxplot \n",
    "sns.boxplot(y='Ethereum_Percent_Change', data=Bitcoin_Ethereum, palette='winter');"
   ]
  },
  {
   "cell_type": "code",
   "execution_count": 60,
   "metadata": {},
   "outputs": [
    {
     "data": {
      "image/png": "[encoded data removed]",
      "text/plain": [
       "<Figure size 432x432 with 3 Axes>"
      ]
     },
     "metadata": {},
     "output_type": "display_data"
    }
   ],
   "source": [
    "\n",
    "# check relationship with a joint plot\n",
    "sns.jointplot(x=\"Bitcoin_Percent_Change\", y=\"Ethereum_Percent_Change\", data=Bitcoin_Ethereum, stat_func=None);"
   ]
  },
  {
   "cell_type": "code",
   "execution_count": 61,
   "metadata": {},
   "outputs": [
    {
     "name": "stdout",
     "output_type": "stream",
     "text": [
      "8.362566795970817\n"
     ]
    }
   ],
   "source": [
    "# calculate the mean \n",
    "sum_x_i = Bitcoin_Ethereum.Bitcoin_Percent_Change.sum() \n",
    "n = len(Bitcoin_Ethereum[\"Bitcoin_Percent_Change\"])\n",
    "# formula for mean\n",
    "x_bar = sum_x_i / n\n",
    "print(x_bar)"
   ]
  },
  {
   "cell_type": "code",
   "execution_count": 62,
   "metadata": {},
   "outputs": [],
   "source": [
    "bitcoin_mean = Bitcoin_Ethereum['Bitcoin_Percent_Change'].mean()\n",
    "ethereum_mean = Bitcoin_Ethereum['Bitcoin_Percent_Change'].mean()"
   ]
  },
  {
   "cell_type": "code",
   "execution_count": 63,
   "metadata": {},
   "outputs": [
    {
     "data": {
      "text/html": [
       "<div>\n",
       "<style scoped>\n",
       "    .dataframe tbody tr th:only-of-type {\n",
       "        vertical-align: middle;\n",
       "    }\n",
       "\n",
       "    .dataframe tbody tr th {\n",
       "        vertical-align: top;\n",
       "    }\n",
       "\n",
       "    .dataframe thead th {\n",
       "        text-align: right;\n",
       "    }\n",
       "</style>\n",
       "<table border=\"1\" class=\"dataframe\">\n",
       "  <thead>\n",
       "    <tr style=\"text-align: right;\">\n",
       "      <th></th>\n",
       "      <th>Date</th>\n",
       "      <th>Bitcoin_Close</th>\n",
       "      <th>Bitcoin_Percent_Change</th>\n",
       "      <th>Ethereum_Close</th>\n",
       "      <th>Ethereum_Percent_Change</th>\n",
       "      <th>Bitcoin_Average</th>\n",
       "      <th>Ethereum_Average</th>\n",
       "    </tr>\n",
       "  </thead>\n",
       "  <tbody>\n",
       "    <tr>\n",
       "      <th>0</th>\n",
       "      <td>2015-08-31</td>\n",
       "      <td>241.751832</td>\n",
       "      <td>-3.373831</td>\n",
       "      <td>1.259649</td>\n",
       "      <td>-21.488746</td>\n",
       "      <td>8.362567</td>\n",
       "      <td>17.735891</td>\n",
       "    </tr>\n",
       "    <tr>\n",
       "      <th>1</th>\n",
       "      <td>2015-09-30</td>\n",
       "      <td>233.595533</td>\n",
       "      <td>13.382029</td>\n",
       "      <td>0.988966</td>\n",
       "      <td>-33.152008</td>\n",
       "      <td>8.362567</td>\n",
       "      <td>17.735891</td>\n",
       "    </tr>\n",
       "    <tr>\n",
       "      <th>2</th>\n",
       "      <td>2015-10-31</td>\n",
       "      <td>264.855356</td>\n",
       "      <td>31.725987</td>\n",
       "      <td>0.661104</td>\n",
       "      <td>40.878313</td>\n",
       "      <td>8.362567</td>\n",
       "      <td>17.735891</td>\n",
       "    </tr>\n",
       "    <tr>\n",
       "      <th>3</th>\n",
       "      <td>2015-11-30</td>\n",
       "      <td>348.883332</td>\n",
       "      <td>21.663751</td>\n",
       "      <td>0.931352</td>\n",
       "      <td>-4.841650</td>\n",
       "      <td>8.362567</td>\n",
       "      <td>17.735891</td>\n",
       "    </tr>\n",
       "    <tr>\n",
       "      <th>4</th>\n",
       "      <td>2015-12-31</td>\n",
       "      <td>424.464547</td>\n",
       "      <td>-3.208763</td>\n",
       "      <td>0.886259</td>\n",
       "      <td>68.652269</td>\n",
       "      <td>8.362567</td>\n",
       "      <td>17.735891</td>\n",
       "    </tr>\n",
       "  </tbody>\n",
       "</table>\n",
       "</div>"
      ],
      "text/plain": [
       "        Date  Bitcoin_Close  Bitcoin_Percent_Change  Ethereum_Close  \\\n",
       "0 2015-08-31     241.751832               -3.373831        1.259649   \n",
       "1 2015-09-30     233.595533               13.382029        0.988966   \n",
       "2 2015-10-31     264.855356               31.725987        0.661104   \n",
       "3 2015-11-30     348.883332               21.663751        0.931352   \n",
       "4 2015-12-31     424.464547               -3.208763        0.886259   \n",
       "\n",
       "   Ethereum_Percent_Change  Bitcoin_Average  Ethereum_Average  \n",
       "0               -21.488746         8.362567         17.735891  \n",
       "1               -33.152008         8.362567         17.735891  \n",
       "2                40.878313         8.362567         17.735891  \n",
       "3                -4.841650         8.362567         17.735891  \n",
       "4                68.652269         8.362567         17.735891  "
      ]
     },
     "execution_count": 63,
     "metadata": {},
     "output_type": "execute_result"
    }
   ],
   "source": [
    "# add the mean (as \"average\") to our DataFrame\n",
    "Bitcoin_Ethereum = Bitcoin_Ethereum.assign(Bitcoin_Average = Bitcoin_Ethereum.Bitcoin_Percent_Change.mean())\n",
    "Bitcoin_Ethereum = Bitcoin_Ethereum.assign(Ethereum_Average = Bitcoin_Ethereum.Ethereum_Percent_Change.mean())\n",
    "Bitcoin_Ethereum.head()"
   ]
  },
  {
   "cell_type": "code",
   "execution_count": 64,
   "metadata": {},
   "outputs": [
    {
     "data": {
      "image/png": "[encoded data removed]",
      "text/plain": [
       "<Figure size 432x288 with 1 Axes>"
      ]
     },
     "metadata": {},
     "output_type": "display_data"
    }
   ],
   "source": [
    "# create a scatterplot (plt)\n",
    "btc_max = Bitcoin_Ethereum[\"Bitcoin_Percent_Change\"].max()\n",
    "btc_min = Bitcoin_Ethereum[\"Bitcoin_Percent_Change\"].min()\n",
    "plt = sns.scatterplot(x=\"Bitcoin_Percent_Change\", y=\"Ethereum_Percent_Change\",data=Bitcoin_Ethereum);\n",
    "plt.set(xlabel='Bitcoin_Percent_Change', ylabel='Ethereum_Percent_Change', title='Error of the model');\n",
    "plt.plot([btc_min, btc_max], [bitcoin_mean, bitcoin_mean], linewidth=2, color='r');\n",
    "num = bitcoin_mean + 1\n",
    "plt.text(1, num,'mean = ' + str(bitcoin_mean), rotation=0, color='r');"
   ]
  },
  {
   "cell_type": "markdown",
   "metadata": {},
   "source": [
    "### Linear Regression"
   ]
  },
  {
   "cell_type": "code",
   "execution_count": 65,
   "metadata": {},
   "outputs": [],
   "source": [
    "# fit linear model with statsmodels.formula.api (with R-style formulas) \n",
    "lm = smf.ols(formula ='Bitcoin_Percent_Change ~ Ethereum_Percent_Change', data=Bitcoin_Ethereum).fit()\n",
    "\n",
    "# add the regression predictions (as \"pred\") to our DataFrame\n",
    "Bitcoin_Ethereum['Prediction'] = lm.predict()"
   ]
  },
  {
   "cell_type": "code",
   "execution_count": 66,
   "metadata": {},
   "outputs": [
    {
     "data": {
      "text/html": [
       "<div>\n",
       "<style scoped>\n",
       "    .dataframe tbody tr th:only-of-type {\n",
       "        vertical-align: middle;\n",
       "    }\n",
       "\n",
       "    .dataframe tbody tr th {\n",
       "        vertical-align: top;\n",
       "    }\n",
       "\n",
       "    .dataframe thead th {\n",
       "        text-align: right;\n",
       "    }\n",
       "</style>\n",
       "<table border=\"1\" class=\"dataframe\">\n",
       "  <thead>\n",
       "    <tr style=\"text-align: right;\">\n",
       "      <th></th>\n",
       "      <th>Date</th>\n",
       "      <th>Bitcoin_Close</th>\n",
       "      <th>Bitcoin_Percent_Change</th>\n",
       "      <th>Ethereum_Close</th>\n",
       "      <th>Ethereum_Percent_Change</th>\n",
       "      <th>Bitcoin_Average</th>\n",
       "      <th>Ethereum_Average</th>\n",
       "      <th>Prediction</th>\n",
       "    </tr>\n",
       "  </thead>\n",
       "  <tbody>\n",
       "    <tr>\n",
       "      <th>0</th>\n",
       "      <td>2015-08-31</td>\n",
       "      <td>241.751832</td>\n",
       "      <td>-3.373831</td>\n",
       "      <td>1.259649</td>\n",
       "      <td>-21.488746</td>\n",
       "      <td>8.362567</td>\n",
       "      <td>17.735891</td>\n",
       "      <td>1.910664</td>\n",
       "    </tr>\n",
       "    <tr>\n",
       "      <th>1</th>\n",
       "      <td>2015-09-30</td>\n",
       "      <td>233.595533</td>\n",
       "      <td>13.382029</td>\n",
       "      <td>0.988966</td>\n",
       "      <td>-33.152008</td>\n",
       "      <td>8.362567</td>\n",
       "      <td>17.735891</td>\n",
       "      <td>-0.007779</td>\n",
       "    </tr>\n",
       "    <tr>\n",
       "      <th>2</th>\n",
       "      <td>2015-10-31</td>\n",
       "      <td>264.855356</td>\n",
       "      <td>31.725987</td>\n",
       "      <td>0.661104</td>\n",
       "      <td>40.878313</td>\n",
       "      <td>8.362567</td>\n",
       "      <td>17.735891</td>\n",
       "      <td>12.169171</td>\n",
       "    </tr>\n",
       "    <tr>\n",
       "      <th>3</th>\n",
       "      <td>2015-11-30</td>\n",
       "      <td>348.883332</td>\n",
       "      <td>21.663751</td>\n",
       "      <td>0.931352</td>\n",
       "      <td>-4.841650</td>\n",
       "      <td>8.362567</td>\n",
       "      <td>17.735891</td>\n",
       "      <td>4.648878</td>\n",
       "    </tr>\n",
       "    <tr>\n",
       "      <th>4</th>\n",
       "      <td>2015-12-31</td>\n",
       "      <td>424.464547</td>\n",
       "      <td>-3.208763</td>\n",
       "      <td>0.886259</td>\n",
       "      <td>68.652269</td>\n",
       "      <td>8.362567</td>\n",
       "      <td>17.735891</td>\n",
       "      <td>16.737597</td>\n",
       "    </tr>\n",
       "    <tr>\n",
       "      <th>5</th>\n",
       "      <td>2016-01-31</td>\n",
       "      <td>410.844485</td>\n",
       "      <td>-1.566581</td>\n",
       "      <td>1.494696</td>\n",
       "      <td>204.135973</td>\n",
       "      <td>8.362567</td>\n",
       "      <td>17.735891</td>\n",
       "      <td>39.022766</td>\n",
       "    </tr>\n",
       "    <tr>\n",
       "      <th>6</th>\n",
       "      <td>2016-02-29</td>\n",
       "      <td>404.408274</td>\n",
       "      <td>2.996353</td>\n",
       "      <td>4.545909</td>\n",
       "      <td>145.820987</td>\n",
       "      <td>8.362567</td>\n",
       "      <td>17.735891</td>\n",
       "      <td>29.430768</td>\n",
       "    </tr>\n",
       "    <tr>\n",
       "      <th>7</th>\n",
       "      <td>2016-03-31</td>\n",
       "      <td>416.525774</td>\n",
       "      <td>4.276716</td>\n",
       "      <td>11.174799</td>\n",
       "      <td>-19.966232</td>\n",
       "      <td>8.362567</td>\n",
       "      <td>17.735891</td>\n",
       "      <td>2.161096</td>\n",
       "    </tr>\n",
       "    <tr>\n",
       "      <th>8</th>\n",
       "      <td>2016-04-30</td>\n",
       "      <td>434.339398</td>\n",
       "      <td>6.357935</td>\n",
       "      <td>8.943613</td>\n",
       "      <td>27.072089</td>\n",
       "      <td>8.362567</td>\n",
       "      <td>17.735891</td>\n",
       "      <td>9.898240</td>\n",
       "    </tr>\n",
       "    <tr>\n",
       "      <th>9</th>\n",
       "      <td>2016-05-31</td>\n",
       "      <td>461.954415</td>\n",
       "      <td>39.162879</td>\n",
       "      <td>11.364836</td>\n",
       "      <td>26.209011</td>\n",
       "      <td>8.362567</td>\n",
       "      <td>17.735891</td>\n",
       "      <td>9.756276</td>\n",
       "    </tr>\n",
       "    <tr>\n",
       "      <th>10</th>\n",
       "      <td>2016-06-30</td>\n",
       "      <td>642.869061</td>\n",
       "      <td>2.875709</td>\n",
       "      <td>14.343447</td>\n",
       "      <td>-17.222443</td>\n",
       "      <td>8.362567</td>\n",
       "      <td>17.735891</td>\n",
       "      <td>2.612411</td>\n",
       "    </tr>\n",
       "    <tr>\n",
       "      <th>11</th>\n",
       "      <td>2016-07-31</td>\n",
       "      <td>661.356103</td>\n",
       "      <td>-12.364127</td>\n",
       "      <td>11.873155</td>\n",
       "      <td>-6.403852</td>\n",
       "      <td>8.362567</td>\n",
       "      <td>17.735891</td>\n",
       "      <td>4.391918</td>\n",
       "    </tr>\n",
       "    <tr>\n",
       "      <th>12</th>\n",
       "      <td>2016-08-31</td>\n",
       "      <td>579.585197</td>\n",
       "      <td>4.531419</td>\n",
       "      <td>11.112815</td>\n",
       "      <td>12.214047</td>\n",
       "      <td>8.362567</td>\n",
       "      <td>17.735891</td>\n",
       "      <td>7.454301</td>\n",
       "    </tr>\n",
       "    <tr>\n",
       "      <th>13</th>\n",
       "      <td>2016-09-30</td>\n",
       "      <td>605.848633</td>\n",
       "      <td>6.223056</td>\n",
       "      <td>12.470140</td>\n",
       "      <td>-3.158083</td>\n",
       "      <td>8.362567</td>\n",
       "      <td>17.735891</td>\n",
       "      <td>4.925801</td>\n",
       "    </tr>\n",
       "    <tr>\n",
       "      <th>14</th>\n",
       "      <td>2016-10-31</td>\n",
       "      <td>643.550935</td>\n",
       "      <td>12.865829</td>\n",
       "      <td>12.076323</td>\n",
       "      <td>-17.428600</td>\n",
       "      <td>8.362567</td>\n",
       "      <td>17.735891</td>\n",
       "      <td>2.578501</td>\n",
       "    </tr>\n",
       "    <tr>\n",
       "      <th>15</th>\n",
       "      <td>2016-11-30</td>\n",
       "      <td>726.349101</td>\n",
       "      <td>14.003081</td>\n",
       "      <td>9.971589</td>\n",
       "      <td>-21.366188</td>\n",
       "      <td>8.362567</td>\n",
       "      <td>17.735891</td>\n",
       "      <td>1.930823</td>\n",
       "    </tr>\n",
       "    <tr>\n",
       "      <th>16</th>\n",
       "      <td>2016-12-31</td>\n",
       "      <td>828.060356</td>\n",
       "      <td>10.489067</td>\n",
       "      <td>7.841040</td>\n",
       "      <td>30.102647</td>\n",
       "      <td>8.362567</td>\n",
       "      <td>17.735891</td>\n",
       "      <td>10.396725</td>\n",
       "    </tr>\n",
       "    <tr>\n",
       "      <th>17</th>\n",
       "      <td>2017-01-31</td>\n",
       "      <td>914.916159</td>\n",
       "      <td>16.134540</td>\n",
       "      <td>10.201401</td>\n",
       "      <td>21.265801</td>\n",
       "      <td>8.362567</td>\n",
       "      <td>17.735891</td>\n",
       "      <td>8.943187</td>\n",
       "    </tr>\n",
       "    <tr>\n",
       "      <th>18</th>\n",
       "      <td>2017-02-28</td>\n",
       "      <td>1062.533672</td>\n",
       "      <td>6.289830</td>\n",
       "      <td>12.370811</td>\n",
       "      <td>181.235980</td>\n",
       "      <td>8.362567</td>\n",
       "      <td>17.735891</td>\n",
       "      <td>35.256038</td>\n",
       "    </tr>\n",
       "    <tr>\n",
       "      <th>19</th>\n",
       "      <td>2017-03-31</td>\n",
       "      <td>1129.365228</td>\n",
       "      <td>6.842408</td>\n",
       "      <td>34.791171</td>\n",
       "      <td>44.681997</td>\n",
       "      <td>8.362567</td>\n",
       "      <td>17.735891</td>\n",
       "      <td>12.794823</td>\n",
       "    </tr>\n",
       "    <tr>\n",
       "      <th>20</th>\n",
       "      <td>2017-04-30</td>\n",
       "      <td>1206.641007</td>\n",
       "      <td>57.079323</td>\n",
       "      <td>50.336560</td>\n",
       "      <td>149.816211</td>\n",
       "      <td>8.362567</td>\n",
       "      <td>17.735891</td>\n",
       "      <td>30.087927</td>\n",
       "    </tr>\n",
       "    <tr>\n",
       "      <th>21</th>\n",
       "      <td>2017-05-31</td>\n",
       "      <td>1895.383529</td>\n",
       "      <td>39.085536</td>\n",
       "      <td>125.748887</td>\n",
       "      <td>149.492149</td>\n",
       "      <td>8.362567</td>\n",
       "      <td>17.735891</td>\n",
       "      <td>30.034623</td>\n",
       "    </tr>\n",
       "    <tr>\n",
       "      <th>22</th>\n",
       "      <td>2017-06-30</td>\n",
       "      <td>2636.204346</td>\n",
       "      <td>-4.430080</td>\n",
       "      <td>313.733601</td>\n",
       "      <td>-28.562229</td>\n",
       "      <td>8.362567</td>\n",
       "      <td>17.735891</td>\n",
       "      <td>0.747175</td>\n",
       "    </tr>\n",
       "    <tr>\n",
       "      <th>23</th>\n",
       "      <td>2017-07-31</td>\n",
       "      <td>2519.418386</td>\n",
       "      <td>54.043093</td>\n",
       "      <td>224.124292</td>\n",
       "      <td>34.572089</td>\n",
       "      <td>8.362567</td>\n",
       "      <td>17.735891</td>\n",
       "      <td>11.131885</td>\n",
       "    </tr>\n",
       "    <tr>\n",
       "      <th>24</th>\n",
       "      <td>2017-08-31</td>\n",
       "      <td>3880.989998</td>\n",
       "      <td>4.737098</td>\n",
       "      <td>301.608741</td>\n",
       "      <td>-2.838337</td>\n",
       "      <td>8.362567</td>\n",
       "      <td>17.735891</td>\n",
       "      <td>4.978395</td>\n",
       "    </tr>\n",
       "    <tr>\n",
       "      <th>25</th>\n",
       "      <td>2017-09-30</td>\n",
       "      <td>4064.836312</td>\n",
       "      <td>31.864390</td>\n",
       "      <td>293.048068</td>\n",
       "      <td>4.503731</td>\n",
       "      <td>8.362567</td>\n",
       "      <td>17.735891</td>\n",
       "      <td>6.186062</td>\n",
       "    </tr>\n",
       "    <tr>\n",
       "      <th>26</th>\n",
       "      <td>2017-10-31</td>\n",
       "      <td>5360.071604</td>\n",
       "      <td>45.765459</td>\n",
       "      <td>306.246164</td>\n",
       "      <td>16.880844</td>\n",
       "      <td>8.362567</td>\n",
       "      <td>17.735891</td>\n",
       "      <td>8.221924</td>\n",
       "    </tr>\n",
       "    <tr>\n",
       "      <th>27</th>\n",
       "      <td>2017-11-30</td>\n",
       "      <td>7813.132975</td>\n",
       "      <td>95.750809</td>\n",
       "      <td>357.943101</td>\n",
       "      <td>78.857838</td>\n",
       "      <td>8.362567</td>\n",
       "      <td>17.735891</td>\n",
       "      <td>18.416270</td>\n",
       "    </tr>\n",
       "    <tr>\n",
       "      <th>28</th>\n",
       "      <td>2017-12-31</td>\n",
       "      <td>15294.270980</td>\n",
       "      <td>-14.441440</td>\n",
       "      <td>640.209291</td>\n",
       "      <td>72.388314</td>\n",
       "      <td>8.362567</td>\n",
       "      <td>17.735891</td>\n",
       "      <td>17.352124</td>\n",
       "    </tr>\n",
       "    <tr>\n",
       "      <th>29</th>\n",
       "      <td>2018-01-31</td>\n",
       "      <td>13085.558090</td>\n",
       "      <td>-27.614848</td>\n",
       "      <td>1103.646004</td>\n",
       "      <td>-20.888010</td>\n",
       "      <td>8.362567</td>\n",
       "      <td>17.735891</td>\n",
       "      <td>2.009477</td>\n",
       "    </tr>\n",
       "    <tr>\n",
       "      <th>30</th>\n",
       "      <td>2018-02-28</td>\n",
       "      <td>9472.001151</td>\n",
       "      <td>-4.554941</td>\n",
       "      <td>873.116318</td>\n",
       "      <td>-28.330131</td>\n",
       "      <td>8.362567</td>\n",
       "      <td>17.735891</td>\n",
       "      <td>0.785352</td>\n",
       "    </tr>\n",
       "    <tr>\n",
       "      <th>31</th>\n",
       "      <td>2018-03-31</td>\n",
       "      <td>9040.557097</td>\n",
       "      <td>-11.138257</td>\n",
       "      <td>625.761325</td>\n",
       "      <td>-16.724852</td>\n",
       "      <td>8.362567</td>\n",
       "      <td>17.735891</td>\n",
       "      <td>2.694258</td>\n",
       "    </tr>\n",
       "    <tr>\n",
       "      <th>32</th>\n",
       "      <td>2018-04-30</td>\n",
       "      <td>8033.596631</td>\n",
       "      <td>5.195694</td>\n",
       "      <td>521.103667</td>\n",
       "      <td>30.261129</td>\n",
       "      <td>8.362567</td>\n",
       "      <td>17.735891</td>\n",
       "      <td>10.422793</td>\n",
       "    </tr>\n",
       "    <tr>\n",
       "      <th>33</th>\n",
       "      <td>2018-05-31</td>\n",
       "      <td>8450.997732</td>\n",
       "      <td>-19.612951</td>\n",
       "      <td>678.795518</td>\n",
       "      <td>-23.315900</td>\n",
       "      <td>8.362567</td>\n",
       "      <td>17.735891</td>\n",
       "      <td>1.610123</td>\n",
       "    </tr>\n",
       "    <tr>\n",
       "      <th>34</th>\n",
       "      <td>2018-06-30</td>\n",
       "      <td>6793.507666</td>\n",
       "      <td>5.193817</td>\n",
       "      <td>520.528231</td>\n",
       "      <td>-10.988944</td>\n",
       "      <td>8.362567</td>\n",
       "      <td>17.735891</td>\n",
       "      <td>3.637734</td>\n",
       "    </tr>\n",
       "    <tr>\n",
       "      <th>35</th>\n",
       "      <td>2018-07-31</td>\n",
       "      <td>7146.349990</td>\n",
       "      <td>-6.244027</td>\n",
       "      <td>463.327677</td>\n",
       "      <td>-30.491755</td>\n",
       "      <td>8.362567</td>\n",
       "      <td>17.735891</td>\n",
       "      <td>0.429795</td>\n",
       "    </tr>\n",
       "    <tr>\n",
       "      <th>36</th>\n",
       "      <td>2018-08-31</td>\n",
       "      <td>6700.130000</td>\n",
       "      <td>-1.335123</td>\n",
       "      <td>322.050935</td>\n",
       "      <td>-29.371162</td>\n",
       "      <td>8.362567</td>\n",
       "      <td>17.735891</td>\n",
       "      <td>0.614117</td>\n",
       "    </tr>\n",
       "    <tr>\n",
       "      <th>37</th>\n",
       "      <td>2018-09-30</td>\n",
       "      <td>6610.675000</td>\n",
       "      <td>-1.899296</td>\n",
       "      <td>227.460833</td>\n",
       "      <td>-7.692268</td>\n",
       "      <td>8.362567</td>\n",
       "      <td>17.735891</td>\n",
       "      <td>4.179991</td>\n",
       "    </tr>\n",
       "    <tr>\n",
       "      <th>38</th>\n",
       "      <td>2018-10-31</td>\n",
       "      <td>6485.118710</td>\n",
       "      <td>-16.666905</td>\n",
       "      <td>209.963935</td>\n",
       "      <td>-19.487236</td>\n",
       "      <td>8.362567</td>\n",
       "      <td>17.735891</td>\n",
       "      <td>2.239885</td>\n",
       "    </tr>\n",
       "    <tr>\n",
       "      <th>39</th>\n",
       "      <td>2018-11-30</td>\n",
       "      <td>5404.250164</td>\n",
       "      <td>-31.211765</td>\n",
       "      <td>169.047769</td>\n",
       "      <td>-35.522310</td>\n",
       "      <td>8.362567</td>\n",
       "      <td>17.735891</td>\n",
       "      <td>-0.397660</td>\n",
       "    </tr>\n",
       "    <tr>\n",
       "      <th>40</th>\n",
       "      <td>2018-12-31</td>\n",
       "      <td>3717.488319</td>\n",
       "      <td>-0.428605</td>\n",
       "      <td>108.998097</td>\n",
       "      <td>17.593447</td>\n",
       "      <td>8.362567</td>\n",
       "      <td>17.735891</td>\n",
       "      <td>8.339137</td>\n",
       "    </tr>\n",
       "    <tr>\n",
       "      <th>41</th>\n",
       "      <td>2019-01-31</td>\n",
       "      <td>3701.554973</td>\n",
       "      <td>0.279674</td>\n",
       "      <td>128.174619</td>\n",
       "      <td>-0.744040</td>\n",
       "      <td>8.362567</td>\n",
       "      <td>17.735891</td>\n",
       "      <td>5.322877</td>\n",
       "    </tr>\n",
       "    <tr>\n",
       "      <th>42</th>\n",
       "      <td>2019-02-28</td>\n",
       "      <td>3711.907276</td>\n",
       "      <td>7.116606</td>\n",
       "      <td>127.220948</td>\n",
       "      <td>7.943732</td>\n",
       "      <td>8.362567</td>\n",
       "      <td>17.735891</td>\n",
       "      <td>6.751894</td>\n",
       "    </tr>\n",
       "    <tr>\n",
       "      <th>43</th>\n",
       "      <td>2019-03-31</td>\n",
       "      <td>3976.069093</td>\n",
       "      <td>30.240932</td>\n",
       "      <td>137.327039</td>\n",
       "      <td>20.590840</td>\n",
       "      <td>8.362567</td>\n",
       "      <td>17.735891</td>\n",
       "      <td>8.832166</td>\n",
       "    </tr>\n",
       "    <tr>\n",
       "      <th>44</th>\n",
       "      <td>2019-04-30</td>\n",
       "      <td>5178.469425</td>\n",
       "      <td>41.155494</td>\n",
       "      <td>165.603830</td>\n",
       "      <td>32.959397</td>\n",
       "      <td>8.362567</td>\n",
       "      <td>17.735891</td>\n",
       "      <td>10.866620</td>\n",
       "    </tr>\n",
       "    <tr>\n",
       "      <th>45</th>\n",
       "      <td>2019-05-31</td>\n",
       "      <td>7309.694113</td>\n",
       "      <td>28.813874</td>\n",
       "      <td>220.185854</td>\n",
       "      <td>24.784720</td>\n",
       "      <td>8.362567</td>\n",
       "      <td>17.735891</td>\n",
       "      <td>9.522000</td>\n",
       "    </tr>\n",
       "    <tr>\n",
       "      <th>46</th>\n",
       "      <td>2019-06-30</td>\n",
       "      <td>9415.900144</td>\n",
       "      <td>13.311909</td>\n",
       "      <td>274.758301</td>\n",
       "      <td>-9.633424</td>\n",
       "      <td>8.362567</td>\n",
       "      <td>17.735891</td>\n",
       "      <td>3.860698</td>\n",
       "    </tr>\n",
       "    <tr>\n",
       "      <th>47</th>\n",
       "      <td>2019-07-31</td>\n",
       "      <td>10669.336223</td>\n",
       "      <td>-0.244512</td>\n",
       "      <td>248.289668</td>\n",
       "      <td>-19.522594</td>\n",
       "      <td>8.362567</td>\n",
       "      <td>17.735891</td>\n",
       "      <td>2.234069</td>\n",
       "    </tr>\n",
       "    <tr>\n",
       "      <th>48</th>\n",
       "      <td>2019-08-31</td>\n",
       "      <td>10643.248393</td>\n",
       "      <td>-7.790672</td>\n",
       "      <td>199.817083</td>\n",
       "      <td>-6.918837</td>\n",
       "      <td>8.362567</td>\n",
       "      <td>17.735891</td>\n",
       "      <td>4.307210</td>\n",
       "    </tr>\n",
       "    <tr>\n",
       "      <th>49</th>\n",
       "      <td>2019-09-30</td>\n",
       "      <td>9814.067782</td>\n",
       "      <td>-14.287028</td>\n",
       "      <td>185.992064</td>\n",
       "      <td>-3.623804</td>\n",
       "      <td>8.362567</td>\n",
       "      <td>17.735891</td>\n",
       "      <td>4.849197</td>\n",
       "    </tr>\n",
       "    <tr>\n",
       "      <th>50</th>\n",
       "      <td>2019-10-31</td>\n",
       "      <td>8411.929149</td>\n",
       "      <td>-0.455980</td>\n",
       "      <td>179.252077</td>\n",
       "      <td>-3.124162</td>\n",
       "      <td>8.362567</td>\n",
       "      <td>17.735891</td>\n",
       "      <td>4.931381</td>\n",
       "    </tr>\n",
       "    <tr>\n",
       "      <th>51</th>\n",
       "      <td>2019-11-30</td>\n",
       "      <td>8373.572452</td>\n",
       "      <td>-13.011882</td>\n",
       "      <td>173.651951</td>\n",
       "      <td>-20.506678</td>\n",
       "      <td>8.362567</td>\n",
       "      <td>17.735891</td>\n",
       "      <td>2.072201</td>\n",
       "    </tr>\n",
       "    <tr>\n",
       "      <th>52</th>\n",
       "      <td>2019-12-31</td>\n",
       "      <td>7284.013046</td>\n",
       "      <td>15.173743</td>\n",
       "      <td>138.041703</td>\n",
       "      <td>13.713983</td>\n",
       "      <td>8.362567</td>\n",
       "      <td>17.735891</td>\n",
       "      <td>7.701019</td>\n",
       "    </tr>\n",
       "    <tr>\n",
       "      <th>53</th>\n",
       "      <td>2020-01-31</td>\n",
       "      <td>8389.270450</td>\n",
       "      <td>14.798090</td>\n",
       "      <td>156.972719</td>\n",
       "      <td>52.100498</td>\n",
       "      <td>8.362567</td>\n",
       "      <td>17.735891</td>\n",
       "      <td>14.015063</td>\n",
       "    </tr>\n",
       "    <tr>\n",
       "      <th>54</th>\n",
       "      <td>2020-02-29</td>\n",
       "      <td>9630.722211</td>\n",
       "      <td>-28.655235</td>\n",
       "      <td>238.756287</td>\n",
       "      <td>-32.828473</td>\n",
       "      <td>8.362567</td>\n",
       "      <td>17.735891</td>\n",
       "      <td>0.045438</td>\n",
       "    </tr>\n",
       "    <tr>\n",
       "      <th>55</th>\n",
       "      <td>2020-03-31</td>\n",
       "      <td>6871.016111</td>\n",
       "      <td>5.144235</td>\n",
       "      <td>160.376243</td>\n",
       "      <td>7.214751</td>\n",
       "      <td>8.362567</td>\n",
       "      <td>17.735891</td>\n",
       "      <td>6.631987</td>\n",
       "    </tr>\n",
       "    <tr>\n",
       "      <th>56</th>\n",
       "      <td>2020-04-30</td>\n",
       "      <td>7224.477345</td>\n",
       "      <td>28.218990</td>\n",
       "      <td>171.946989</td>\n",
       "      <td>21.040709</td>\n",
       "      <td>8.362567</td>\n",
       "      <td>17.735891</td>\n",
       "      <td>8.906163</td>\n",
       "    </tr>\n",
       "    <tr>\n",
       "      <th>57</th>\n",
       "      <td>2020-05-31</td>\n",
       "      <td>9263.151881</td>\n",
       "      <td>2.440587</td>\n",
       "      <td>208.125855</td>\n",
       "      <td>13.469433</td>\n",
       "      <td>8.362567</td>\n",
       "      <td>17.735891</td>\n",
       "      <td>7.660794</td>\n",
       "    </tr>\n",
       "    <tr>\n",
       "      <th>58</th>\n",
       "      <td>2020-06-30</td>\n",
       "      <td>9489.227163</td>\n",
       "      <td>1.060915</td>\n",
       "      <td>236.159228</td>\n",
       "      <td>9.843491</td>\n",
       "      <td>8.362567</td>\n",
       "      <td>17.735891</td>\n",
       "      <td>7.064378</td>\n",
       "    </tr>\n",
       "    <tr>\n",
       "      <th>59</th>\n",
       "      <td>2020-07-31</td>\n",
       "      <td>9589.899755</td>\n",
       "      <td>0.000000</td>\n",
       "      <td>259.405541</td>\n",
       "      <td>0.000000</td>\n",
       "      <td>8.362567</td>\n",
       "      <td>17.735891</td>\n",
       "      <td>5.445261</td>\n",
       "    </tr>\n",
       "  </tbody>\n",
       "</table>\n",
       "</div>"
      ],
      "text/plain": [
       "         Date  Bitcoin_Close  Bitcoin_Percent_Change  Ethereum_Close  \\\n",
       "0  2015-08-31     241.751832               -3.373831        1.259649   \n",
       "1  2015-09-30     233.595533               13.382029        0.988966   \n",
       "2  2015-10-31     264.855356               31.725987        0.661104   \n",
       "3  2015-11-30     348.883332               21.663751        0.931352   \n",
       "4  2015-12-31     424.464547               -3.208763        0.886259   \n",
       "5  2016-01-31     410.844485               -1.566581        1.494696   \n",
       "6  2016-02-29     404.408274                2.996353        4.545909   \n",
       "7  2016-03-31     416.525774                4.276716       11.174799   \n",
       "8  2016-04-30     434.339398                6.357935        8.943613   \n",
       "9  2016-05-31     461.954415               39.162879       11.364836   \n",
       "10 2016-06-30     642.869061                2.875709       14.343447   \n",
       "11 2016-07-31     661.356103              -12.364127       11.873155   \n",
       "12 2016-08-31     579.585197                4.531419       11.112815   \n",
       "13 2016-09-30     605.848633                6.223056       12.470140   \n",
       "14 2016-10-31     643.550935               12.865829       12.076323   \n",
       "15 2016-11-30     726.349101               14.003081        9.971589   \n",
       "16 2016-12-31     828.060356               10.489067        7.841040   \n",
       "17 2017-01-31     914.916159               16.134540       10.201401   \n",
       "18 2017-02-28    1062.533672                6.289830       12.370811   \n",
       "19 2017-03-31    1129.365228                6.842408       34.791171   \n",
       "20 2017-04-30    1206.641007               57.079323       50.336560   \n",
       "21 2017-05-31    1895.383529               39.085536      125.748887   \n",
       "22 2017-06-30    2636.204346               -4.430080      313.733601   \n",
       "23 2017-07-31    2519.418386               54.043093      224.124292   \n",
       "24 2017-08-31    3880.989998                4.737098      301.608741   \n",
       "25 2017-09-30    4064.836312               31.864390      293.048068   \n",
       "26 2017-10-31    5360.071604               45.765459      306.246164   \n",
       "27 2017-11-30    7813.132975               95.750809      357.943101   \n",
       "28 2017-12-31   15294.270980              -14.441440      640.209291   \n",
       "29 2018-01-31   13085.558090              -27.614848     1103.646004   \n",
       "30 2018-02-28    9472.001151               -4.554941      873.116318   \n",
       "31 2018-03-31    9040.557097              -11.138257      625.761325   \n",
       "32 2018-04-30    8033.596631                5.195694      521.103667   \n",
       "33 2018-05-31    8450.997732              -19.612951      678.795518   \n",
       "34 2018-06-30    6793.507666                5.193817      520.528231   \n",
       "35 2018-07-31    7146.349990               -6.244027      463.327677   \n",
       "36 2018-08-31    6700.130000               -1.335123      322.050935   \n",
       "37 2018-09-30    6610.675000               -1.899296      227.460833   \n",
       "38 2018-10-31    6485.118710              -16.666905      209.963935   \n",
       "39 2018-11-30    5404.250164              -31.211765      169.047769   \n",
       "40 2018-12-31    3717.488319               -0.428605      108.998097   \n",
       "41 2019-01-31    3701.554973                0.279674      128.174619   \n",
       "42 2019-02-28    3711.907276                7.116606      127.220948   \n",
       "43 2019-03-31    3976.069093               30.240932      137.327039   \n",
       "44 2019-04-30    5178.469425               41.155494      165.603830   \n",
       "45 2019-05-31    7309.694113               28.813874      220.185854   \n",
       "46 2019-06-30    9415.900144               13.311909      274.758301   \n",
       "47 2019-07-31   10669.336223               -0.244512      248.289668   \n",
       "48 2019-08-31   10643.248393               -7.790672      199.817083   \n",
       "49 2019-09-30    9814.067782              -14.287028      185.992064   \n",
       "50 2019-10-31    8411.929149               -0.455980      179.252077   \n",
       "51 2019-11-30    8373.572452              -13.011882      173.651951   \n",
       "52 2019-12-31    7284.013046               15.173743      138.041703   \n",
       "53 2020-01-31    8389.270450               14.798090      156.972719   \n",
       "54 2020-02-29    9630.722211              -28.655235      238.756287   \n",
       "55 2020-03-31    6871.016111                5.144235      160.376243   \n",
       "56 2020-04-30    7224.477345               28.218990      171.946989   \n",
       "57 2020-05-31    9263.151881                2.440587      208.125855   \n",
       "58 2020-06-30    9489.227163                1.060915      236.159228   \n",
       "59 2020-07-31    9589.899755                0.000000      259.405541   \n",
       "\n",
       "    Ethereum_Percent_Change  Bitcoin_Average  Ethereum_Average  Prediction  \n",
       "0                -21.488746         8.362567         17.735891    1.910664  \n",
       "1                -33.152008         8.362567         17.735891   -0.007779  \n",
       "2                 40.878313         8.362567         17.735891   12.169171  \n",
       "3                 -4.841650         8.362567         17.735891    4.648878  \n",
       "4                 68.652269         8.362567         17.735891   16.737597  \n",
       "5                204.135973         8.362567         17.735891   39.022766  \n",
       "6                145.820987         8.362567         17.735891   29.430768  \n",
       "7                -19.966232         8.362567         17.735891    2.161096  \n",
       "8                 27.072089         8.362567         17.735891    9.898240  \n",
       "9                 26.209011         8.362567         17.735891    9.756276  \n",
       "10               -17.222443         8.362567         17.735891    2.612411  \n",
       "11                -6.403852         8.362567         17.735891    4.391918  \n",
       "12                12.214047         8.362567         17.735891    7.454301  \n",
       "13                -3.158083         8.362567         17.735891    4.925801  \n",
       "14               -17.428600         8.362567         17.735891    2.578501  \n",
       "15               -21.366188         8.362567         17.735891    1.930823  \n",
       "16                30.102647         8.362567         17.735891   10.396725  \n",
       "17                21.265801         8.362567         17.735891    8.943187  \n",
       "18               181.235980         8.362567         17.735891   35.256038  \n",
       "19                44.681997         8.362567         17.735891   12.794823  \n",
       "20               149.816211         8.362567         17.735891   30.087927  \n",
       "21               149.492149         8.362567         17.735891   30.034623  \n",
       "22               -28.562229         8.362567         17.735891    0.747175  \n",
       "23                34.572089         8.362567         17.735891   11.131885  \n",
       "24                -2.838337         8.362567         17.735891    4.978395  \n",
       "25                 4.503731         8.362567         17.735891    6.186062  \n",
       "26                16.880844         8.362567         17.735891    8.221924  \n",
       "27                78.857838         8.362567         17.735891   18.416270  \n",
       "28                72.388314         8.362567         17.735891   17.352124  \n",
       "29               -20.888010         8.362567         17.735891    2.009477  \n",
       "30               -28.330131         8.362567         17.735891    0.785352  \n",
       "31               -16.724852         8.362567         17.735891    2.694258  \n",
       "32                30.261129         8.362567         17.735891   10.422793  \n",
       "33               -23.315900         8.362567         17.735891    1.610123  \n",
       "34               -10.988944         8.362567         17.735891    3.637734  \n",
       "35               -30.491755         8.362567         17.735891    0.429795  \n",
       "36               -29.371162         8.362567         17.735891    0.614117  \n",
       "37                -7.692268         8.362567         17.735891    4.179991  \n",
       "38               -19.487236         8.362567         17.735891    2.239885  \n",
       "39               -35.522310         8.362567         17.735891   -0.397660  \n",
       "40                17.593447         8.362567         17.735891    8.339137  \n",
       "41                -0.744040         8.362567         17.735891    5.322877  \n",
       "42                 7.943732         8.362567         17.735891    6.751894  \n",
       "43                20.590840         8.362567         17.735891    8.832166  \n",
       "44                32.959397         8.362567         17.735891   10.866620  \n",
       "45                24.784720         8.362567         17.735891    9.522000  \n",
       "46                -9.633424         8.362567         17.735891    3.860698  \n",
       "47               -19.522594         8.362567         17.735891    2.234069  \n",
       "48                -6.918837         8.362567         17.735891    4.307210  \n",
       "49                -3.623804         8.362567         17.735891    4.849197  \n",
       "50                -3.124162         8.362567         17.735891    4.931381  \n",
       "51               -20.506678         8.362567         17.735891    2.072201  \n",
       "52                13.713983         8.362567         17.735891    7.701019  \n",
       "53                52.100498         8.362567         17.735891   14.015063  \n",
       "54               -32.828473         8.362567         17.735891    0.045438  \n",
       "55                 7.214751         8.362567         17.735891    6.631987  \n",
       "56                21.040709         8.362567         17.735891    8.906163  \n",
       "57                13.469433         8.362567         17.735891    7.660794  \n",
       "58                 9.843491         8.362567         17.735891    7.064378  \n",
       "59                 0.000000         8.362567         17.735891    5.445261  "
      ]
     },
     "execution_count": 66,
     "metadata": {},
     "output_type": "execute_result"
    }
   ],
   "source": [
    "Bitcoin_Ethereum"
   ]
  },
  {
   "cell_type": "code",
   "execution_count": 67,
   "metadata": {},
   "outputs": [
    {
     "data": {
      "text/html": [
       "<table class=\"simpletable\">\n",
       "<caption>OLS Regression Results</caption>\n",
       "<tr>\n",
       "  <th>Dep. Variable:</th>    <td>Bitcoin_Percent_Change</td> <th>  R-squared:         </th> <td>   0.153</td>\n",
       "</tr>\n",
       "<tr>\n",
       "  <th>Model:</th>                      <td>OLS</td>          <th>  Adj. R-squared:    </th> <td>   0.138</td>\n",
       "</tr>\n",
       "<tr>\n",
       "  <th>Method:</th>                <td>Least Squares</td>     <th>  F-statistic:       </th> <td>   10.44</td>\n",
       "</tr>\n",
       "<tr>\n",
       "  <th>Date:</th>                <td>Mon, 15 Mar 2021</td>    <th>  Prob (F-statistic):</th>  <td>0.00203</td>\n",
       "</tr>\n",
       "<tr>\n",
       "  <th>Time:</th>                    <td>17:41:28</td>        <th>  Log-Likelihood:    </th> <td> -265.80</td>\n",
       "</tr>\n",
       "<tr>\n",
       "  <th>No. Observations:</th>         <td>    60</td>         <th>  AIC:               </th> <td>   535.6</td>\n",
       "</tr>\n",
       "<tr>\n",
       "  <th>Df Residuals:</th>             <td>    58</td>         <th>  BIC:               </th> <td>   539.8</td>\n",
       "</tr>\n",
       "<tr>\n",
       "  <th>Df Model:</th>                 <td>     1</td>         <th>                     </th>     <td> </td>   \n",
       "</tr>\n",
       "<tr>\n",
       "  <th>Covariance Type:</th>         <td>nonrobust</td>       <th>                     </th>     <td> </td>   \n",
       "</tr>\n",
       "</table>\n",
       "<table class=\"simpletable\">\n",
       "<tr>\n",
       "             <td></td>                <th>coef</th>     <th>std err</th>      <th>t</th>      <th>P>|t|</th>  <th>[0.025</th>    <th>0.975]</th>  \n",
       "</tr>\n",
       "<tr>\n",
       "  <th>Intercept</th>               <td>    5.4453</td> <td>    2.815</td> <td>    1.934</td> <td> 0.058</td> <td>   -0.190</td> <td>   11.081</td>\n",
       "</tr>\n",
       "<tr>\n",
       "  <th>Ethereum_Percent_Change</th> <td>    0.1645</td> <td>    0.051</td> <td>    3.232</td> <td> 0.002</td> <td>    0.063</td> <td>    0.266</td>\n",
       "</tr>\n",
       "</table>\n",
       "<table class=\"simpletable\">\n",
       "<tr>\n",
       "  <th>Omnibus:</th>       <td>14.772</td> <th>  Durbin-Watson:     </th> <td>   1.408</td>\n",
       "</tr>\n",
       "<tr>\n",
       "  <th>Prob(Omnibus):</th> <td> 0.001</td> <th>  Jarque-Bera (JB):  </th> <td>  20.028</td>\n",
       "</tr>\n",
       "<tr>\n",
       "  <th>Skew:</th>          <td> 0.918</td> <th>  Prob(JB):          </th> <td>4.48e-05</td>\n",
       "</tr>\n",
       "<tr>\n",
       "  <th>Kurtosis:</th>      <td> 5.155</td> <th>  Cond. No.          </th> <td>    58.4</td>\n",
       "</tr>\n",
       "</table><br/><br/>Warnings:<br/>[1] Standard Errors assume that the covariance matrix of the errors is correctly specified."
      ],
      "text/plain": [
       "<class 'statsmodels.iolib.summary.Summary'>\n",
       "\"\"\"\n",
       "                              OLS Regression Results                              \n",
       "==================================================================================\n",
       "Dep. Variable:     Bitcoin_Percent_Change   R-squared:                       0.153\n",
       "Model:                                OLS   Adj. R-squared:                  0.138\n",
       "Method:                     Least Squares   F-statistic:                     10.44\n",
       "Date:                    Mon, 15 Mar 2021   Prob (F-statistic):            0.00203\n",
       "Time:                            17:41:28   Log-Likelihood:                -265.80\n",
       "No. Observations:                      60   AIC:                             535.6\n",
       "Df Residuals:                          58   BIC:                             539.8\n",
       "Df Model:                               1                                         \n",
       "Covariance Type:                nonrobust                                         \n",
       "===========================================================================================\n",
       "                              coef    std err          t      P>|t|      [0.025      0.975]\n",
       "-------------------------------------------------------------------------------------------\n",
       "Intercept                   5.4453      2.815      1.934      0.058      -0.190      11.081\n",
       "Ethereum_Percent_Change     0.1645      0.051      3.232      0.002       0.063       0.266\n",
       "==============================================================================\n",
       "Omnibus:                       14.772   Durbin-Watson:                   1.408\n",
       "Prob(Omnibus):                  0.001   Jarque-Bera (JB):               20.028\n",
       "Skew:                           0.918   Prob(JB):                     4.48e-05\n",
       "Kurtosis:                       5.155   Cond. No.                         58.4\n",
       "==============================================================================\n",
       "\n",
       "Warnings:\n",
       "[1] Standard Errors assume that the covariance matrix of the errors is correctly specified.\n",
       "\"\"\""
      ]
     },
     "execution_count": 67,
     "metadata": {},
     "output_type": "execute_result"
    }
   ],
   "source": [
    "lm.summary()"
   ]
  },
  {
   "cell_type": "code",
   "execution_count": 68,
   "metadata": {},
   "outputs": [
    {
     "data": {
      "text/plain": [
       "count    60.000000\n",
       "mean      8.362567\n",
       "std       8.690357\n",
       "min      -0.397660\n",
       "25%       2.493847\n",
       "50%       5.815662\n",
       "75%      10.022861\n",
       "max      39.022766\n",
       "Name: Prediction, dtype: float64"
      ]
     },
     "execution_count": 68,
     "metadata": {},
     "output_type": "execute_result"
    }
   ],
   "source": [
    "Bitcoin_Ethereum['Prediction'].describe()"
   ]
  },
  {
   "cell_type": "code",
   "execution_count": 69,
   "metadata": {},
   "outputs": [
    {
     "name": "stdout",
     "output_type": "stream",
     "text": [
      "10.3803\n"
     ]
    }
   ],
   "source": [
    "# This is just a reminder of how the regression works.\n",
    "# We make a prediction for X using the mean, min and max numbers from the stats in Bitcoin_Ethereum\n",
    "b_0 = 5.4453\n",
    "b_1 = 0.1645\n",
    "X = 30\n",
    "Vorhersage = b_0 + b_1*(X)\n",
    "print(Vorhersage)"
   ]
  },
  {
   "cell_type": "code",
   "execution_count": 70,
   "metadata": {},
   "outputs": [
    {
     "data": {
      "image/png": "[encoded data removed]",
      "text/plain": [
       "<Figure size 360x360 with 1 Axes>"
      ]
     },
     "metadata": {},
     "output_type": "display_data"
    }
   ],
   "source": [
    "# Plot regression line \n",
    "sns.lmplot(x='Bitcoin_Percent_Change', y='Ethereum_Percent_Change', data=Bitcoin_Ethereum, line_kws={'color':'red'}, height=5, ci=None, );"
   ]
  },
  {
   "cell_type": "code",
   "execution_count": 71,
   "metadata": {},
   "outputs": [
    {
     "data": {
      "text/html": [
       "<table class=\"simpletable\">\n",
       "<caption>OLS Regression Results</caption>\n",
       "<tr>\n",
       "  <th>Dep. Variable:</th>    <td>Bitcoin_Percent_Change</td> <th>  R-squared:         </th> <td>   0.153</td>\n",
       "</tr>\n",
       "<tr>\n",
       "  <th>Model:</th>                      <td>OLS</td>          <th>  Adj. R-squared:    </th> <td>   0.138</td>\n",
       "</tr>\n",
       "<tr>\n",
       "  <th>Method:</th>                <td>Least Squares</td>     <th>  F-statistic:       </th> <td>   10.44</td>\n",
       "</tr>\n",
       "<tr>\n",
       "  <th>Date:</th>                <td>Mon, 15 Mar 2021</td>    <th>  Prob (F-statistic):</th>  <td>0.00203</td>\n",
       "</tr>\n",
       "<tr>\n",
       "  <th>Time:</th>                    <td>17:41:31</td>        <th>  Log-Likelihood:    </th> <td> -265.80</td>\n",
       "</tr>\n",
       "<tr>\n",
       "  <th>No. Observations:</th>         <td>    60</td>         <th>  AIC:               </th> <td>   535.6</td>\n",
       "</tr>\n",
       "<tr>\n",
       "  <th>Df Residuals:</th>             <td>    58</td>         <th>  BIC:               </th> <td>   539.8</td>\n",
       "</tr>\n",
       "<tr>\n",
       "  <th>Df Model:</th>                 <td>     1</td>         <th>                     </th>     <td> </td>   \n",
       "</tr>\n",
       "<tr>\n",
       "  <th>Covariance Type:</th>         <td>nonrobust</td>       <th>                     </th>     <td> </td>   \n",
       "</tr>\n",
       "</table>\n",
       "<table class=\"simpletable\">\n",
       "<tr>\n",
       "             <td></td>                <th>coef</th>     <th>std err</th>      <th>t</th>      <th>P>|t|</th>  <th>[0.025</th>    <th>0.975]</th>  \n",
       "</tr>\n",
       "<tr>\n",
       "  <th>Intercept</th>               <td>    5.4453</td> <td>    2.815</td> <td>    1.934</td> <td> 0.058</td> <td>   -0.190</td> <td>   11.081</td>\n",
       "</tr>\n",
       "<tr>\n",
       "  <th>Ethereum_Percent_Change</th> <td>    0.1645</td> <td>    0.051</td> <td>    3.232</td> <td> 0.002</td> <td>    0.063</td> <td>    0.266</td>\n",
       "</tr>\n",
       "</table>\n",
       "<table class=\"simpletable\">\n",
       "<tr>\n",
       "  <th>Omnibus:</th>       <td>14.772</td> <th>  Durbin-Watson:     </th> <td>   1.408</td>\n",
       "</tr>\n",
       "<tr>\n",
       "  <th>Prob(Omnibus):</th> <td> 0.001</td> <th>  Jarque-Bera (JB):  </th> <td>  20.028</td>\n",
       "</tr>\n",
       "<tr>\n",
       "  <th>Skew:</th>          <td> 0.918</td> <th>  Prob(JB):          </th> <td>4.48e-05</td>\n",
       "</tr>\n",
       "<tr>\n",
       "  <th>Kurtosis:</th>      <td> 5.155</td> <th>  Cond. No.          </th> <td>    58.4</td>\n",
       "</tr>\n",
       "</table><br/><br/>Warnings:<br/>[1] Standard Errors assume that the covariance matrix of the errors is correctly specified."
      ],
      "text/plain": [
       "<class 'statsmodels.iolib.summary.Summary'>\n",
       "\"\"\"\n",
       "                              OLS Regression Results                              \n",
       "==================================================================================\n",
       "Dep. Variable:     Bitcoin_Percent_Change   R-squared:                       0.153\n",
       "Model:                                OLS   Adj. R-squared:                  0.138\n",
       "Method:                     Least Squares   F-statistic:                     10.44\n",
       "Date:                    Mon, 15 Mar 2021   Prob (F-statistic):            0.00203\n",
       "Time:                            17:41:31   Log-Likelihood:                -265.80\n",
       "No. Observations:                      60   AIC:                             535.6\n",
       "Df Residuals:                          58   BIC:                             539.8\n",
       "Df Model:                               1                                         \n",
       "Covariance Type:                nonrobust                                         \n",
       "===========================================================================================\n",
       "                              coef    std err          t      P>|t|      [0.025      0.975]\n",
       "-------------------------------------------------------------------------------------------\n",
       "Intercept                   5.4453      2.815      1.934      0.058      -0.190      11.081\n",
       "Ethereum_Percent_Change     0.1645      0.051      3.232      0.002       0.063       0.266\n",
       "==============================================================================\n",
       "Omnibus:                       14.772   Durbin-Watson:                   1.408\n",
       "Prob(Omnibus):                  0.001   Jarque-Bera (JB):               20.028\n",
       "Skew:                           0.918   Prob(JB):                     4.48e-05\n",
       "Kurtosis:                       5.155   Cond. No.                         58.4\n",
       "==============================================================================\n",
       "\n",
       "Warnings:\n",
       "[1] Standard Errors assume that the covariance matrix of the errors is correctly specified.\n",
       "\"\"\""
      ]
     },
     "execution_count": 71,
     "metadata": {},
     "output_type": "execute_result"
    }
   ],
   "source": [
    "# Regression results overview\n",
    "lm.summary()"
   ]
  },
  {
   "cell_type": "markdown",
   "metadata": {},
   "source": [
    "The conidtion no "
   ]
  },
  {
   "cell_type": "markdown",
   "metadata": {},
   "source": [
    "### Measuring the quality of fit: errors"
   ]
  },
  {
   "cell_type": "code",
   "execution_count": 72,
   "metadata": {},
   "outputs": [
    {
     "data": {
      "text/html": [
       "<div>\n",
       "<style scoped>\n",
       "    .dataframe tbody tr th:only-of-type {\n",
       "        vertical-align: middle;\n",
       "    }\n",
       "\n",
       "    .dataframe tbody tr th {\n",
       "        vertical-align: top;\n",
       "    }\n",
       "\n",
       "    .dataframe thead th {\n",
       "        text-align: right;\n",
       "    }\n",
       "</style>\n",
       "<table border=\"1\" class=\"dataframe\">\n",
       "  <thead>\n",
       "    <tr style=\"text-align: right;\">\n",
       "      <th></th>\n",
       "      <th>Date</th>\n",
       "      <th>Bitcoin_Close</th>\n",
       "      <th>Bitcoin_Percent_Change</th>\n",
       "      <th>Ethereum_Close</th>\n",
       "      <th>Ethereum_Percent_Change</th>\n",
       "      <th>Bitcoin_Average</th>\n",
       "      <th>Ethereum_Average</th>\n",
       "      <th>Prediction</th>\n",
       "      <th>Error</th>\n",
       "    </tr>\n",
       "  </thead>\n",
       "  <tbody>\n",
       "    <tr>\n",
       "      <th>0</th>\n",
       "      <td>2015-08-31</td>\n",
       "      <td>241.751832</td>\n",
       "      <td>-3.373831</td>\n",
       "      <td>1.259649</td>\n",
       "      <td>-21.488746</td>\n",
       "      <td>8.362567</td>\n",
       "      <td>17.735891</td>\n",
       "      <td>1.910664</td>\n",
       "      <td>-11.736398</td>\n",
       "    </tr>\n",
       "    <tr>\n",
       "      <th>1</th>\n",
       "      <td>2015-09-30</td>\n",
       "      <td>233.595533</td>\n",
       "      <td>13.382029</td>\n",
       "      <td>0.988966</td>\n",
       "      <td>-33.152008</td>\n",
       "      <td>8.362567</td>\n",
       "      <td>17.735891</td>\n",
       "      <td>-0.007779</td>\n",
       "      <td>5.019462</td>\n",
       "    </tr>\n",
       "    <tr>\n",
       "      <th>2</th>\n",
       "      <td>2015-10-31</td>\n",
       "      <td>264.855356</td>\n",
       "      <td>31.725987</td>\n",
       "      <td>0.661104</td>\n",
       "      <td>40.878313</td>\n",
       "      <td>8.362567</td>\n",
       "      <td>17.735891</td>\n",
       "      <td>12.169171</td>\n",
       "      <td>23.363421</td>\n",
       "    </tr>\n",
       "    <tr>\n",
       "      <th>3</th>\n",
       "      <td>2015-11-30</td>\n",
       "      <td>348.883332</td>\n",
       "      <td>21.663751</td>\n",
       "      <td>0.931352</td>\n",
       "      <td>-4.841650</td>\n",
       "      <td>8.362567</td>\n",
       "      <td>17.735891</td>\n",
       "      <td>4.648878</td>\n",
       "      <td>13.301184</td>\n",
       "    </tr>\n",
       "    <tr>\n",
       "      <th>4</th>\n",
       "      <td>2015-12-31</td>\n",
       "      <td>424.464547</td>\n",
       "      <td>-3.208763</td>\n",
       "      <td>0.886259</td>\n",
       "      <td>68.652269</td>\n",
       "      <td>8.362567</td>\n",
       "      <td>17.735891</td>\n",
       "      <td>16.737597</td>\n",
       "      <td>-11.571330</td>\n",
       "    </tr>\n",
       "  </tbody>\n",
       "</table>\n",
       "</div>"
      ],
      "text/plain": [
       "        Date  Bitcoin_Close  Bitcoin_Percent_Change  Ethereum_Close  \\\n",
       "0 2015-08-31     241.751832               -3.373831        1.259649   \n",
       "1 2015-09-30     233.595533               13.382029        0.988966   \n",
       "2 2015-10-31     264.855356               31.725987        0.661104   \n",
       "3 2015-11-30     348.883332               21.663751        0.931352   \n",
       "4 2015-12-31     424.464547               -3.208763        0.886259   \n",
       "\n",
       "   Ethereum_Percent_Change  Bitcoin_Average  Ethereum_Average  Prediction  \\\n",
       "0               -21.488746         8.362567         17.735891    1.910664   \n",
       "1               -33.152008         8.362567         17.735891   -0.007779   \n",
       "2                40.878313         8.362567         17.735891   12.169171   \n",
       "3                -4.841650         8.362567         17.735891    4.648878   \n",
       "4                68.652269         8.362567         17.735891   16.737597   \n",
       "\n",
       "       Error  \n",
       "0 -11.736398  \n",
       "1   5.019462  \n",
       "2  23.363421  \n",
       "3  13.301184  \n",
       "4 -11.571330  "
      ]
     },
     "execution_count": 72,
     "metadata": {},
     "output_type": "execute_result"
    }
   ],
   "source": [
    "Bitcoin_Ethereum = Bitcoin_Ethereum.assign(Error = (Bitcoin_Ethereum['Bitcoin_Percent_Change'] - Bitcoin_Ethereum['Bitcoin_Average']))\n",
    "Bitcoin_Ethereum.head(5)"
   ]
  },
  {
   "cell_type": "code",
   "execution_count": 73,
   "metadata": {},
   "outputs": [
    {
     "data": {
      "text/plain": [
       "9.769962616701378e-14"
      ]
     },
     "execution_count": 73,
     "metadata": {},
     "output_type": "execute_result"
    }
   ],
   "source": [
    "# calculate the sum of the errors \n",
    "Bitcoin_Ethereum.Error.sum()"
   ]
  },
  {
   "cell_type": "code",
   "execution_count": 74,
   "metadata": {},
   "outputs": [
    {
     "data": {
      "image/png": "[encoded data removed]",
      "text/plain": [
       "<Figure size 432x288 with 1 Axes>"
      ]
     },
     "metadata": {},
     "output_type": "display_data"
    }
   ],
   "source": [
    "# create a scatterplot (plt)\n",
    "btc_max = Bitcoin_Ethereum[\"Bitcoin_Percent_Change\"].max()\n",
    "btc_min = Bitcoin_Ethereum[\"Bitcoin_Percent_Change\"].min()\n",
    "plt = sns.scatterplot(x=\"Bitcoin_Percent_Change\", y=\"Ethereum_Percent_Change\",data=Bitcoin_Ethereum);\n",
    "plt.set(xlabel='Bitcoin_Percent_Change', ylabel='Ethereum_Percent_Change', title='Error of the model');\n",
    "plt.plot([btc_min, btc_max], [bitcoin_mean, bitcoin_mean], linewidth=2, color='r');\n",
    "num = bitcoin_mean + 1\n",
    "plt.text(1, num,'mean = ' + str(bitcoin_mean), rotation=0, color='r');"
   ]
  },
  {
   "cell_type": "code",
   "execution_count": 75,
   "metadata": {},
   "outputs": [
    {
     "data": {
      "image/png": "[encoded data removed]",
      "text/plain": [
       "<Figure size 432x288 with 1 Axes>"
      ]
     },
     "metadata": {},
     "output_type": "display_data"
    }
   ],
   "source": [
    "# residual plot\n",
    "sns.residplot(x=\"Bitcoin_Average\", y=\"Bitcoin_Percent_Change\", data=Bitcoin_Ethereum, scatter_kws={\"s\": 80});"
   ]
  },
  {
   "cell_type": "code",
   "execution_count": 76,
   "metadata": {},
   "outputs": [
    {
     "data": {
      "text/html": [
       "<div>\n",
       "<style scoped>\n",
       "    .dataframe tbody tr th:only-of-type {\n",
       "        vertical-align: middle;\n",
       "    }\n",
       "\n",
       "    .dataframe tbody tr th {\n",
       "        vertical-align: top;\n",
       "    }\n",
       "\n",
       "    .dataframe thead th {\n",
       "        text-align: right;\n",
       "    }\n",
       "</style>\n",
       "<table border=\"1\" class=\"dataframe\">\n",
       "  <thead>\n",
       "    <tr style=\"text-align: right;\">\n",
       "      <th></th>\n",
       "      <th>Date</th>\n",
       "      <th>Bitcoin_Close</th>\n",
       "      <th>Bitcoin_Percent_Change</th>\n",
       "      <th>Ethereum_Close</th>\n",
       "      <th>Ethereum_Percent_Change</th>\n",
       "      <th>Bitcoin_Average</th>\n",
       "      <th>Ethereum_Average</th>\n",
       "      <th>Prediction</th>\n",
       "      <th>Error</th>\n",
       "      <th>Error_Sq</th>\n",
       "    </tr>\n",
       "  </thead>\n",
       "  <tbody>\n",
       "    <tr>\n",
       "      <th>0</th>\n",
       "      <td>2015-08-31</td>\n",
       "      <td>241.751832</td>\n",
       "      <td>-3.373831</td>\n",
       "      <td>1.259649</td>\n",
       "      <td>-21.488746</td>\n",
       "      <td>8.362567</td>\n",
       "      <td>17.735891</td>\n",
       "      <td>1.910664</td>\n",
       "      <td>-11.736398</td>\n",
       "      <td>137.743041</td>\n",
       "    </tr>\n",
       "    <tr>\n",
       "      <th>1</th>\n",
       "      <td>2015-09-30</td>\n",
       "      <td>233.595533</td>\n",
       "      <td>13.382029</td>\n",
       "      <td>0.988966</td>\n",
       "      <td>-33.152008</td>\n",
       "      <td>8.362567</td>\n",
       "      <td>17.735891</td>\n",
       "      <td>-0.007779</td>\n",
       "      <td>5.019462</td>\n",
       "      <td>25.195002</td>\n",
       "    </tr>\n",
       "    <tr>\n",
       "      <th>2</th>\n",
       "      <td>2015-10-31</td>\n",
       "      <td>264.855356</td>\n",
       "      <td>31.725987</td>\n",
       "      <td>0.661104</td>\n",
       "      <td>40.878313</td>\n",
       "      <td>8.362567</td>\n",
       "      <td>17.735891</td>\n",
       "      <td>12.169171</td>\n",
       "      <td>23.363421</td>\n",
       "      <td>545.849423</td>\n",
       "    </tr>\n",
       "    <tr>\n",
       "      <th>3</th>\n",
       "      <td>2015-11-30</td>\n",
       "      <td>348.883332</td>\n",
       "      <td>21.663751</td>\n",
       "      <td>0.931352</td>\n",
       "      <td>-4.841650</td>\n",
       "      <td>8.362567</td>\n",
       "      <td>17.735891</td>\n",
       "      <td>4.648878</td>\n",
       "      <td>13.301184</td>\n",
       "      <td>176.921492</td>\n",
       "    </tr>\n",
       "    <tr>\n",
       "      <th>4</th>\n",
       "      <td>2015-12-31</td>\n",
       "      <td>424.464547</td>\n",
       "      <td>-3.208763</td>\n",
       "      <td>0.886259</td>\n",
       "      <td>68.652269</td>\n",
       "      <td>8.362567</td>\n",
       "      <td>17.735891</td>\n",
       "      <td>16.737597</td>\n",
       "      <td>-11.571330</td>\n",
       "      <td>133.895677</td>\n",
       "    </tr>\n",
       "  </tbody>\n",
       "</table>\n",
       "</div>"
      ],
      "text/plain": [
       "        Date  Bitcoin_Close  Bitcoin_Percent_Change  Ethereum_Close  \\\n",
       "0 2015-08-31     241.751832               -3.373831        1.259649   \n",
       "1 2015-09-30     233.595533               13.382029        0.988966   \n",
       "2 2015-10-31     264.855356               31.725987        0.661104   \n",
       "3 2015-11-30     348.883332               21.663751        0.931352   \n",
       "4 2015-12-31     424.464547               -3.208763        0.886259   \n",
       "\n",
       "   Ethereum_Percent_Change  Bitcoin_Average  Ethereum_Average  Prediction  \\\n",
       "0               -21.488746         8.362567         17.735891    1.910664   \n",
       "1               -33.152008         8.362567         17.735891   -0.007779   \n",
       "2                40.878313         8.362567         17.735891   12.169171   \n",
       "3                -4.841650         8.362567         17.735891    4.648878   \n",
       "4                68.652269         8.362567         17.735891   16.737597   \n",
       "\n",
       "       Error    Error_Sq  \n",
       "0 -11.736398  137.743041  \n",
       "1   5.019462   25.195002  \n",
       "2  23.363421  545.849423  \n",
       "3  13.301184  176.921492  \n",
       "4 -11.571330  133.895677  "
      ]
     },
     "execution_count": 76,
     "metadata": {},
     "output_type": "execute_result"
    }
   ],
   "source": [
    "# calculate squared error and assign it to dataframe\n",
    "Bitcoin_Ethereum = Bitcoin_Ethereum.assign(Error_Sq = (Bitcoin_Ethereum['Bitcoin_Percent_Change'] - Bitcoin_Ethereum['Bitcoin_Average'])**2)\n",
    "Bitcoin_Ethereum.head(5)"
   ]
  },
  {
   "cell_type": "code",
   "execution_count": 77,
   "metadata": {},
   "outputs": [
    {
     "name": "stdout",
     "output_type": "stream",
     "text": [
      "Sum of squared error (SS_T) of model 1: 29201.9233451761\n"
     ]
    }
   ],
   "source": [
    "# calculate sum of squared error (which is in case of the mean the total error)\n",
    "SS_T = Bitcoin_Ethereum.Error_Sq.sum()\n",
    "# print output\n",
    "print('Sum of squared error (SS_T) of model 1:', SS_T)"
   ]
  },
  {
   "cell_type": "markdown",
   "metadata": {},
   "source": [
    "### Model 2: Linear Regression"
   ]
  },
  {
   "cell_type": "code",
   "execution_count": 78,
   "metadata": {},
   "outputs": [
    {
     "data": {
      "text/plain": [
       "3.552713678800501e-15"
      ]
     },
     "execution_count": 78,
     "metadata": {},
     "output_type": "execute_result"
    }
   ],
   "source": [
    "lm.resid.sum()"
   ]
  },
  {
   "cell_type": "code",
   "execution_count": 79,
   "metadata": {},
   "outputs": [
    {
     "data": {
      "text/html": [
       "<div>\n",
       "<style scoped>\n",
       "    .dataframe tbody tr th:only-of-type {\n",
       "        vertical-align: middle;\n",
       "    }\n",
       "\n",
       "    .dataframe tbody tr th {\n",
       "        vertical-align: top;\n",
       "    }\n",
       "\n",
       "    .dataframe thead th {\n",
       "        text-align: right;\n",
       "    }\n",
       "</style>\n",
       "<table border=\"1\" class=\"dataframe\">\n",
       "  <thead>\n",
       "    <tr style=\"text-align: right;\">\n",
       "      <th></th>\n",
       "      <th>Date</th>\n",
       "      <th>Bitcoin_Close</th>\n",
       "      <th>Bitcoin_Percent_Change</th>\n",
       "      <th>Ethereum_Close</th>\n",
       "      <th>Ethereum_Percent_Change</th>\n",
       "      <th>Bitcoin_Average</th>\n",
       "      <th>Ethereum_Average</th>\n",
       "      <th>Prediction</th>\n",
       "      <th>Error</th>\n",
       "      <th>Error_Sq</th>\n",
       "      <th>error_2</th>\n",
       "      <th>error_sq_2</th>\n",
       "    </tr>\n",
       "  </thead>\n",
       "  <tbody>\n",
       "    <tr>\n",
       "      <th>0</th>\n",
       "      <td>2015-08-31</td>\n",
       "      <td>241.751832</td>\n",
       "      <td>-3.373831</td>\n",
       "      <td>1.259649</td>\n",
       "      <td>-21.488746</td>\n",
       "      <td>8.362567</td>\n",
       "      <td>17.735891</td>\n",
       "      <td>1.910664</td>\n",
       "      <td>-11.736398</td>\n",
       "      <td>137.743041</td>\n",
       "      <td>-5.284496</td>\n",
       "      <td>27.925893</td>\n",
       "    </tr>\n",
       "    <tr>\n",
       "      <th>1</th>\n",
       "      <td>2015-09-30</td>\n",
       "      <td>233.595533</td>\n",
       "      <td>13.382029</td>\n",
       "      <td>0.988966</td>\n",
       "      <td>-33.152008</td>\n",
       "      <td>8.362567</td>\n",
       "      <td>17.735891</td>\n",
       "      <td>-0.007779</td>\n",
       "      <td>5.019462</td>\n",
       "      <td>25.195002</td>\n",
       "      <td>13.389808</td>\n",
       "      <td>179.286957</td>\n",
       "    </tr>\n",
       "    <tr>\n",
       "      <th>2</th>\n",
       "      <td>2015-10-31</td>\n",
       "      <td>264.855356</td>\n",
       "      <td>31.725987</td>\n",
       "      <td>0.661104</td>\n",
       "      <td>40.878313</td>\n",
       "      <td>8.362567</td>\n",
       "      <td>17.735891</td>\n",
       "      <td>12.169171</td>\n",
       "      <td>23.363421</td>\n",
       "      <td>545.849423</td>\n",
       "      <td>19.556817</td>\n",
       "      <td>382.469086</td>\n",
       "    </tr>\n",
       "    <tr>\n",
       "      <th>3</th>\n",
       "      <td>2015-11-30</td>\n",
       "      <td>348.883332</td>\n",
       "      <td>21.663751</td>\n",
       "      <td>0.931352</td>\n",
       "      <td>-4.841650</td>\n",
       "      <td>8.362567</td>\n",
       "      <td>17.735891</td>\n",
       "      <td>4.648878</td>\n",
       "      <td>13.301184</td>\n",
       "      <td>176.921492</td>\n",
       "      <td>17.014873</td>\n",
       "      <td>289.505890</td>\n",
       "    </tr>\n",
       "    <tr>\n",
       "      <th>4</th>\n",
       "      <td>2015-12-31</td>\n",
       "      <td>424.464547</td>\n",
       "      <td>-3.208763</td>\n",
       "      <td>0.886259</td>\n",
       "      <td>68.652269</td>\n",
       "      <td>8.362567</td>\n",
       "      <td>17.735891</td>\n",
       "      <td>16.737597</td>\n",
       "      <td>-11.571330</td>\n",
       "      <td>133.895677</td>\n",
       "      <td>-19.946360</td>\n",
       "      <td>397.857275</td>\n",
       "    </tr>\n",
       "  </tbody>\n",
       "</table>\n",
       "</div>"
      ],
      "text/plain": [
       "        Date  Bitcoin_Close  Bitcoin_Percent_Change  Ethereum_Close  \\\n",
       "0 2015-08-31     241.751832               -3.373831        1.259649   \n",
       "1 2015-09-30     233.595533               13.382029        0.988966   \n",
       "2 2015-10-31     264.855356               31.725987        0.661104   \n",
       "3 2015-11-30     348.883332               21.663751        0.931352   \n",
       "4 2015-12-31     424.464547               -3.208763        0.886259   \n",
       "\n",
       "   Ethereum_Percent_Change  Bitcoin_Average  Ethereum_Average  Prediction  \\\n",
       "0               -21.488746         8.362567         17.735891    1.910664   \n",
       "1               -33.152008         8.362567         17.735891   -0.007779   \n",
       "2                40.878313         8.362567         17.735891   12.169171   \n",
       "3                -4.841650         8.362567         17.735891    4.648878   \n",
       "4                68.652269         8.362567         17.735891   16.737597   \n",
       "\n",
       "       Error    Error_Sq    error_2  error_sq_2  \n",
       "0 -11.736398  137.743041  -5.284496   27.925893  \n",
       "1   5.019462   25.195002  13.389808  179.286957  \n",
       "2  23.363421  545.849423  19.556817  382.469086  \n",
       "3  13.301184  176.921492  17.014873  289.505890  \n",
       "4 -11.571330  133.895677 -19.946360  397.857275  "
      ]
     },
     "execution_count": 79,
     "metadata": {},
     "output_type": "execute_result"
    }
   ],
   "source": [
    "# obtain the residuals from statsmodel (resid)\n",
    "Bitcoin_Ethereum['error_2'] = lm.resid\n",
    "# square the residuals \n",
    "Bitcoin_Ethereum['error_sq_2'] = Bitcoin_Ethereum['error_2']**2\n",
    "# show df\n",
    "Bitcoin_Ethereum.head(5)"
   ]
  },
  {
   "cell_type": "code",
   "execution_count": 80,
   "metadata": {},
   "outputs": [
    {
     "name": "stdout",
     "output_type": "stream",
     "text": [
      "29201.9233451761\n"
     ]
    }
   ],
   "source": [
    "print(SS_T)"
   ]
  },
  {
   "cell_type": "code",
   "execution_count": 81,
   "metadata": {},
   "outputs": [
    {
     "name": "stdout",
     "output_type": "stream",
     "text": [
      "24746.107638165973\n"
     ]
    },
    {
     "data": {
      "text/plain": [
       "24746.107638165973"
      ]
     },
     "execution_count": 81,
     "metadata": {},
     "output_type": "execute_result"
    }
   ],
   "source": [
    "# Sum of squared residuals (SS_R)\n",
    "SS_R = Bitcoin_Ethereum['error_sq_2'].sum()\n",
    "print(SS_R)\n",
    "# SS_R – Sum of squared (whitened) residuals from statsmodel function\n",
    "lm.ssr"
   ]
  },
  {
   "cell_type": "code",
   "execution_count": 82,
   "metadata": {},
   "outputs": [
    {
     "data": {
      "image/png": "[encoded data removed]",
      "text/plain": [
       "<Figure size 360x360 with 1 Axes>"
      ]
     },
     "metadata": {},
     "output_type": "display_data"
    }
   ],
   "source": [
    "# Plot regression line \n",
    "sns.lmplot(x='Bitcoin_Percent_Change', y='Ethereum_Percent_Change', data=Bitcoin_Ethereum, line_kws={'color':'red'}, height=5, ci=None);"
   ]
  },
  {
   "cell_type": "code",
   "execution_count": 83,
   "metadata": {},
   "outputs": [
    {
     "data": {
      "image/png": "[encoded data removed]",
      "text/plain": [
       "<Figure size 432x288 with 1 Axes>"
      ]
     },
     "metadata": {},
     "output_type": "display_data"
    }
   ],
   "source": [
    "sns.residplot(x=\"Bitcoin_Percent_Change\", y=\"Ethereum_Percent_Change\", data=Bitcoin_Ethereum, scatter_kws={\"s\": 80});"
   ]
  },
  {
   "cell_type": "code",
   "execution_count": 84,
   "metadata": {},
   "outputs": [
    {
     "name": "stdout",
     "output_type": "stream",
     "text": [
      "4455.815707010126\n"
     ]
    },
    {
     "data": {
      "text/plain": [
       "4455.815707010126"
      ]
     },
     "execution_count": 84,
     "metadata": {},
     "output_type": "execute_result"
    }
   ],
   "source": [
    "# Explained sum of squares  (SS_M = SS_T - SS_R)\n",
    "SS_M = SS_T - SS_R\n",
    "print(SS_M)\n",
    "# Explained sum of squres (SS_M) from statsmodel function\n",
    "lm.ess"
   ]
  },
  {
   "cell_type": "code",
   "execution_count": 85,
   "metadata": {},
   "outputs": [
    {
     "name": "stdout",
     "output_type": "stream",
     "text": [
      "0.1525863777649491\n"
     ]
    }
   ],
   "source": [
    "# R_Squared: explained sum of squared residuals\n",
    "R_squared = SS_M / SS_T\n",
    "print(R_squared)"
   ]
  },
  {
   "cell_type": "code",
   "execution_count": 86,
   "metadata": {},
   "outputs": [
    {
     "data": {
      "text/plain": [
       "0.1525863777649491"
      ]
     },
     "execution_count": 86,
     "metadata": {},
     "output_type": "execute_result"
    }
   ],
   "source": [
    "# R_Squared of statsmodel\n",
    "lm.rsquared"
   ]
  },
  {
   "cell_type": "code",
   "execution_count": 87,
   "metadata": {},
   "outputs": [
    {
     "data": {
      "text/plain": [
       "0.13797579807124138"
      ]
     },
     "execution_count": 87,
     "metadata": {},
     "output_type": "execute_result"
    }
   ],
   "source": [
    "# Adjusted R_Squared: \n",
    "lm.rsquared_adj"
   ]
  },
  {
   "cell_type": "markdown",
   "metadata": {},
   "source": [
    "### Pearson's Correlation Coefficient"
   ]
  },
  {
   "cell_type": "code",
   "execution_count": 88,
   "metadata": {},
   "outputs": [
    {
     "name": "stdout",
     "output_type": "stream",
     "text": [
      "0.39062306353433496\n"
     ]
    }
   ],
   "source": [
    "# correlation coefficient r\n",
    "r = np.sqrt(R_squared)\n",
    "print(r)"
   ]
  },
  {
   "cell_type": "code",
   "execution_count": 89,
   "metadata": {},
   "outputs": [
    {
     "data": {
      "text/plain": [
       "(0.39062306353433507, 0.002030710583851909)"
      ]
     },
     "execution_count": 89,
     "metadata": {},
     "output_type": "execute_result"
    }
   ],
   "source": [
    "# correlation coefficient with p-value\n",
    "stats.pearsonr(Bitcoin_Ethereum['Bitcoin_Percent_Change'], Bitcoin_Ethereum['Ethereum_Percent_Change'])"
   ]
  },
  {
   "cell_type": "markdown",
   "metadata": {},
   "source": [
    "### Mean squared error, variance and standard deviation"
   ]
  },
  {
   "cell_type": "code",
   "execution_count": 90,
   "metadata": {},
   "outputs": [
    {
     "name": "stdout",
     "output_type": "stream",
     "text": [
      "Mean squared error of the mean: 494.94785330806945\n"
     ]
    }
   ],
   "source": [
    "# calculate mean squared error of the model 1 \"the mean\"\n",
    "# Number of obeservations (lenght of DataFrame)\n",
    "n = len(Bitcoin_Ethereum[\"Bitcoin_Percent_Change\"])\n",
    "# calculate mse\n",
    "mse = (SS_T/(n-1))\n",
    "# print output\n",
    "print('Mean squared error of the mean:', mse)"
   ]
  },
  {
   "cell_type": "code",
   "execution_count": 91,
   "metadata": {},
   "outputs": [
    {
     "name": "stdout",
     "output_type": "stream",
     "text": [
      "Standard deviation (SD) of model 1 = 22.25\n"
     ]
    }
   ],
   "source": [
    "# generate a variable called variance (to illustrate relationship between variance and standard deviation)\n",
    "variance = mse\n",
    "# obtain the standard deviation\n",
    "print(f'Standard deviation (SD) of model 1 = {round(np.sqrt(variance),2)}')"
   ]
  },
  {
   "cell_type": "code",
   "execution_count": 92,
   "metadata": {},
   "outputs": [
    {
     "name": "stdout",
     "output_type": "stream",
     "text": [
      "Total mean squared error (MSE_T): 494.94785330806945\n"
     ]
    }
   ],
   "source": [
    "# Total MSE_T (this is the MSE of the basline mean model) from statsmodel\n",
    "MSE_T = lm.mse_total\n",
    "# print output\n",
    "print('Total mean squared error (MSE_T):', MSE_T)\n",
    "# compare this result to mse... they are the same"
   ]
  },
  {
   "cell_type": "code",
   "execution_count": 93,
   "metadata": {},
   "outputs": [
    {
     "name": "stdout",
     "output_type": "stream",
     "text": [
      "Mean squared error of residuals (MSE_R): 1374.7837576758875\n",
      "Mean squared error od residuals (MSE_R): 426.6570282442409\n"
     ]
    }
   ],
   "source": [
    "# Mean squared error of residuals (MSE_R)\n",
    "MSE_R = SS_R / (20-2)\n",
    "print('Mean squared error of residuals (MSE_R):', MSE_R)\n",
    "# MSE of residuals from statsmodel (preferred)\n",
    "print(f'Mean squared error od residuals (MSE_R): {lm.mse_resid}')"
   ]
  },
  {
   "cell_type": "code",
   "execution_count": 94,
   "metadata": {},
   "outputs": [
    {
     "name": "stdout",
     "output_type": "stream",
     "text": [
      "Standard deviation (SD) of model 2 = 37.08\n"
     ]
    }
   ],
   "source": [
    "# the standard deviation equals the root of the MSE_R\n",
    "print(f'Standard deviation (SD) of model 2 = {round(np.sqrt(MSE_R),2)}')"
   ]
  },
  {
   "cell_type": "markdown",
   "metadata": {},
   "source": [
    "### F-Statistic"
   ]
  },
  {
   "cell_type": "code",
   "execution_count": 95,
   "metadata": {},
   "outputs": [
    {
     "name": "stdout",
     "output_type": "stream",
     "text": [
      "MS_M = 4455.815707010126\n",
      "MS_M = 4455.815707010126\n"
     ]
    }
   ],
   "source": [
    "# Mean squared error of the model (MSE_M)\n",
    "p = 1 # we only have one predictor (height_parents)\n",
    "MS_M = (SS_M / p)\n",
    "print('MS_M =', MS_M)\n",
    "# MSE_M of residuals from statsmodel\n",
    "print(f'MS_M = {lm.mse_model}')"
   ]
  },
  {
   "cell_type": "code",
   "execution_count": 96,
   "metadata": {},
   "outputs": [
    {
     "name": "stdout",
     "output_type": "stream",
     "text": [
      "3.2411029604705353\n"
     ]
    }
   ],
   "source": [
    "MS_R = MSE_R\n",
    "# F-value\n",
    "F_value = (MS_M / MS_R)\n",
    "print(F_value)"
   ]
  },
  {
   "cell_type": "code",
   "execution_count": 97,
   "metadata": {},
   "outputs": [
    {
     "name": "stdout",
     "output_type": "stream",
     "text": [
      "10.443553983738393\n",
      "10.443553983738393\n"
     ]
    }
   ],
   "source": [
    "# statsmodel\n",
    "# Alternative way to obtain F-value (preferred)\n",
    "print(lm.fvalue)\n",
    "# which of course equals\n",
    "F_val = (lm.mse_model / lm.mse_resid)\n",
    "print(F_val)"
   ]
  },
  {
   "cell_type": "markdown",
   "metadata": {},
   "source": [
    "### Standard Error"
   ]
  },
  {
   "cell_type": "code",
   "execution_count": 98,
   "metadata": {},
   "outputs": [
    {
     "name": "stdout",
     "output_type": "stream",
     "text": [
      "2.872130026385961\n"
     ]
    }
   ],
   "source": [
    "# calculate standard error (...we ignore the fact that our sample is small since n < 30) \n",
    "se = Bitcoin_Ethereum['Bitcoin_Percent_Change'].sem()\n",
    "print(se)\n",
    "# assign se to df\n",
    "Bitcoin_Ethereum = Bitcoin_Ethereum.assign(se=se)"
   ]
  },
  {
   "cell_type": "code",
   "execution_count": 99,
   "metadata": {},
   "outputs": [
    {
     "name": "stdout",
     "output_type": "stream",
     "text": [
      "2.872130026385961\n"
     ]
    }
   ],
   "source": [
    "# alternative way to calculate standard error (se)\n",
    "# calculate standard deviation (s)\n",
    "s = Bitcoin_Ethereum['Bitcoin_Percent_Change'].std()\n",
    "# calculate se\n",
    "se = (s/np.sqrt(n))\n",
    "print(se)"
   ]
  },
  {
   "cell_type": "code",
   "execution_count": 100,
   "metadata": {},
   "outputs": [
    {
     "name": "stdout",
     "output_type": "stream",
     "text": [
      "Standard error (SE) od model 2: Intercept                  2.815292\n",
      "Ethereum_Percent_Change    0.050898\n",
      "dtype: float64\n"
     ]
    }
   ],
   "source": [
    "# Get standard error of parameters\n",
    "se_2 = lm.bse\n",
    "print('Standard error (SE) od model 2:', se_2)"
   ]
  },
  {
   "cell_type": "markdown",
   "metadata": {},
   "source": [
    "### Confidence interval"
   ]
  },
  {
   "cell_type": "code",
   "execution_count": 101,
   "metadata": {
    "scrolled": true
   },
   "outputs": [
    {
     "name": "stdout",
     "output_type": "stream",
     "text": [
      "[-0.53199155  0.22752394  1.05902527  0.6029207  -0.52450928 -0.45007187\n",
      " -0.2432416  -0.18520487 -0.09086665  1.39612727 -0.24871022 -0.93950678\n",
      " -0.17365959 -0.09698047  0.20412546  0.25567521  0.09639073  0.3522907\n",
      " -0.09395376 -0.06890628  2.20825012  1.39262147 -0.57986955  2.0706228\n",
      " -0.1643365   1.06529883  1.69541133  3.96116469 -1.03366795 -1.63079679\n",
      " -0.58552929 -0.88394013 -0.14354911 -1.26808403 -0.14363422 -0.66209275\n",
      " -0.43958028 -0.4651533  -1.1345446  -1.79383909 -0.39848931 -0.36638416\n",
      " -0.05647734  0.99171014  1.48644925  0.92702397  0.22434552 -0.39014468\n",
      " -0.73219966 -1.02666874 -0.39973015 -0.96886849  0.30873936  0.29171162\n",
      " -1.67795583 -0.14588165  0.90005887 -0.26843356 -0.33097184 -0.37906134]\n"
     ]
    }
   ],
   "source": [
    "# calculate z-scores\n",
    "z = stats.zscore(Bitcoin_Ethereum.Bitcoin_Percent_Change)\n",
    "print(z)\n",
    "# assign z-scores to df\n",
    "Bitcoin_Ethereum = Bitcoin_Ethereum.assign(z = z)"
   ]
  },
  {
   "cell_type": "code",
   "execution_count": 102,
   "metadata": {},
   "outputs": [
    {
     "data": {
      "image/png": "[encoded data removed]",
      "text/plain": [
       "<Figure size 432x288 with 1 Axes>"
      ]
     },
     "metadata": {},
     "output_type": "display_data"
    }
   ],
   "source": [
    "plt = sns.distplot(Bitcoin_Ethereum.z);\n",
    "# draw a vertical line\n",
    "plt.axvline(1.96, 0, 1, linewidth=2, color='r');\n",
    "# add text\n",
    "plt.text(2.1, 0.3,'z = 1.96', rotation=90, color='r');\n",
    "plt.axvline(-1.96, 0, 1, linewidth=2, color='r');\n",
    "plt.text(-2.2, 0.3,'z = -1.96', rotation=90, color='r');"
   ]
  },
  {
   "cell_type": "code",
   "execution_count": 103,
   "metadata": {},
   "outputs": [
    {
     "name": "stdout",
     "output_type": "stream",
     "text": [
      "Lower boundary of CI 2.733191944254332\n",
      "Upper boundary of CI 13.991941647687298\n"
     ]
    }
   ],
   "source": [
    "# lower boundary\n",
    "lb = (Bitcoin_Ethereum.Bitcoin_Percent_Change.mean() - (1.96*se))\n",
    "# upper boundary\n",
    "up = (Bitcoin_Ethereum.Bitcoin_Percent_Change.mean() + (1.96*se))\n",
    "print('Lower boundary of CI', lb)\n",
    "print('Upper boundary of CI', up)"
   ]
  },
  {
   "cell_type": "code",
   "execution_count": 104,
   "metadata": {},
   "outputs": [
    {
     "data": {
      "text/plain": [
       "14"
      ]
     },
     "execution_count": 104,
     "metadata": {},
     "output_type": "execute_result"
    }
   ],
   "source": [
    "up_1 = round(up)\n",
    "up_1"
   ]
  },
  {
   "cell_type": "code",
   "execution_count": 105,
   "metadata": {},
   "outputs": [],
   "source": [
    "mean = Bitcoin_Ethereum['Bitcoin_Average'][0]\n"
   ]
  },
  {
   "cell_type": "code",
   "execution_count": 149,
   "metadata": {},
   "outputs": [
    {
     "data": {
      "text/plain": [
       "Text(13.991941647687298, 0.005, 'Upper Bound')"
      ]
     },
     "execution_count": 149,
     "metadata": {},
     "output_type": "execute_result"
    },
    {
     "data": {
      "image/png": "[encoded data removed]",
      "text/plain": [
       "<Figure size 432x288 with 1 Axes>"
      ]
     },
     "metadata": {},
     "output_type": "display_data"
    }
   ],
   "source": [
    "# draw limits of confidence intervall\n",
    "plt = sns.distplot(Bitcoin_Ethereum.Bitcoin_Percent_Change);\n",
    "# draw a vertical line to mark the mean \n",
    "plt.axvline(mean, 0, 1, linewidth=1, color='b');\n",
    "# add text\n",
    "plt.text(x = mean, y = .005, s= \"mean\", rotation = 90,color='b');\n",
    "# draw a vertical line to mark the lower limit of the confidence intervall\n",
    "plt.axvline(lb, 0, 1, linewidth=1, color='r');\n",
    "# add text\n",
    "lowers= 'Lower limit = ' + str(lb)\n",
    "highers = ''\n",
    "num_lb = lb\n",
    "\n",
    "plt.text(x = num_lb, y = .005, s= \"Lower Bound\",rotation = 90,color = 'r')\n",
    "# draw a vertical line to mark the upper limit of the confidence intervall\n",
    "plt.axvline(up, 0, 1, linewidth=1, color='r');\n",
    "plt.text(x = up, y = .005, s= \"Upper Bound\",rotation = 90,color = 'r')"
   ]
  },
  {
   "cell_type": "code",
   "execution_count": 150,
   "metadata": {},
   "outputs": [
    {
     "data": {
      "text/html": [
       "<div>\n",
       "<style scoped>\n",
       "    .dataframe tbody tr th:only-of-type {\n",
       "        vertical-align: middle;\n",
       "    }\n",
       "\n",
       "    .dataframe tbody tr th {\n",
       "        vertical-align: top;\n",
       "    }\n",
       "\n",
       "    .dataframe thead th {\n",
       "        text-align: right;\n",
       "    }\n",
       "</style>\n",
       "<table border=\"1\" class=\"dataframe\">\n",
       "  <thead>\n",
       "    <tr style=\"text-align: right;\">\n",
       "      <th></th>\n",
       "      <th>0</th>\n",
       "      <th>1</th>\n",
       "    </tr>\n",
       "  </thead>\n",
       "  <tbody>\n",
       "    <tr>\n",
       "      <th>Intercept</th>\n",
       "      <td>-0.190159</td>\n",
       "      <td>11.080682</td>\n",
       "    </tr>\n",
       "    <tr>\n",
       "      <th>Ethereum_Percent_Change</th>\n",
       "      <td>0.062602</td>\n",
       "      <td>0.266370</td>\n",
       "    </tr>\n",
       "  </tbody>\n",
       "</table>\n",
       "</div>"
      ],
      "text/plain": [
       "                                0          1\n",
       "Intercept               -0.190159  11.080682\n",
       "Ethereum_Percent_Change  0.062602   0.266370"
      ]
     },
     "execution_count": 150,
     "metadata": {},
     "output_type": "execute_result"
    }
   ],
   "source": [
    "# Obtain confidence interval for fitted parameters \n",
    "lm.conf_int(alpha=0.05)"
   ]
  },
  {
   "cell_type": "code",
   "execution_count": 153,
   "metadata": {},
   "outputs": [
    {
     "data": {
      "text/plain": [
       "count     60.000000\n",
       "mean      17.735891\n",
       "std       52.833421\n",
       "min      -35.522310\n",
       "25%      -17.943259\n",
       "50%        2.251865\n",
       "75%       27.829729\n",
       "max      204.135973\n",
       "Name: Ethereum_Percent_Change, dtype: float64"
      ]
     },
     "execution_count": 153,
     "metadata": {},
     "output_type": "execute_result"
    }
   ],
   "source": [
    "Bitcoin_Ethereum['Ethereum_Percent_Change'].describe()"
   ]
  },
  {
   "cell_type": "code",
   "execution_count": 156,
   "metadata": {},
   "outputs": [
    {
     "data": {
      "text/html": [
       "<div>\n",
       "<style scoped>\n",
       "    .dataframe tbody tr th:only-of-type {\n",
       "        vertical-align: middle;\n",
       "    }\n",
       "\n",
       "    .dataframe tbody tr th {\n",
       "        vertical-align: top;\n",
       "    }\n",
       "\n",
       "    .dataframe thead th {\n",
       "        text-align: right;\n",
       "    }\n",
       "</style>\n",
       "<table border=\"1\" class=\"dataframe\">\n",
       "  <thead>\n",
       "    <tr style=\"text-align: right;\">\n",
       "      <th></th>\n",
       "      <th>mean</th>\n",
       "      <th>mean_se</th>\n",
       "      <th>mean_ci_lower</th>\n",
       "      <th>mean_ci_upper</th>\n",
       "      <th>obs_ci_lower</th>\n",
       "      <th>obs_ci_upper</th>\n",
       "    </tr>\n",
       "  </thead>\n",
       "  <tbody>\n",
       "    <tr>\n",
       "      <th>0</th>\n",
       "      <td>7.42</td>\n",
       "      <td>2.68</td>\n",
       "      <td>2.05</td>\n",
       "      <td>12.79</td>\n",
       "      <td>-34.27</td>\n",
       "      <td>49.11</td>\n",
       "    </tr>\n",
       "  </tbody>\n",
       "</table>\n",
       "</div>"
      ],
      "text/plain": [
       "   mean  mean_se  mean_ci_lower  mean_ci_upper  obs_ci_lower  obs_ci_upper\n",
       "0  7.42     2.68           2.05          12.79        -34.27         49.11"
      ]
     },
     "execution_count": 156,
     "metadata": {},
     "output_type": "execute_result"
    }
   ],
   "source": [
    "# Make a prediction for height when parents average height is 168 cm\n",
    "to_predict = pd.DataFrame({'Ethereum_Percent_Change':[12]})\n",
    "results = lm.get_prediction(to_predict)\n",
    "round(results.summary_frame(alpha=0.05),2)"
   ]
  },
  {
   "cell_type": "code",
   "execution_count": 157,
   "metadata": {},
   "outputs": [
    {
     "name": "stderr",
     "output_type": "stream",
     "text": [
      "C:\\Users\\17606\\anaconda3\\lib\\site-packages\\seaborn\\regression.py:574: UserWarning: The `size` parameter has been renamed to `height`; please update your code.\n",
      "  warnings.warn(msg, UserWarning)\n"
     ]
    },
    {
     "data": {
      "image/png": "[encoded data removed]",
      "text/plain": [
       "<Figure size 756x504 with 1 Axes>"
      ]
     },
     "metadata": {},
     "output_type": "display_data"
    }
   ],
   "source": [
    "# Plot regression line with CI 95%\n",
    "sns.lmplot(x='Ethereum_Percent_Change', y='Bitcoin_Percent_Change', data=Bitcoin_Ethereum, order=1, line_kws={'color':'red'}, size=7, aspect=1.5, ci=95);"
   ]
  },
  {
   "cell_type": "markdown",
   "metadata": {},
   "source": [
    "### Confidence intervals in small samples"
   ]
  },
  {
   "cell_type": "code",
   "execution_count": 158,
   "metadata": {},
   "outputs": [
    {
     "name": "stdout",
     "output_type": "stream",
     "text": [
      "2.093024054408263\n",
      "Lower boundary of CI (t-statistics) 2.3511295633567606\n",
      "Upper boundary of CI (t-statistics) 14.37400402858487\n"
     ]
    }
   ],
   "source": [
    "# calculate t-statistic\n",
    "# 95% confidence interval, two tailed test, \n",
    "# p<0.05 (we need to take 0.025 at each side), n=20, df=19\n",
    "t = stats.t.ppf(1-0.025, 19)\n",
    "print(t)\n",
    "# lower boundary\n",
    "lb_t = (Bitcoin_Ethereum.Bitcoin_Percent_Change.mean() - (t*se))\n",
    "# upper boundary\n",
    "up_t = (Bitcoin_Ethereum.Bitcoin_Percent_Change.mean() + (t*se))\n",
    "print('Lower boundary of CI (t-statistics)', lb_t)\n",
    "print('Upper boundary of CI (t-statistics)', up_t)"
   ]
  },
  {
   "cell_type": "code",
   "execution_count": null,
   "metadata": {},
   "outputs": [],
   "source": []
  }
 ],
 "metadata": {
  "kernelspec": {
   "display_name": "Python 3",
   "language": "python",
   "name": "python3"
  },
  "language_info": {
   "codemirror_mode": {
    "name": "ipython",
    "version": 3
   },
   "file_extension": ".py",
   "mimetype": "text/x-python",
   "name": "python",
   "nbconvert_exporter": "python",
   "pygments_lexer": "ipython3",
   "version": "3.7.4"
  }
 },
 "nbformat": 4,
 "nbformat_minor": 4
}
